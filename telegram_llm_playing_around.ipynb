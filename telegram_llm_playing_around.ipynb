{
 "cells": [
  {
   "cell_type": "code",
   "execution_count": 1,
   "id": "28c3ea71",
   "metadata": {},
   "outputs": [],
   "source": [
    "from datetime import datetime\n",
    "import json\n",
    "from typing import List\n",
    "\n",
    "import pandas as pd\n",
    "\n",
    "from IPython.display import display\n",
    "import pyclip\n",
    "\n",
    "import src.config as cfg\n",
    "from  src.read_telega_dump import telega_dump_parse_essential\n",
    "from src.data_classes import TelegaMessage\n",
    "from src.telegram_messages_index import TelegaMessageIndex\n",
    "from src.misc import visualize_topic_tree"
   ]
  },
  {
   "cell_type": "markdown",
   "id": "f0757c70",
   "metadata": {},
   "source": [
    "#### Make import of telegram messages from some chat to json dump file and load dat from it here.  \n",
    "Also need to load it to self made in-memory index"
   ]
  },
  {
   "cell_type": "code",
   "execution_count": 7,
   "id": "addb0330",
   "metadata": {},
   "outputs": [
    {
     "name": "stderr",
     "output_type": "stream",
     "text": [
      "8746it [00:00, 88033.08it/s]\n"
     ]
    },
    {
     "data": {
      "text/plain": [
       "8746"
      ]
     },
     "execution_count": 7,
     "metadata": {},
     "output_type": "execute_result"
    }
   ],
   "source": [
    "dump_path = cfg.messages_dump_path\n",
    "msgs = telega_dump_parse_essential(dump_path=dump_path) # return iterator, not list\n",
    "msgs_list = []\n",
    "mi = TelegaMessageIndex()\n",
    "for msg in msgs:\n",
    "    mi.add_item(msg)\n",
    "    msgs_list.append(msg)\n",
    "# note: for data, taken from \"export chat history\", we do not have number of reactions \n",
    "len(msgs_list)\n",
    "\n"
   ]
  },
  {
   "cell_type": "markdown",
   "id": "9762f29d",
   "metadata": {},
   "source": [
    "#### Load this data to pandas df to have some statistics"
   ]
  },
  {
   "cell_type": "code",
   "execution_count": 6,
   "id": "155b6b6f",
   "metadata": {},
   "outputs": [
    {
     "data": {
      "text/plain": [
       "(8746, 8)"
      ]
     },
     "execution_count": 6,
     "metadata": {},
     "output_type": "execute_result"
    }
   ],
   "source": [
    "dd = (msg.model_dump() for msg in msgs_list)\n",
    "df = pd.DataFrame.from_dict(dd)\n",
    "df.shape"
   ]
  },
  {
   "cell_type": "code",
   "execution_count": 26,
   "id": "01f0159f",
   "metadata": {},
   "outputs": [
    {
     "name": "stdout",
     "output_type": "stream",
     "text": [
      "number_of_days=23\n"
     ]
    },
    {
     "data": {
      "text/plain": [
       "(3807, 8)"
      ]
     },
     "execution_count": 26,
     "metadata": {},
     "output_type": "execute_result"
    }
   ],
   "source": [
    "# tz = timezone('Europe/Istanbul')\n",
    "dt_range = (pd.Timestamp(year=2024, month=8, day=23), pd.Timestamp(datetime.now()))   # , tz=tm_zn        \n",
    "number_of_days = (dt_range[1]-dt_range[0]).days\n",
    "print(f'{number_of_days=}')\n",
    "df = df[df.msg_date.between(*dt_range)]\n",
    "df.shape"
   ]
  },
  {
   "cell_type": "code",
   "execution_count": 27,
   "id": "7f009caa",
   "metadata": {},
   "outputs": [
    {
     "data": {
      "text/html": [
       "<div>\n",
       "<style scoped>\n",
       "    .dataframe tbody tr th:only-of-type {\n",
       "        vertical-align: middle;\n",
       "    }\n",
       "\n",
       "    .dataframe tbody tr th {\n",
       "        vertical-align: top;\n",
       "    }\n",
       "\n",
       "    .dataframe thead th {\n",
       "        text-align: right;\n",
       "    }\n",
       "</style>\n",
       "<table border=\"1\" class=\"dataframe\">\n",
       "  <thead>\n",
       "    <tr style=\"text-align: right;\">\n",
       "      <th></th>\n",
       "      <th>Metric name</th>\n",
       "      <th>Value</th>\n",
       "    </tr>\n",
       "  </thead>\n",
       "  <tbody>\n",
       "    <tr>\n",
       "      <th>0</th>\n",
       "      <td>Number or messages</td>\n",
       "      <td>3807</td>\n",
       "    </tr>\n",
       "    <tr>\n",
       "      <th>1</th>\n",
       "      <td>Date interval</td>\n",
       "      <td>from 2024-08-23 to 2024-09-13</td>\n",
       "    </tr>\n",
       "    <tr>\n",
       "      <th>2</th>\n",
       "      <td>Users count</td>\n",
       "      <td>142</td>\n",
       "    </tr>\n",
       "    <tr>\n",
       "      <th>3</th>\n",
       "      <td>Avg messages per day</td>\n",
       "      <td>181.3</td>\n",
       "    </tr>\n",
       "  </tbody>\n",
       "</table>\n",
       "</div>"
      ],
      "text/plain": [
       "            Metric name                          Value\n",
       "0    Number or messages                           3807\n",
       "1         Date interval  from 2024-08-23 to 2024-09-13\n",
       "2           Users count                            142\n",
       "3  Avg messages per day                          181.3"
      ]
     },
     "execution_count": 27,
     "metadata": {},
     "output_type": "execute_result"
    }
   ],
   "source": [
    "df['dummi'] = 1 # there should be less ugly way to get different aggegations without grouping\n",
    "agg_df = df.groupby('dummi').aggregate({'msg_id':'count','msg_date':['min','max'], 'user_id': 'nunique'}).reset_index()\n",
    "msgs_cnt = agg_df[( 'msg_id', 'count')][0]\n",
    "min_date = agg_df[('msg_date', 'min')][0]\n",
    "max_date = agg_df[('msg_date', 'max')][0]\n",
    "number_of_days = (max_date-min_date).days\n",
    "unique_users =  agg_df[('user_id', 'nunique')][0]\n",
    "del df['dummi'] \n",
    "cols = [\"Metric name\", \"Value\"]\n",
    "dt_format = \"%Y-%m-%d\"\n",
    "d_report = [\n",
    "    {cols[0]: \"Number or messages\", cols[1]: msgs_cnt},\n",
    "    {cols[0]: \"Date interval\", cols[1]: f'from {min_date.strftime(dt_format)} to {max_date.strftime(dt_format)}' },\n",
    "    {cols[0]: \"Users count\", cols[1]: unique_users },\n",
    "    {cols[0]: \"Avg messages per day\", cols[1]: round(msgs_cnt/number_of_days , 1) },\n",
    "    ]\n",
    "pd.DataFrame.from_dict(d_report)"
   ]
  },
  {
   "cell_type": "markdown",
   "id": "1960a3ed",
   "metadata": {},
   "source": [
    "#### playing around with data related to one, specific topic, given id of topic-staring messages"
   ]
  },
  {
   "cell_type": "code",
   "execution_count": 21,
   "id": "1787a445",
   "metadata": {},
   "outputs": [
    {
     "data": {
      "text/plain": [
       "[189845:2024-08-29 10:18:23; Ребят, кто кото-владельцы, а вы чем своих питомцев кормите?\n",
       " Мы покупали Farmina, сербского развеса, но на него ценник переписали - за месяц с 1100 до 1900 за полтора кг.\n",
       " Наш 2 пачки в месяц сжирает плюс паштетики еще, я прикинул - я за август на питание себя потратил наверно меньше,\n",
       " 189875:2024-08-29 11:10:05; Сухой роял канин на развес по ~ 300 лир за кг,\n",
       " 189916:2024-08-29 14:01:13; Фарминой кормим, кошка съедает 1,5 кг за 1,5 месяца. А что у вас за кот ( я как то удивлена 3 кг за 1 месяц…),\n",
       " 189917:2024-08-29 14:01:46; Прожорливый,\n",
       " 189918:2024-08-29 14:03:26; И какая именно фармина?,\n",
       " 189919:2024-08-29 14:04:49; Может просто порода с весом около 6 кг и выше, тогда понятно,\n",
       " 189920:2024-08-29 14:07:38; Кошки в принципе едят более адекватно. Все коты что у меня были не знают меры, и жрут как в последний раз,\n",
       " 189922:2024-08-29 14:08:54; А коты были бывшие бездомными?,\n",
       " 189923:2024-08-29 14:10:17; У меня обратная статистика 🙄,\n",
       " 189924:2024-08-29 14:13:29; Разные, и полу уличные, и чисто домашние,\n",
       " 189926:2024-08-29 14:17:33; таец, 2,5 года, 5,9 кг,\n",
       " 189929:2024-08-29 14:25:12; Ну да, на его вес так и выходит. Только насчет смены корма на другой надо быть осторожным, а то может перестать наедаться (будет меньше животного белка и в кормах дешевле есть куча злаков, которыми кот не наедается в принципе). В итоге кот будет есть еще больше, деньги так же уходить, проблем у него со здоровьем прибавится. Надо смотреть составы очень тщательно,\n",
       " 189930:2024-08-29 14:25:43; И это точно не роял и не про план,\n",
       " 189933:2024-08-29 14:46:28; ,\n",
       " 189935:2024-08-29 14:50:36; Такой вот на развес берём,\n",
       " 189943:2024-08-29 14:54:49; Этой пачки должно хватать на 22 дня ему. Корм низкозерновой.\n",
       " Могу предложить перевести на беззерновую линейку с более высокой калорийностью. Ну и покупать на трендиоле и сразу 5 кг, так дешевле выходит\n",
       " Корма примерные скинула их больше (ну и есть ли заболевания какие то у кота, тоже надо учитывать)\n",
       " На развес брать не рекомендую, тк корм имеет свойства портиться и запах вывестривается, что снижает поедаемость корма, а в турции жесть какая то с хранением этих кормов, стоят открытые все на такой жаре,\n",
       " 189944:2024-08-29 14:54:49; ,\n",
       " 189945:2024-08-29 14:54:50; ,\n",
       " 189949:2024-08-29 14:59:40; Ну и переводить надо правильно, есть схемы добавления нового корма к старому,\n",
       " 190343:2024-09-01 23:04:07; Берем n&d, два с половиной года полет отличный, цена все еще 1.1к за полтора кг, Пересаживали постепенно с фармины вроде, которым привыкли в рф кормить,\n",
       " 190762:2024-09-03 22:25:20; FYI.\n",
       " Игрался с данными с телеграм чата с помощью библиотеки Digraph\n",
       " Позволяет прикольно визуализировать в виде графа связанные сообщения,\n",
       " Вот дискуссия по поводу чем кто кошанов кормит (пока без учета неявных связей)]"
      ]
     },
     "execution_count": 21,
     "metadata": {},
     "output_type": "execute_result"
    }
   ],
   "source": [
    "\n",
    "\n",
    "topic_msgs = mi.get_messages_tree(189845)\n",
    "topic_msgs"
   ]
  },
  {
   "cell_type": "markdown",
   "id": "a2f5f587",
   "metadata": {},
   "source": [
    "#### Visualize the  messages from topic tree"
   ]
  },
  {
   "cell_type": "code",
   "execution_count": 22,
   "id": "8cb9ed42",
   "metadata": {},
   "outputs": [
    {
     "data": {
      "image/svg+xml": [
       "<?xml version=\"1.0\" encoding=\"UTF-8\" standalone=\"no\"?>\n",
       "<!DOCTYPE svg PUBLIC \"-//W3C//DTD SVG 1.1//EN\"\n",
       " \"http://www.w3.org/Graphics/SVG/1.1/DTD/svg11.dtd\">\n",
       "<!-- Generated by graphviz version 12.1.0 (20240811.2233)\n",
       " -->\n",
       "<!-- Pages: 1 -->\n",
       "<svg width=\"1440pt\" height=\"1510pt\"\n",
       " viewBox=\"0.00 0.00 1440.00 1509.84\" xmlns=\"http://www.w3.org/2000/svg\" xmlns:xlink=\"http://www.w3.org/1999/xlink\">\n",
       "<g id=\"graph0\" class=\"graph\" transform=\"scale(0.727065 0.727065) rotate(0) translate(4 2072.62)\">\n",
       "<polygon fill=\"white\" stroke=\"none\" points=\"-4,4 -4,-2072.62 1976.57,-2072.62 1976.57,4 -4,4\"/>\n",
       "<!-- 189845 -->\n",
       "<g id=\"node1\" class=\"node\">\n",
       "<title>189845</title>\n",
       "<ellipse fill=\"none\" stroke=\"black\" cx=\"1114.02\" cy=\"-1922.96\" rx=\"151.85\" ry=\"145.66\"/>\n",
       "<text text-anchor=\"middle\" x=\"1114.02\" y=\"-2008.66\" font-family=\"Times,serif\" font-size=\"14.00\">Dmitrii Kalmanovich</text>\n",
       "<text text-anchor=\"middle\" x=\"1114.02\" y=\"-1992.16\" font-family=\"Times,serif\" font-size=\"14.00\">2024&#45;08&#45;29 10:18:23</text>\n",
       "<text text-anchor=\"middle\" x=\"1114.02\" y=\"-1975.66\" font-family=\"Times,serif\" font-size=\"14.00\">Ребят, кто кото&#45;владельцы, а</text>\n",
       "<text text-anchor=\"middle\" x=\"1114.02\" y=\"-1959.16\" font-family=\"Times,serif\" font-size=\"14.00\">вы чем своих питомцев кормите?</text>\n",
       "<text text-anchor=\"middle\" x=\"1114.02\" y=\"-1942.66\" font-family=\"Times,serif\" font-size=\"14.00\">Мы покупали Farmina, сербского</text>\n",
       "<text text-anchor=\"middle\" x=\"1114.02\" y=\"-1926.16\" font-family=\"Times,serif\" font-size=\"14.00\">развеса, но на него ценник</text>\n",
       "<text text-anchor=\"middle\" x=\"1114.02\" y=\"-1909.66\" font-family=\"Times,serif\" font-size=\"14.00\">переписали &#45; за месяц с 1100</text>\n",
       "<text text-anchor=\"middle\" x=\"1114.02\" y=\"-1893.16\" font-family=\"Times,serif\" font-size=\"14.00\">до 1900 за полтора кг. Наш 2</text>\n",
       "<text text-anchor=\"middle\" x=\"1114.02\" y=\"-1876.66\" font-family=\"Times,serif\" font-size=\"14.00\">пачки в месяц сжирает плюс</text>\n",
       "<text text-anchor=\"middle\" x=\"1114.02\" y=\"-1860.16\" font-family=\"Times,serif\" font-size=\"14.00\">паштетики еще, я прикинул &#45; я</text>\n",
       "<text text-anchor=\"middle\" x=\"1114.02\" y=\"-1843.66\" font-family=\"Times,serif\" font-size=\"14.00\">за август на питание себя</text>\n",
       "<text text-anchor=\"middle\" x=\"1114.02\" y=\"-1827.16\" font-family=\"Times,serif\" font-size=\"14.00\">потратил наверно меньше</text>\n",
       "</g>\n",
       "<!-- 189875 -->\n",
       "<g id=\"node2\" class=\"node\">\n",
       "<title>189875</title>\n",
       "<ellipse fill=\"none\" stroke=\"black\" cx=\"375.02\" cy=\"-1607.3\" rx=\"140.18\" ry=\"52.33\"/>\n",
       "<text text-anchor=\"middle\" x=\"375.02\" y=\"-1627\" font-family=\"Times,serif\" font-size=\"14.00\">Andrei Sidorenko</text>\n",
       "<text text-anchor=\"middle\" x=\"375.02\" y=\"-1610.5\" font-family=\"Times,serif\" font-size=\"14.00\">2024&#45;08&#45;29 11:10:05</text>\n",
       "<text text-anchor=\"middle\" x=\"375.02\" y=\"-1594\" font-family=\"Times,serif\" font-size=\"14.00\">Сухой роял канин на развес по</text>\n",
       "<text text-anchor=\"middle\" x=\"375.02\" y=\"-1577.5\" font-family=\"Times,serif\" font-size=\"14.00\">~ 300 лир за кг</text>\n",
       "</g>\n",
       "<!-- 189845&#45;&gt;189875 -->\n",
       "<g id=\"edge1\" class=\"edge\">\n",
       "<title>189845&#45;&gt;189875</title>\n",
       "<path fill=\"none\" stroke=\"black\" d=\"M964.79,-1894.91C841.04,-1868.21 663.44,-1819.82 524.02,-1741.29 488.42,-1721.25 454.03,-1691.48 427.28,-1665.19\"/>\n",
       "<polygon fill=\"black\" stroke=\"black\" points=\"429.85,-1662.81 420.3,-1658.23 424.91,-1667.77 429.85,-1662.81\"/>\n",
       "</g>\n",
       "<!-- 189916 -->\n",
       "<g id=\"node3\" class=\"node\">\n",
       "<title>189916</title>\n",
       "<ellipse fill=\"none\" stroke=\"black\" cx=\"689.02\" cy=\"-1607.3\" rx=\"155.56\" ry=\"75.66\"/>\n",
       "<text text-anchor=\"middle\" x=\"689.02\" y=\"-1643.5\" font-family=\"Times,serif\" font-size=\"14.00\">Анна Горланова</text>\n",
       "<text text-anchor=\"middle\" x=\"689.02\" y=\"-1627\" font-family=\"Times,serif\" font-size=\"14.00\">2024&#45;08&#45;29 14:01:13</text>\n",
       "<text text-anchor=\"middle\" x=\"689.02\" y=\"-1610.5\" font-family=\"Times,serif\" font-size=\"14.00\">Фарминой кормим, кошка съедает</text>\n",
       "<text text-anchor=\"middle\" x=\"689.02\" y=\"-1594\" font-family=\"Times,serif\" font-size=\"14.00\">1,5 кг за 1,5 месяца. А что у</text>\n",
       "<text text-anchor=\"middle\" x=\"689.02\" y=\"-1577.5\" font-family=\"Times,serif\" font-size=\"14.00\">вас за кот ( я как то удивлена</text>\n",
       "<text text-anchor=\"middle\" x=\"689.02\" y=\"-1561\" font-family=\"Times,serif\" font-size=\"14.00\">3 кг за 1 месяц…)</text>\n",
       "</g>\n",
       "<!-- 189845&#45;&gt;189916 -->\n",
       "<g id=\"edge2\" class=\"edge\">\n",
       "<title>189845&#45;&gt;189916</title>\n",
       "<path fill=\"none\" stroke=\"black\" d=\"M990.07,-1838.48C946.57,-1808.5 897.68,-1774 854.02,-1741.29 828.2,-1721.96 800.72,-1700.27 775.74,-1680.1\"/>\n",
       "<polygon fill=\"black\" stroke=\"black\" points=\"778.16,-1677.57 768.19,-1673.99 773.76,-1683.01 778.16,-1677.57\"/>\n",
       "</g>\n",
       "<!-- 189918 -->\n",
       "<g id=\"node5\" class=\"node\">\n",
       "<title>189918</title>\n",
       "<ellipse fill=\"none\" stroke=\"black\" cx=\"984.02\" cy=\"-1607.3\" rx=\"121.09\" ry=\"40.66\"/>\n",
       "<text text-anchor=\"middle\" x=\"984.02\" y=\"-1618.75\" font-family=\"Times,serif\" font-size=\"14.00\">Анна Горланова</text>\n",
       "<text text-anchor=\"middle\" x=\"984.02\" y=\"-1602.25\" font-family=\"Times,serif\" font-size=\"14.00\">2024&#45;08&#45;29 14:03:26</text>\n",
       "<text text-anchor=\"middle\" x=\"984.02\" y=\"-1585.75\" font-family=\"Times,serif\" font-size=\"14.00\">И какая именно фармина?</text>\n",
       "</g>\n",
       "<!-- 189845&#45;&gt;189918 -->\n",
       "<g id=\"edge4\" class=\"edge\">\n",
       "<title>189845&#45;&gt;189918</title>\n",
       "<path fill=\"none\" stroke=\"black\" d=\"M1058.13,-1787.12C1039.17,-1741.37 1019.16,-1693.08 1004.71,-1658.23\"/>\n",
       "<polygon fill=\"black\" stroke=\"black\" points=\"1008.06,-1657.16 1001,-1649.26 1001.59,-1659.84 1008.06,-1657.16\"/>\n",
       "</g>\n",
       "<!-- 189935 -->\n",
       "<g id=\"node15\" class=\"node\">\n",
       "<title>189935</title>\n",
       "<ellipse fill=\"none\" stroke=\"black\" cx=\"1244.02\" cy=\"-1607.3\" rx=\"121.09\" ry=\"40.66\"/>\n",
       "<text text-anchor=\"middle\" x=\"1244.02\" y=\"-1618.75\" font-family=\"Times,serif\" font-size=\"14.00\">T4</text>\n",
       "<text text-anchor=\"middle\" x=\"1244.02\" y=\"-1602.25\" font-family=\"Times,serif\" font-size=\"14.00\">2024&#45;08&#45;29 14:50:36</text>\n",
       "<text text-anchor=\"middle\" x=\"1244.02\" y=\"-1585.75\" font-family=\"Times,serif\" font-size=\"14.00\">Такой вот на развес берём</text>\n",
       "</g>\n",
       "<!-- 189845&#45;&gt;189935 -->\n",
       "<g id=\"edge14\" class=\"edge\">\n",
       "<title>189845&#45;&gt;189935</title>\n",
       "<path fill=\"none\" stroke=\"black\" d=\"M1169.9,-1787.12C1188.86,-1741.37 1208.88,-1693.08 1223.32,-1658.23\"/>\n",
       "<polygon fill=\"black\" stroke=\"black\" points=\"1226.44,-1659.84 1227.04,-1649.26 1219.98,-1657.16 1226.44,-1659.84\"/>\n",
       "</g>\n",
       "<!-- 190343 -->\n",
       "<g id=\"node20\" class=\"node\">\n",
       "<title>190343</title>\n",
       "<ellipse fill=\"none\" stroke=\"black\" cx=\"1522.02\" cy=\"-1607.3\" rx=\"139.12\" ry=\"98.99\"/>\n",
       "<text text-anchor=\"middle\" x=\"1522.02\" y=\"-1660\" font-family=\"Times,serif\" font-size=\"14.00\">Зубастый Анчоус</text>\n",
       "<text text-anchor=\"middle\" x=\"1522.02\" y=\"-1643.5\" font-family=\"Times,serif\" font-size=\"14.00\">2024&#45;09&#45;01 23:04:07</text>\n",
       "<text text-anchor=\"middle\" x=\"1522.02\" y=\"-1627\" font-family=\"Times,serif\" font-size=\"14.00\">Берем n&amp;d, два с половиной</text>\n",
       "<text text-anchor=\"middle\" x=\"1522.02\" y=\"-1610.5\" font-family=\"Times,serif\" font-size=\"14.00\">года полет отличный, цена все</text>\n",
       "<text text-anchor=\"middle\" x=\"1522.02\" y=\"-1594\" font-family=\"Times,serif\" font-size=\"14.00\">еще 1.1к за полтора кг,</text>\n",
       "<text text-anchor=\"middle\" x=\"1522.02\" y=\"-1577.5\" font-family=\"Times,serif\" font-size=\"14.00\">Пересаживали постепенно с</text>\n",
       "<text text-anchor=\"middle\" x=\"1522.02\" y=\"-1561\" font-family=\"Times,serif\" font-size=\"14.00\">фармины вроде, которым</text>\n",
       "<text text-anchor=\"middle\" x=\"1522.02\" y=\"-1544.5\" font-family=\"Times,serif\" font-size=\"14.00\">привыкли в рф кормить</text>\n",
       "</g>\n",
       "<!-- 189845&#45;&gt;190343 -->\n",
       "<g id=\"edge19\" class=\"edge\">\n",
       "<title>189845&#45;&gt;190343</title>\n",
       "<path fill=\"none\" stroke=\"black\" d=\"M1238.97,-1839.79C1282.56,-1809.92 1331.25,-1775.15 1374.02,-1741.29 1392.57,-1726.6 1411.8,-1710.25 1430,-1694.18\"/>\n",
       "<polygon fill=\"black\" stroke=\"black\" points=\"1432,-1697.08 1437.15,-1687.82 1427.35,-1691.85 1432,-1697.08\"/>\n",
       "</g>\n",
       "<!-- 190762 -->\n",
       "<g id=\"node21\" class=\"node\">\n",
       "<title>190762</title>\n",
       "<ellipse fill=\"none\" stroke=\"black\" cx=\"1826.02\" cy=\"-1607.3\" rx=\"146.55\" ry=\"134\"/>\n",
       "<text text-anchor=\"middle\" x=\"1826.02\" y=\"-1684.75\" font-family=\"Times,serif\" font-size=\"14.00\">Dmitrii Kalmanovich</text>\n",
       "<text text-anchor=\"middle\" x=\"1826.02\" y=\"-1668.25\" font-family=\"Times,serif\" font-size=\"14.00\">2024&#45;09&#45;03 22:25:20</text>\n",
       "<text text-anchor=\"middle\" x=\"1826.02\" y=\"-1651.75\" font-family=\"Times,serif\" font-size=\"14.00\">FYI. Игрался с данными с</text>\n",
       "<text text-anchor=\"middle\" x=\"1826.02\" y=\"-1635.25\" font-family=\"Times,serif\" font-size=\"14.00\">телеграм чата с помощью</text>\n",
       "<text text-anchor=\"middle\" x=\"1826.02\" y=\"-1618.75\" font-family=\"Times,serif\" font-size=\"14.00\">библиотеки Digraph Позволяет</text>\n",
       "<text text-anchor=\"middle\" x=\"1826.02\" y=\"-1602.25\" font-family=\"Times,serif\" font-size=\"14.00\">прикольно визуализировать в</text>\n",
       "<text text-anchor=\"middle\" x=\"1826.02\" y=\"-1585.75\" font-family=\"Times,serif\" font-size=\"14.00\">виде графа связанные</text>\n",
       "<text text-anchor=\"middle\" x=\"1826.02\" y=\"-1569.25\" font-family=\"Times,serif\" font-size=\"14.00\">сообщения, Вот дискуссия по</text>\n",
       "<text text-anchor=\"middle\" x=\"1826.02\" y=\"-1552.75\" font-family=\"Times,serif\" font-size=\"14.00\">поводу чем кто кошанов кормит</text>\n",
       "<text text-anchor=\"middle\" x=\"1826.02\" y=\"-1536.25\" font-family=\"Times,serif\" font-size=\"14.00\">(пока без учета неявных</text>\n",
       "<text text-anchor=\"middle\" x=\"1826.02\" y=\"-1519.75\" font-family=\"Times,serif\" font-size=\"14.00\">связей)</text>\n",
       "</g>\n",
       "<!-- 189845&#45;&gt;190762 -->\n",
       "<g id=\"edge20\" class=\"edge\">\n",
       "<title>189845&#45;&gt;190762</title>\n",
       "<path fill=\"none\" stroke=\"black\" d=\"M1262.43,-1890.55C1378.32,-1862.15 1540.81,-1813.58 1670.02,-1741.29 1685.45,-1732.66 1700.77,-1722.37 1715.44,-1711.38\"/>\n",
       "<polygon fill=\"black\" stroke=\"black\" points=\"1717.46,-1714.24 1723.28,-1705.38 1713.21,-1708.68 1717.46,-1714.24\"/>\n",
       "</g>\n",
       "<!-- 189917 -->\n",
       "<g id=\"node4\" class=\"node\">\n",
       "<title>189917</title>\n",
       "<ellipse fill=\"none\" stroke=\"black\" cx=\"241.02\" cy=\"-1361.64\" rx=\"92.45\" ry=\"40.66\"/>\n",
       "<text text-anchor=\"middle\" x=\"241.02\" y=\"-1373.09\" font-family=\"Times,serif\" font-size=\"14.00\">Ekaterina Elm</text>\n",
       "<text text-anchor=\"middle\" x=\"241.02\" y=\"-1356.59\" font-family=\"Times,serif\" font-size=\"14.00\">2024&#45;08&#45;29 14:01:46</text>\n",
       "<text text-anchor=\"middle\" x=\"241.02\" y=\"-1340.09\" font-family=\"Times,serif\" font-size=\"14.00\">Прожорливый</text>\n",
       "</g>\n",
       "<!-- 189916&#45;&gt;189917 -->\n",
       "<g id=\"edge3\" class=\"edge\">\n",
       "<title>189916&#45;&gt;189917</title>\n",
       "<path fill=\"none\" stroke=\"black\" d=\"M616.56,-1539.91C588.95,-1516.82 556.32,-1492.03 524.02,-1473.3 461.75,-1437.18 385.45,-1408.13 327.78,-1388.87\"/>\n",
       "<polygon fill=\"black\" stroke=\"black\" points=\"328.9,-1385.55 318.31,-1385.74 326.71,-1392.2 328.9,-1385.55\"/>\n",
       "</g>\n",
       "<!-- 189920 -->\n",
       "<g id=\"node7\" class=\"node\">\n",
       "<title>189920</title>\n",
       "<ellipse fill=\"none\" stroke=\"black\" cx=\"689.02\" cy=\"-1361.64\" rx=\"148.14\" ry=\"75.66\"/>\n",
       "<text text-anchor=\"middle\" x=\"689.02\" y=\"-1397.84\" font-family=\"Times,serif\" font-size=\"14.00\">Viktor</text>\n",
       "<text text-anchor=\"middle\" x=\"689.02\" y=\"-1381.34\" font-family=\"Times,serif\" font-size=\"14.00\">2024&#45;08&#45;29 14:07:38</text>\n",
       "<text text-anchor=\"middle\" x=\"689.02\" y=\"-1364.84\" font-family=\"Times,serif\" font-size=\"14.00\">Кошки в принципе едят более</text>\n",
       "<text text-anchor=\"middle\" x=\"689.02\" y=\"-1348.34\" font-family=\"Times,serif\" font-size=\"14.00\">адекватно. Все коты что у меня</text>\n",
       "<text text-anchor=\"middle\" x=\"689.02\" y=\"-1331.84\" font-family=\"Times,serif\" font-size=\"14.00\">были не знают меры, и жрут как</text>\n",
       "<text text-anchor=\"middle\" x=\"689.02\" y=\"-1315.34\" font-family=\"Times,serif\" font-size=\"14.00\">в последний раз</text>\n",
       "</g>\n",
       "<!-- 189916&#45;&gt;189920 -->\n",
       "<g id=\"edge6\" class=\"edge\">\n",
       "<title>189916&#45;&gt;189920</title>\n",
       "<path fill=\"none\" stroke=\"black\" d=\"M689.02,-1531.2C689.02,-1505.14 689.02,-1475.72 689.02,-1448.83\"/>\n",
       "<polygon fill=\"black\" stroke=\"black\" points=\"692.52,-1449 689.02,-1439 685.52,-1449 692.52,-1449\"/>\n",
       "</g>\n",
       "<!-- 189919 -->\n",
       "<g id=\"node6\" class=\"node\">\n",
       "<title>189919</title>\n",
       "<ellipse fill=\"none\" stroke=\"black\" cx=\"146.02\" cy=\"-999.31\" rx=\"137.53\" ry=\"63.99\"/>\n",
       "<text text-anchor=\"middle\" x=\"146.02\" y=\"-1027.26\" font-family=\"Times,serif\" font-size=\"14.00\">Анна Горланова</text>\n",
       "<text text-anchor=\"middle\" x=\"146.02\" y=\"-1010.76\" font-family=\"Times,serif\" font-size=\"14.00\">2024&#45;08&#45;29 14:04:49</text>\n",
       "<text text-anchor=\"middle\" x=\"146.02\" y=\"-994.26\" font-family=\"Times,serif\" font-size=\"14.00\">Может просто порода с весом</text>\n",
       "<text text-anchor=\"middle\" x=\"146.02\" y=\"-977.76\" font-family=\"Times,serif\" font-size=\"14.00\">около 6 кг и выше, тогда</text>\n",
       "<text text-anchor=\"middle\" x=\"146.02\" y=\"-961.26\" font-family=\"Times,serif\" font-size=\"14.00\">понятно</text>\n",
       "</g>\n",
       "<!-- 189917&#45;&gt;189919 -->\n",
       "<g id=\"edge5\" class=\"edge\">\n",
       "<title>189917&#45;&gt;189919</title>\n",
       "<path fill=\"none\" stroke=\"black\" d=\"M230.58,-1321.05C214.94,-1261.71 185.15,-1148.73 165.43,-1073.95\"/>\n",
       "<polygon fill=\"black\" stroke=\"black\" points=\"168.92,-1073.45 162.99,-1064.67 162.15,-1075.23 168.92,-1073.45\"/>\n",
       "</g>\n",
       "<!-- 189933 -->\n",
       "<g id=\"node14\" class=\"node\">\n",
       "<title>189933</title>\n",
       "<ellipse fill=\"none\" stroke=\"black\" cx=\"1228.02\" cy=\"-1361.64\" rx=\"94.58\" ry=\"28.99\"/>\n",
       "<text text-anchor=\"middle\" x=\"1228.02\" y=\"-1364.84\" font-family=\"Times,serif\" font-size=\"14.00\">Dmitrii Kalmanovich</text>\n",
       "<text text-anchor=\"middle\" x=\"1228.02\" y=\"-1348.34\" font-family=\"Times,serif\" font-size=\"14.00\">2024&#45;08&#45;29 14:46:28</text>\n",
       "</g>\n",
       "<!-- 189918&#45;&gt;189933 -->\n",
       "<g id=\"edge13\" class=\"edge\">\n",
       "<title>189918&#45;&gt;189933</title>\n",
       "<path fill=\"none\" stroke=\"black\" d=\"M1020.74,-1568.2C1046.63,-1541.47 1082.23,-1504.98 1114.02,-1473.3 1139.66,-1447.75 1168.97,-1419.31 1191.45,-1397.66\"/>\n",
       "<polygon fill=\"black\" stroke=\"black\" points=\"1193.84,-1400.22 1198.62,-1390.77 1188.98,-1395.18 1193.84,-1400.22\"/>\n",
       "</g>\n",
       "<!-- 189926 -->\n",
       "<g id=\"node11\" class=\"node\">\n",
       "<title>189926</title>\n",
       "<ellipse fill=\"none\" stroke=\"black\" cx=\"146.02\" cy=\"-636.98\" rx=\"96.17\" ry=\"40.66\"/>\n",
       "<text text-anchor=\"middle\" x=\"146.02\" y=\"-648.43\" font-family=\"Times,serif\" font-size=\"14.00\">Dmitrii Kalmanovich</text>\n",
       "<text text-anchor=\"middle\" x=\"146.02\" y=\"-631.93\" font-family=\"Times,serif\" font-size=\"14.00\">2024&#45;08&#45;29 14:17:33</text>\n",
       "<text text-anchor=\"middle\" x=\"146.02\" y=\"-615.43\" font-family=\"Times,serif\" font-size=\"14.00\">таец, 2,5 года, 5,9 кг</text>\n",
       "</g>\n",
       "<!-- 189919&#45;&gt;189926 -->\n",
       "<g id=\"edge10\" class=\"edge\">\n",
       "<title>189919&#45;&gt;189926</title>\n",
       "<path fill=\"none\" stroke=\"black\" d=\"M146.02,-935.13C146.02,-865.16 146.02,-753.7 146.02,-689.03\"/>\n",
       "<polygon fill=\"black\" stroke=\"black\" points=\"149.52,-689.41 146.02,-679.41 142.52,-689.41 149.52,-689.41\"/>\n",
       "</g>\n",
       "<!-- 189922 -->\n",
       "<g id=\"node8\" class=\"node\">\n",
       "<title>189922</title>\n",
       "<ellipse fill=\"none\" stroke=\"black\" cx=\"463.02\" cy=\"-999.31\" rx=\"161.4\" ry=\"40.66\"/>\n",
       "<text text-anchor=\"middle\" x=\"463.02\" y=\"-1010.76\" font-family=\"Times,serif\" font-size=\"14.00\">Анна Горланова</text>\n",
       "<text text-anchor=\"middle\" x=\"463.02\" y=\"-994.26\" font-family=\"Times,serif\" font-size=\"14.00\">2024&#45;08&#45;29 14:08:54</text>\n",
       "<text text-anchor=\"middle\" x=\"463.02\" y=\"-977.76\" font-family=\"Times,serif\" font-size=\"14.00\">А коты были бывшие бездомными?</text>\n",
       "</g>\n",
       "<!-- 189920&#45;&gt;189922 -->\n",
       "<g id=\"edge7\" class=\"edge\">\n",
       "<title>189920&#45;&gt;189922</title>\n",
       "<path fill=\"none\" stroke=\"black\" d=\"M644.37,-1289.45C599.8,-1218.39 532.51,-1111.1 493.65,-1049.15\"/>\n",
       "<polygon fill=\"black\" stroke=\"black\" points=\"496.75,-1047.51 488.47,-1040.89 490.82,-1051.23 496.75,-1047.51\"/>\n",
       "</g>\n",
       "<!-- 189923 -->\n",
       "<g id=\"node9\" class=\"node\">\n",
       "<title>189923</title>\n",
       "<ellipse fill=\"none\" stroke=\"black\" cx=\"784.02\" cy=\"-999.31\" rx=\"141.77\" ry=\"42.25\"/>\n",
       "<text text-anchor=\"middle\" x=\"784.02\" y=\"-1011.88\" font-family=\"Times,serif\" font-size=\"14.00\">Irina</text>\n",
       "<text text-anchor=\"middle\" x=\"784.02\" y=\"-995.38\" font-family=\"Times,serif\" font-size=\"14.00\">2024&#45;08&#45;29 14:10:17</text>\n",
       "<text text-anchor=\"middle\" x=\"784.02\" y=\"-978.88\" font-family=\"Times,serif\" font-size=\"14.00\">У меня обратная статистика 🙄</text>\n",
       "</g>\n",
       "<!-- 189920&#45;&gt;189923 -->\n",
       "<g id=\"edge8\" class=\"edge\">\n",
       "<title>189920&#45;&gt;189923</title>\n",
       "<path fill=\"none\" stroke=\"black\" d=\"M708.59,-1286.41C726.94,-1216.79 753.93,-1114.42 770.16,-1052.87\"/>\n",
       "<polygon fill=\"black\" stroke=\"black\" points=\"773.51,-1053.9 772.67,-1043.33 766.74,-1052.11 773.51,-1053.9\"/>\n",
       "</g>\n",
       "<!-- 189924 -->\n",
       "<g id=\"node10\" class=\"node\">\n",
       "<title>189924</title>\n",
       "<ellipse fill=\"none\" stroke=\"black\" cx=\"463.02\" cy=\"-636.98\" rx=\"123.21\" ry=\"52.33\"/>\n",
       "<text text-anchor=\"middle\" x=\"463.02\" y=\"-656.68\" font-family=\"Times,serif\" font-size=\"14.00\">Viktor</text>\n",
       "<text text-anchor=\"middle\" x=\"463.02\" y=\"-640.18\" font-family=\"Times,serif\" font-size=\"14.00\">2024&#45;08&#45;29 14:13:29</text>\n",
       "<text text-anchor=\"middle\" x=\"463.02\" y=\"-623.68\" font-family=\"Times,serif\" font-size=\"14.00\">Разные, и полу уличные, и</text>\n",
       "<text text-anchor=\"middle\" x=\"463.02\" y=\"-607.18\" font-family=\"Times,serif\" font-size=\"14.00\">чисто домашние</text>\n",
       "</g>\n",
       "<!-- 189922&#45;&gt;189924 -->\n",
       "<g id=\"edge9\" class=\"edge\">\n",
       "<title>189922&#45;&gt;189924</title>\n",
       "<path fill=\"none\" stroke=\"black\" d=\"M463.02,-958.37C463.02,-896.1 463.02,-775.35 463.02,-701.18\"/>\n",
       "<polygon fill=\"black\" stroke=\"black\" points=\"466.52,-701.21 463.02,-691.21 459.52,-701.21 466.52,-701.21\"/>\n",
       "</g>\n",
       "<!-- 189929 -->\n",
       "<g id=\"node12\" class=\"node\">\n",
       "<title>189929</title>\n",
       "<ellipse fill=\"none\" stroke=\"black\" cx=\"146.02\" cy=\"-332.98\" rx=\"146.02\" ry=\"192.33\"/>\n",
       "<text text-anchor=\"middle\" x=\"146.02\" y=\"-451.68\" font-family=\"Times,serif\" font-size=\"14.00\">Анна Горланова</text>\n",
       "<text text-anchor=\"middle\" x=\"146.02\" y=\"-435.18\" font-family=\"Times,serif\" font-size=\"14.00\">2024&#45;08&#45;29 14:25:12</text>\n",
       "<text text-anchor=\"middle\" x=\"146.02\" y=\"-418.68\" font-family=\"Times,serif\" font-size=\"14.00\">Ну да, на его вес так и</text>\n",
       "<text text-anchor=\"middle\" x=\"146.02\" y=\"-402.18\" font-family=\"Times,serif\" font-size=\"14.00\">выходит. Только насчет смены</text>\n",
       "<text text-anchor=\"middle\" x=\"146.02\" y=\"-385.68\" font-family=\"Times,serif\" font-size=\"14.00\">корма на другой надо быть</text>\n",
       "<text text-anchor=\"middle\" x=\"146.02\" y=\"-369.18\" font-family=\"Times,serif\" font-size=\"14.00\">осторожным, а то может</text>\n",
       "<text text-anchor=\"middle\" x=\"146.02\" y=\"-352.68\" font-family=\"Times,serif\" font-size=\"14.00\">перестать наедаться (будет</text>\n",
       "<text text-anchor=\"middle\" x=\"146.02\" y=\"-336.18\" font-family=\"Times,serif\" font-size=\"14.00\">меньше животного белка и в</text>\n",
       "<text text-anchor=\"middle\" x=\"146.02\" y=\"-319.68\" font-family=\"Times,serif\" font-size=\"14.00\">кормах дешевле есть куча</text>\n",
       "<text text-anchor=\"middle\" x=\"146.02\" y=\"-303.18\" font-family=\"Times,serif\" font-size=\"14.00\">злаков, которыми кот не</text>\n",
       "<text text-anchor=\"middle\" x=\"146.02\" y=\"-286.68\" font-family=\"Times,serif\" font-size=\"14.00\">наедается в принципе). В итоге</text>\n",
       "<text text-anchor=\"middle\" x=\"146.02\" y=\"-270.18\" font-family=\"Times,serif\" font-size=\"14.00\">кот будет есть еще больше,</text>\n",
       "<text text-anchor=\"middle\" x=\"146.02\" y=\"-253.68\" font-family=\"Times,serif\" font-size=\"14.00\">деньги так же уходить, проблем</text>\n",
       "<text text-anchor=\"middle\" x=\"146.02\" y=\"-237.18\" font-family=\"Times,serif\" font-size=\"14.00\">у него со здоровьем</text>\n",
       "<text text-anchor=\"middle\" x=\"146.02\" y=\"-220.68\" font-family=\"Times,serif\" font-size=\"14.00\">прибавится. Надо смотреть</text>\n",
       "<text text-anchor=\"middle\" x=\"146.02\" y=\"-204.18\" font-family=\"Times,serif\" font-size=\"14.00\">составы очень тщательно</text>\n",
       "</g>\n",
       "<!-- 189926&#45;&gt;189929 -->\n",
       "<g id=\"edge11\" class=\"edge\">\n",
       "<title>189926&#45;&gt;189929</title>\n",
       "<path fill=\"none\" stroke=\"black\" d=\"M146.02,-595.88C146.02,-579.41 146.02,-559.01 146.02,-536.93\"/>\n",
       "<polygon fill=\"black\" stroke=\"black\" points=\"149.52,-537.12 146.02,-527.12 142.52,-537.12 149.52,-537.12\"/>\n",
       "</g>\n",
       "<!-- 189930 -->\n",
       "<g id=\"node13\" class=\"node\">\n",
       "<title>189930</title>\n",
       "<ellipse fill=\"none\" stroke=\"black\" cx=\"146.02\" cy=\"-52.33\" rx=\"131.7\" ry=\"52.33\"/>\n",
       "<text text-anchor=\"middle\" x=\"146.02\" y=\"-72.03\" font-family=\"Times,serif\" font-size=\"14.00\">Анна Горланова</text>\n",
       "<text text-anchor=\"middle\" x=\"146.02\" y=\"-55.53\" font-family=\"Times,serif\" font-size=\"14.00\">2024&#45;08&#45;29 14:25:43</text>\n",
       "<text text-anchor=\"middle\" x=\"146.02\" y=\"-39.03\" font-family=\"Times,serif\" font-size=\"14.00\">И это точно не роял и не про</text>\n",
       "<text text-anchor=\"middle\" x=\"146.02\" y=\"-22.53\" font-family=\"Times,serif\" font-size=\"14.00\">план</text>\n",
       "</g>\n",
       "<!-- 189929&#45;&gt;189930 -->\n",
       "<g id=\"edge12\" class=\"edge\">\n",
       "<title>189929&#45;&gt;189930</title>\n",
       "<path fill=\"none\" stroke=\"black\" d=\"M146.02,-140.35C146.02,-131.93 146.02,-123.81 146.02,-116.13\"/>\n",
       "<polygon fill=\"black\" stroke=\"black\" points=\"149.52,-116.37 146.02,-106.37 142.52,-116.37 149.52,-116.37\"/>\n",
       "</g>\n",
       "<!-- 189943 -->\n",
       "<g id=\"node16\" class=\"node\">\n",
       "<title>189943</title>\n",
       "<ellipse fill=\"none\" stroke=\"black\" cx=\"1097.02\" cy=\"-999.31\" rx=\"152.91\" ry=\"250.67\"/>\n",
       "<text text-anchor=\"middle\" x=\"1097.02\" y=\"-1159.26\" font-family=\"Times,serif\" font-size=\"14.00\">Анна Горланова</text>\n",
       "<text text-anchor=\"middle\" x=\"1097.02\" y=\"-1142.76\" font-family=\"Times,serif\" font-size=\"14.00\">2024&#45;08&#45;29 14:54:49</text>\n",
       "<text text-anchor=\"middle\" x=\"1097.02\" y=\"-1126.26\" font-family=\"Times,serif\" font-size=\"14.00\">Этой пачки должно хватать на</text>\n",
       "<text text-anchor=\"middle\" x=\"1097.02\" y=\"-1109.76\" font-family=\"Times,serif\" font-size=\"14.00\">22 дня ему. Корм</text>\n",
       "<text text-anchor=\"middle\" x=\"1097.02\" y=\"-1093.26\" font-family=\"Times,serif\" font-size=\"14.00\">низкозерновой. Могу предложить</text>\n",
       "<text text-anchor=\"middle\" x=\"1097.02\" y=\"-1076.76\" font-family=\"Times,serif\" font-size=\"14.00\">перевести на беззерновую</text>\n",
       "<text text-anchor=\"middle\" x=\"1097.02\" y=\"-1060.26\" font-family=\"Times,serif\" font-size=\"14.00\">линейку с более высокой</text>\n",
       "<text text-anchor=\"middle\" x=\"1097.02\" y=\"-1043.76\" font-family=\"Times,serif\" font-size=\"14.00\">калорийностью. Ну и покупать</text>\n",
       "<text text-anchor=\"middle\" x=\"1097.02\" y=\"-1027.26\" font-family=\"Times,serif\" font-size=\"14.00\">на трендиоле и сразу 5 кг, так</text>\n",
       "<text text-anchor=\"middle\" x=\"1097.02\" y=\"-1010.76\" font-family=\"Times,serif\" font-size=\"14.00\">дешевле выходит Корма</text>\n",
       "<text text-anchor=\"middle\" x=\"1097.02\" y=\"-994.26\" font-family=\"Times,serif\" font-size=\"14.00\">примерные скинула их больше</text>\n",
       "<text text-anchor=\"middle\" x=\"1097.02\" y=\"-977.76\" font-family=\"Times,serif\" font-size=\"14.00\">(ну и есть ли заболевания</text>\n",
       "<text text-anchor=\"middle\" x=\"1097.02\" y=\"-961.26\" font-family=\"Times,serif\" font-size=\"14.00\">какие то у кота, тоже надо</text>\n",
       "<text text-anchor=\"middle\" x=\"1097.02\" y=\"-944.76\" font-family=\"Times,serif\" font-size=\"14.00\">учитывать) На развес брать не</text>\n",
       "<text text-anchor=\"middle\" x=\"1097.02\" y=\"-928.26\" font-family=\"Times,serif\" font-size=\"14.00\">рекомендую, тк корм имеет</text>\n",
       "<text text-anchor=\"middle\" x=\"1097.02\" y=\"-911.76\" font-family=\"Times,serif\" font-size=\"14.00\">свойства портиться и запах</text>\n",
       "<text text-anchor=\"middle\" x=\"1097.02\" y=\"-895.26\" font-family=\"Times,serif\" font-size=\"14.00\">вывестривается, что снижает</text>\n",
       "<text text-anchor=\"middle\" x=\"1097.02\" y=\"-878.76\" font-family=\"Times,serif\" font-size=\"14.00\">поедаемость корма, а в турции</text>\n",
       "<text text-anchor=\"middle\" x=\"1097.02\" y=\"-862.26\" font-family=\"Times,serif\" font-size=\"14.00\">жесть какая то с хранением</text>\n",
       "<text text-anchor=\"middle\" x=\"1097.02\" y=\"-845.76\" font-family=\"Times,serif\" font-size=\"14.00\">этих кормов, стоят открытые</text>\n",
       "<text text-anchor=\"middle\" x=\"1097.02\" y=\"-829.26\" font-family=\"Times,serif\" font-size=\"14.00\">все на такой жаре</text>\n",
       "</g>\n",
       "<!-- 189933&#45;&gt;189943 -->\n",
       "<g id=\"edge15\" class=\"edge\">\n",
       "<title>189933&#45;&gt;189943</title>\n",
       "<path fill=\"none\" stroke=\"black\" d=\"M1217.74,-1332.36C1208.66,-1307.38 1194.47,-1268.37 1178.98,-1225.74\"/>\n",
       "<polygon fill=\"black\" stroke=\"black\" points=\"1182.34,-1224.76 1175.64,-1216.56 1175.76,-1227.15 1182.34,-1224.76\"/>\n",
       "</g>\n",
       "<!-- 189944 -->\n",
       "<g id=\"node17\" class=\"node\">\n",
       "<title>189944</title>\n",
       "<ellipse fill=\"none\" stroke=\"black\" cx=\"1360.02\" cy=\"-999.31\" rx=\"92.45\" ry=\"28.99\"/>\n",
       "<text text-anchor=\"middle\" x=\"1360.02\" y=\"-1002.51\" font-family=\"Times,serif\" font-size=\"14.00\">Анна Горланова</text>\n",
       "<text text-anchor=\"middle\" x=\"1360.02\" y=\"-986.01\" font-family=\"Times,serif\" font-size=\"14.00\">2024&#45;08&#45;29 14:54:49</text>\n",
       "</g>\n",
       "<!-- 189933&#45;&gt;189944 -->\n",
       "<g id=\"edge16\" class=\"edge\">\n",
       "<title>189933&#45;&gt;189944</title>\n",
       "<path fill=\"none\" stroke=\"black\" d=\"M1238.38,-1332.36C1261.85,-1268.29 1319.11,-1111.97 1345.84,-1039.01\"/>\n",
       "<polygon fill=\"black\" stroke=\"black\" points=\"1349.03,-1040.47 1349.19,-1029.87 1342.46,-1038.06 1349.03,-1040.47\"/>\n",
       "</g>\n",
       "<!-- 189945 -->\n",
       "<g id=\"node18\" class=\"node\">\n",
       "<title>189945</title>\n",
       "<ellipse fill=\"none\" stroke=\"black\" cx=\"1563.02\" cy=\"-999.31\" rx=\"92.45\" ry=\"28.99\"/>\n",
       "<text text-anchor=\"middle\" x=\"1563.02\" y=\"-1002.51\" font-family=\"Times,serif\" font-size=\"14.00\">Анна Горланова</text>\n",
       "<text text-anchor=\"middle\" x=\"1563.02\" y=\"-986.01\" font-family=\"Times,serif\" font-size=\"14.00\">2024&#45;08&#45;29 14:54:50</text>\n",
       "</g>\n",
       "<!-- 189933&#45;&gt;189945 -->\n",
       "<g id=\"edge17\" class=\"edge\">\n",
       "<title>189933&#45;&gt;189945</title>\n",
       "<path fill=\"none\" stroke=\"black\" d=\"M1298.95,-1342.01C1349.94,-1325.37 1417.16,-1296.34 1461.02,-1249.98 1517.97,-1189.77 1544.93,-1093.45 1556.15,-1039.75\"/>\n",
       "<polygon fill=\"black\" stroke=\"black\" points=\"1559.54,-1040.62 1558.07,-1030.13 1552.68,-1039.25 1559.54,-1040.62\"/>\n",
       "</g>\n",
       "<!-- 189949 -->\n",
       "<g id=\"node19\" class=\"node\">\n",
       "<title>189949</title>\n",
       "<ellipse fill=\"none\" stroke=\"black\" cx=\"1097.02\" cy=\"-636.98\" rx=\"124.8\" ry=\"75.66\"/>\n",
       "<text text-anchor=\"middle\" x=\"1097.02\" y=\"-673.18\" font-family=\"Times,serif\" font-size=\"14.00\">Анна Горланова</text>\n",
       "<text text-anchor=\"middle\" x=\"1097.02\" y=\"-656.68\" font-family=\"Times,serif\" font-size=\"14.00\">2024&#45;08&#45;29 14:59:40</text>\n",
       "<text text-anchor=\"middle\" x=\"1097.02\" y=\"-640.18\" font-family=\"Times,serif\" font-size=\"14.00\">Ну и переводить надо</text>\n",
       "<text text-anchor=\"middle\" x=\"1097.02\" y=\"-623.68\" font-family=\"Times,serif\" font-size=\"14.00\">правильно, есть схемы</text>\n",
       "<text text-anchor=\"middle\" x=\"1097.02\" y=\"-607.18\" font-family=\"Times,serif\" font-size=\"14.00\">добавления нового корма к</text>\n",
       "<text text-anchor=\"middle\" x=\"1097.02\" y=\"-590.68\" font-family=\"Times,serif\" font-size=\"14.00\">старому</text>\n",
       "</g>\n",
       "<!-- 189943&#45;&gt;189949 -->\n",
       "<g id=\"edge18\" class=\"edge\">\n",
       "<title>189943&#45;&gt;189949</title>\n",
       "<path fill=\"none\" stroke=\"black\" d=\"M1097.02,-748.54C1097.02,-740.11 1097.02,-731.93 1097.02,-724.08\"/>\n",
       "<polygon fill=\"black\" stroke=\"black\" points=\"1100.52,-724.34 1097.02,-714.34 1093.52,-724.34 1100.52,-724.34\"/>\n",
       "</g>\n",
       "</g>\n",
       "</svg>\n"
      ],
      "text/plain": [
       "<graphviz.graphs.Digraph at 0x1163efbc0>"
      ]
     },
     "metadata": {},
     "output_type": "display_data"
    }
   ],
   "source": [
    "\n",
    "dot = visualize_topic_tree(topic_msgs)\n",
    "dot.attr(size='20, 40')  # Width and height (in inches)\n",
    "dot.attr(rankdir='TB')  # Top to bottom layout\n",
    "dot.render('messages_tree', format='png', cleanup=True)  # save as PNG\n",
    "display(dot)  # to display in Jupyter notebook\n"
   ]
  },
  {
   "cell_type": "markdown",
   "id": "6a9546e9",
   "metadata": {},
   "source": [
    "### Loading of data to elastic search index"
   ]
  },
  {
   "cell_type": "code",
   "execution_count": 3,
   "id": "2d7feba3",
   "metadata": {},
   "outputs": [
    {
     "name": "stderr",
     "output_type": "stream",
     "text": [
      "8746it [00:00, 87893.23it/s]\n",
      "100%|██████████| 8746/8746 [00:14<00:00, 585.16it/s]\n"
     ]
    }
   ],
   "source": [
    "from src.elastic_search import es\n",
    "es.load_messages_from_dump()"
   ]
  },
  {
   "cell_type": "markdown",
   "id": "87d09c1e",
   "metadata": {},
   "source": [
    "#### Rag search using Elastic Search index\n"
   ]
  },
  {
   "cell_type": "code",
   "execution_count": 2,
   "id": "c2375b6b",
   "metadata": {},
   "outputs": [
    {
     "name": "stderr",
     "output_type": "stream",
     "text": [
      "/Users/dklmn/.local/share/virtualenvs/telegram_rag_search-oI0nq4RM/lib/python3.12/site-packages/tqdm/auto.py:21: TqdmWarning: IProgress not found. Please update jupyter and ipywidgets. See https://ipywidgets.readthedocs.io/en/stable/user_install.html\n",
      "  from .autonotebook import tqdm as notebook_tqdm\n"
     ]
    },
    {
     "name": "stdout",
     "output_type": "stream",
     "text": [
      "number of messages found 30\n"
     ]
    },
    {
     "data": {
      "text/html": [
       "<div>\n",
       "<style scoped>\n",
       "    .dataframe tbody tr th:only-of-type {\n",
       "        vertical-align: middle;\n",
       "    }\n",
       "\n",
       "    .dataframe tbody tr th {\n",
       "        vertical-align: top;\n",
       "    }\n",
       "\n",
       "    .dataframe thead th {\n",
       "        text-align: right;\n",
       "    }\n",
       "</style>\n",
       "<table border=\"1\" class=\"dataframe\">\n",
       "  <thead>\n",
       "    <tr style=\"text-align: right;\">\n",
       "      <th></th>\n",
       "      <th>msg_date</th>\n",
       "      <th>reply_to_msg_id</th>\n",
       "      <th>msg_text</th>\n",
       "      <th>msg_id</th>\n",
       "      <th>chat_id</th>\n",
       "      <th>score</th>\n",
       "    </tr>\n",
       "  </thead>\n",
       "  <tbody>\n",
       "    <tr>\n",
       "      <th>0</th>\n",
       "      <td>2024-08-06T22:50:58</td>\n",
       "      <td>NaN</td>\n",
       "      <td>Глориа-джинсовый кот</td>\n",
       "      <td>184792</td>\n",
       "      <td>1688539638</td>\n",
       "      <td>7.782904</td>\n",
       "    </tr>\n",
       "    <tr>\n",
       "      <th>1</th>\n",
       "      <td>2024-08-17T23:59:33</td>\n",
       "      <td>NaN</td>\n",
       "      <td>Тырят кошачий корм, но возможно это и есть кот...</td>\n",
       "      <td>187615</td>\n",
       "      <td>1688539638</td>\n",
       "      <td>10.555922</td>\n",
       "    </tr>\n",
       "    <tr>\n",
       "      <th>2</th>\n",
       "      <td>2024-08-18T00:00:17</td>\n",
       "      <td>187615.0</td>\n",
       "      <td>Да у нас внизу у соседей коты и на балконе в г...</td>\n",
       "      <td>187616</td>\n",
       "      <td>1688539638</td>\n",
       "      <td>5.396717</td>\n",
       "    </tr>\n",
       "    <tr>\n",
       "      <th>3</th>\n",
       "      <td>2024-08-18T00:09:35</td>\n",
       "      <td>NaN</td>\n",
       "      <td>Подумал, лишь бы они от изобилия корма не эвол...</td>\n",
       "      <td>187620</td>\n",
       "      <td>1688539638</td>\n",
       "      <td>4.968675</td>\n",
       "    </tr>\n",
       "    <tr>\n",
       "      <th>4</th>\n",
       "      <td>2024-08-18T00:10:16</td>\n",
       "      <td>187620.0</td>\n",
       "      <td>От изобилия корма не эволюционируют) а как раз...</td>\n",
       "      <td>187621</td>\n",
       "      <td>1688539638</td>\n",
       "      <td>7.197836</td>\n",
       "    </tr>\n",
       "    <tr>\n",
       "      <th>5</th>\n",
       "      <td>2024-08-23T18:38:43</td>\n",
       "      <td>177570.0</td>\n",
       "      <td>кто пользовался ? а то мне тут за уличного кот...</td>\n",
       "      <td>188611</td>\n",
       "      <td>1688539638</td>\n",
       "      <td>6.543031</td>\n",
       "    </tr>\n",
       "    <tr>\n",
       "      <th>6</th>\n",
       "      <td>2024-08-25T00:15:42</td>\n",
       "      <td>188764.0</td>\n",
       "      <td>У меня кот кошачий паштет разлюбил, открыл бан...</td>\n",
       "      <td>188809</td>\n",
       "      <td>1688539638</td>\n",
       "      <td>4.769958</td>\n",
       "    </tr>\n",
       "    <tr>\n",
       "      <th>7</th>\n",
       "      <td>2024-08-25T00:17:41</td>\n",
       "      <td>188809.0</td>\n",
       "      <td>Подождите до завтра, не спешите.\\nКот сходит в...</td>\n",
       "      <td>188810</td>\n",
       "      <td>1688539638</td>\n",
       "      <td>5.643915</td>\n",
       "    </tr>\n",
       "    <tr>\n",
       "      <th>8</th>\n",
       "      <td>2024-08-25T22:29:51</td>\n",
       "      <td>NaN</td>\n",
       "      <td>если вдруг кто знает кота Степана и может подс...</td>\n",
       "      <td>188894</td>\n",
       "      <td>1688539638</td>\n",
       "      <td>4.962050</td>\n",
       "    </tr>\n",
       "    <tr>\n",
       "      <th>9</th>\n",
       "      <td>2024-08-29T10:18:23</td>\n",
       "      <td>NaN</td>\n",
       "      <td>Ребят, кто кото-владельцы, а вы чем своих пито...</td>\n",
       "      <td>189845</td>\n",
       "      <td>1688539638</td>\n",
       "      <td>5.873332</td>\n",
       "    </tr>\n",
       "    <tr>\n",
       "      <th>10</th>\n",
       "      <td>2024-08-29T11:28:49</td>\n",
       "      <td>NaN</td>\n",
       "      <td>Кстати да, кошатники. Нужен совет. У меня кот ...</td>\n",
       "      <td>189876</td>\n",
       "      <td>1688539638</td>\n",
       "      <td>5.051735</td>\n",
       "    </tr>\n",
       "    <tr>\n",
       "      <th>11</th>\n",
       "      <td>2024-08-29T11:34:31</td>\n",
       "      <td>189876.0</td>\n",
       "      <td>Лучше по норме кормить, потому что если не нор...</td>\n",
       "      <td>189877</td>\n",
       "      <td>1688539638</td>\n",
       "      <td>8.761414</td>\n",
       "    </tr>\n",
       "    <tr>\n",
       "      <th>12</th>\n",
       "      <td>2024-08-29T11:43:53</td>\n",
       "      <td>189876.0</td>\n",
       "      <td>Плюс, кормить только сухим тоже не рекомендует...</td>\n",
       "      <td>189880</td>\n",
       "      <td>1688539638</td>\n",
       "      <td>5.879041</td>\n",
       "    </tr>\n",
       "    <tr>\n",
       "      <th>13</th>\n",
       "      <td>2024-08-29T11:46:36</td>\n",
       "      <td>189882.0</td>\n",
       "      <td>Они мне и говорили. Сказали - сырой корм макси...</td>\n",
       "      <td>189883</td>\n",
       "      <td>1688539638</td>\n",
       "      <td>6.471939</td>\n",
       "    </tr>\n",
       "    <tr>\n",
       "      <th>14</th>\n",
       "      <td>2024-08-29T13:52:59</td>\n",
       "      <td>NaN</td>\n",
       "      <td>У моей знакомой 5 котов, говорит на них работает</td>\n",
       "      <td>189907</td>\n",
       "      <td>1688539638</td>\n",
       "      <td>6.543031</td>\n",
       "    </tr>\n",
       "    <tr>\n",
       "      <th>15</th>\n",
       "      <td>2024-08-29T14:01:06</td>\n",
       "      <td>189912.0</td>\n",
       "      <td>я думала лайфхак какой про корм, каким все же ...</td>\n",
       "      <td>189915</td>\n",
       "      <td>1688539638</td>\n",
       "      <td>8.097198</td>\n",
       "    </tr>\n",
       "    <tr>\n",
       "      <th>16</th>\n",
       "      <td>2024-08-29T14:01:13</td>\n",
       "      <td>189845.0</td>\n",
       "      <td>Фарминой кормим, кошка съедает 1,5 кг за 1,5 м...</td>\n",
       "      <td>189916</td>\n",
       "      <td>1688539638</td>\n",
       "      <td>9.375677</td>\n",
       "    </tr>\n",
       "    <tr>\n",
       "      <th>17</th>\n",
       "      <td>2024-08-29T14:07:38</td>\n",
       "      <td>189916.0</td>\n",
       "      <td>Кошки в принципе едят более адекватно. Все кот...</td>\n",
       "      <td>189920</td>\n",
       "      <td>1688539638</td>\n",
       "      <td>5.643915</td>\n",
       "    </tr>\n",
       "    <tr>\n",
       "      <th>18</th>\n",
       "      <td>2024-08-29T14:08:54</td>\n",
       "      <td>189920.0</td>\n",
       "      <td>А коты были бывшие бездомными?</td>\n",
       "      <td>189922</td>\n",
       "      <td>1688539638</td>\n",
       "      <td>7.782904</td>\n",
       "    </tr>\n",
       "    <tr>\n",
       "      <th>19</th>\n",
       "      <td>2024-08-29T14:25:12</td>\n",
       "      <td>189926.0</td>\n",
       "      <td>Ну да, на его вес так и выходит. Только насчет...</td>\n",
       "      <td>189929</td>\n",
       "      <td>1688539638</td>\n",
       "      <td>9.546661</td>\n",
       "    </tr>\n",
       "    <tr>\n",
       "      <th>20</th>\n",
       "      <td>2024-08-29T14:54:49</td>\n",
       "      <td>189933.0</td>\n",
       "      <td>Этой пачки должно хватать на 22 дня ему. Корм ...</td>\n",
       "      <td>189943</td>\n",
       "      <td>1688539638</td>\n",
       "      <td>8.422906</td>\n",
       "    </tr>\n",
       "    <tr>\n",
       "      <th>21</th>\n",
       "      <td>2024-08-29T14:59:40</td>\n",
       "      <td>189943.0</td>\n",
       "      <td>Ну и переводить надо правильно, есть схемы доб...</td>\n",
       "      <td>189949</td>\n",
       "      <td>1688539638</td>\n",
       "      <td>6.471939</td>\n",
       "    </tr>\n",
       "    <tr>\n",
       "      <th>22</th>\n",
       "      <td>2024-08-29T15:02:07</td>\n",
       "      <td>NaN</td>\n",
       "      <td>Двум котам хватает где-то на полгода</td>\n",
       "      <td>189951</td>\n",
       "      <td>1688539638</td>\n",
       "      <td>7.320504</td>\n",
       "    </tr>\n",
       "    <tr>\n",
       "      <th>23</th>\n",
       "      <td>2024-08-29T15:03:04</td>\n",
       "      <td>NaN</td>\n",
       "      <td>Проблема с турецкими кормами, что их при релок...</td>\n",
       "      <td>189953</td>\n",
       "      <td>1688539638</td>\n",
       "      <td>6.471939</td>\n",
       "    </tr>\n",
       "    <tr>\n",
       "      <th>24</th>\n",
       "      <td>2024-09-01T23:19:01</td>\n",
       "      <td>189876.0</td>\n",
       "      <td>Думаю он просто не наедается этим кормом, сост...</td>\n",
       "      <td>190347</td>\n",
       "      <td>1688539638</td>\n",
       "      <td>8.449101</td>\n",
       "    </tr>\n",
       "    <tr>\n",
       "      <th>25</th>\n",
       "      <td>2024-09-02T09:57:40</td>\n",
       "      <td>189876.0</td>\n",
       "      <td>У Roal Conin я только Oral для зубов беру и то...</td>\n",
       "      <td>190366</td>\n",
       "      <td>1688539638</td>\n",
       "      <td>5.385658</td>\n",
       "    </tr>\n",
       "    <tr>\n",
       "      <th>26</th>\n",
       "      <td>2024-09-03T16:44:53</td>\n",
       "      <td>190626.0</td>\n",
       "      <td>Мне понравилось как он котов кормил 😁</td>\n",
       "      <td>190629</td>\n",
       "      <td>1688539638</td>\n",
       "      <td>14.945980</td>\n",
       "    </tr>\n",
       "    <tr>\n",
       "      <th>27</th>\n",
       "      <td>2024-09-08T00:05:20</td>\n",
       "      <td>NaN</td>\n",
       "      <td>А запах опилок это плохо?мой кот правда опилки...</td>\n",
       "      <td>191409</td>\n",
       "      <td>1688539638</td>\n",
       "      <td>4.769958</td>\n",
       "    </tr>\n",
       "    <tr>\n",
       "      <th>28</th>\n",
       "      <td>2024-09-08T02:21:14</td>\n",
       "      <td>NaN</td>\n",
       "      <td>\"Плоды пираканты несъедобны из-за горького вку...</td>\n",
       "      <td>191425</td>\n",
       "      <td>1688539638</td>\n",
       "      <td>5.385658</td>\n",
       "    </tr>\n",
       "    <tr>\n",
       "      <th>29</th>\n",
       "      <td>2024-09-08T21:50:26</td>\n",
       "      <td>NaN</td>\n",
       "      <td>Не просто кот, а настоящий koton</td>\n",
       "      <td>191488</td>\n",
       "      <td>1688539638</td>\n",
       "      <td>7.320504</td>\n",
       "    </tr>\n",
       "  </tbody>\n",
       "</table>\n",
       "</div>"
      ],
      "text/plain": [
       "               msg_date  reply_to_msg_id  \\\n",
       "0   2024-08-06T22:50:58              NaN   \n",
       "1   2024-08-17T23:59:33              NaN   \n",
       "2   2024-08-18T00:00:17         187615.0   \n",
       "3   2024-08-18T00:09:35              NaN   \n",
       "4   2024-08-18T00:10:16         187620.0   \n",
       "5   2024-08-23T18:38:43         177570.0   \n",
       "6   2024-08-25T00:15:42         188764.0   \n",
       "7   2024-08-25T00:17:41         188809.0   \n",
       "8   2024-08-25T22:29:51              NaN   \n",
       "9   2024-08-29T10:18:23              NaN   \n",
       "10  2024-08-29T11:28:49              NaN   \n",
       "11  2024-08-29T11:34:31         189876.0   \n",
       "12  2024-08-29T11:43:53         189876.0   \n",
       "13  2024-08-29T11:46:36         189882.0   \n",
       "14  2024-08-29T13:52:59              NaN   \n",
       "15  2024-08-29T14:01:06         189912.0   \n",
       "16  2024-08-29T14:01:13         189845.0   \n",
       "17  2024-08-29T14:07:38         189916.0   \n",
       "18  2024-08-29T14:08:54         189920.0   \n",
       "19  2024-08-29T14:25:12         189926.0   \n",
       "20  2024-08-29T14:54:49         189933.0   \n",
       "21  2024-08-29T14:59:40         189943.0   \n",
       "22  2024-08-29T15:02:07              NaN   \n",
       "23  2024-08-29T15:03:04              NaN   \n",
       "24  2024-09-01T23:19:01         189876.0   \n",
       "25  2024-09-02T09:57:40         189876.0   \n",
       "26  2024-09-03T16:44:53         190626.0   \n",
       "27  2024-09-08T00:05:20              NaN   \n",
       "28  2024-09-08T02:21:14              NaN   \n",
       "29  2024-09-08T21:50:26              NaN   \n",
       "\n",
       "                                             msg_text  msg_id     chat_id  \\\n",
       "0                                Глориа-джинсовый кот  184792  1688539638   \n",
       "1   Тырят кошачий корм, но возможно это и есть кот...  187615  1688539638   \n",
       "2   Да у нас внизу у соседей коты и на балконе в г...  187616  1688539638   \n",
       "3   Подумал, лишь бы они от изобилия корма не эвол...  187620  1688539638   \n",
       "4   От изобилия корма не эволюционируют) а как раз...  187621  1688539638   \n",
       "5   кто пользовался ? а то мне тут за уличного кот...  188611  1688539638   \n",
       "6   У меня кот кошачий паштет разлюбил, открыл бан...  188809  1688539638   \n",
       "7   Подождите до завтра, не спешите.\\nКот сходит в...  188810  1688539638   \n",
       "8   если вдруг кто знает кота Степана и может подс...  188894  1688539638   \n",
       "9   Ребят, кто кото-владельцы, а вы чем своих пито...  189845  1688539638   \n",
       "10  Кстати да, кошатники. Нужен совет. У меня кот ...  189876  1688539638   \n",
       "11  Лучше по норме кормить, потому что если не нор...  189877  1688539638   \n",
       "12  Плюс, кормить только сухим тоже не рекомендует...  189880  1688539638   \n",
       "13  Они мне и говорили. Сказали - сырой корм макси...  189883  1688539638   \n",
       "14   У моей знакомой 5 котов, говорит на них работает  189907  1688539638   \n",
       "15  я думала лайфхак какой про корм, каким все же ...  189915  1688539638   \n",
       "16  Фарминой кормим, кошка съедает 1,5 кг за 1,5 м...  189916  1688539638   \n",
       "17  Кошки в принципе едят более адекватно. Все кот...  189920  1688539638   \n",
       "18                     А коты были бывшие бездомными?  189922  1688539638   \n",
       "19  Ну да, на его вес так и выходит. Только насчет...  189929  1688539638   \n",
       "20  Этой пачки должно хватать на 22 дня ему. Корм ...  189943  1688539638   \n",
       "21  Ну и переводить надо правильно, есть схемы доб...  189949  1688539638   \n",
       "22               Двум котам хватает где-то на полгода  189951  1688539638   \n",
       "23  Проблема с турецкими кормами, что их при релок...  189953  1688539638   \n",
       "24  Думаю он просто не наедается этим кормом, сост...  190347  1688539638   \n",
       "25  У Roal Conin я только Oral для зубов беру и то...  190366  1688539638   \n",
       "26              Мне понравилось как он котов кормил 😁  190629  1688539638   \n",
       "27  А запах опилок это плохо?мой кот правда опилки...  191409  1688539638   \n",
       "28  \"Плоды пираканты несъедобны из-за горького вку...  191425  1688539638   \n",
       "29                   Не просто кот, а настоящий koton  191488  1688539638   \n",
       "\n",
       "        score  \n",
       "0    7.782904  \n",
       "1   10.555922  \n",
       "2    5.396717  \n",
       "3    4.968675  \n",
       "4    7.197836  \n",
       "5    6.543031  \n",
       "6    4.769958  \n",
       "7    5.643915  \n",
       "8    4.962050  \n",
       "9    5.873332  \n",
       "10   5.051735  \n",
       "11   8.761414  \n",
       "12   5.879041  \n",
       "13   6.471939  \n",
       "14   6.543031  \n",
       "15   8.097198  \n",
       "16   9.375677  \n",
       "17   5.643915  \n",
       "18   7.782904  \n",
       "19   9.546661  \n",
       "20   8.422906  \n",
       "21   6.471939  \n",
       "22   7.320504  \n",
       "23   6.471939  \n",
       "24   8.449101  \n",
       "25   5.385658  \n",
       "26  14.945980  \n",
       "27   4.769958  \n",
       "28   5.385658  \n",
       "29   7.320504  "
      ]
     },
     "execution_count": 2,
     "metadata": {},
     "output_type": "execute_result"
    }
   ],
   "source": [
    "from src.elastic_search import es\n",
    "search_field = 'msg_text'\n",
    "tags = 'кот кормить'\n",
    "srs = es.simple_search(search_term=tags, index_name=cfg.index_name_messages, search_field=search_field, min_score=4, size=30)\n",
    "print(f'number of messages found {len(srs)}')\n",
    "srs = [{**d, \"score\": score} for score, d in srs]\n",
    "srs.sort(key= lambda x: x['msg_id'])\n",
    "df = pd.DataFrame.from_dict(srs)\n",
    "df\n"
   ]
  },
  {
   "cell_type": "code",
   "execution_count": 12,
   "id": "09e9f71c",
   "metadata": {},
   "outputs": [],
   "source": [
    "import json\n",
    "def jsonsify(inp: str):\n",
    "    inp = inp.replace('```json', '').replace('```','')\n",
    "    parsed_json = json.loads(inp)\n",
    "    pretty_json = json.dumps(parsed_json, indent=4, ensure_ascii=False)\n",
    "    return pretty_json"
   ]
  },
  {
   "cell_type": "code",
   "execution_count": null,
   "id": "44c1a383",
   "metadata": {},
   "outputs": [],
   "source": [
    "from  src.rag_integration import RaguDuDu\n",
    "question = 'I have a Thai cat. How should I feed him?'\n",
    "rg = RaguDuDu()\n",
    "ret = rg.rag_by_messages(question=question, tags=tags)\n"
   ]
  },
  {
   "cell_type": "code",
   "execution_count": 13,
   "id": "1e9ee7a7",
   "metadata": {},
   "outputs": [
    {
     "name": "stdout",
     "output_type": "stream",
     "text": [
      "{\n",
      "    \"answer\": \"To feed your Thai cat properly, it's recommended to provide a balanced diet that includes both dry and wet food. Regular dry food should be available in free access, but it's also important to add wet food a few times a week to ensure proper hydration and nutrition. It's crucial to avoid overfeeding and to adjust portions according to your cat's weight and health. Additionally, monitor the quality of the food you choose, as some brands may contain too many fillers and not enough protein.\",\n",
      "    \"msg_ids\": [\n",
      "        189880,\n",
      "        189881,\n",
      "        189882,\n",
      "        189883,\n",
      "        190367\n",
      "    ]\n",
      "}\n"
     ]
    }
   ],
   "source": [
    "\n",
    "pretty_json = jsonsify(ret)\n",
    "print(pretty_json)"
   ]
  },
  {
   "cell_type": "markdown",
   "id": "96eb0c40",
   "metadata": {},
   "source": [
    "### vector based RAG search using index over topics\n",
    "1) are taking some message, that might be any message in the topic, fetching the messages, that could potentially constitue a topic.\n",
    "2) we are feeding these messages to LLM to extract topic and give relevant messages. \n",
    "    LLM should also provide some pairs of questions and answers, related to this topic.\n",
    "    These pairs supposed to be used later for evaluation (not implemented yet)\n",
    "3) we are pushing this \"topic\" document into Elastic Search as a new document\n"
   ]
  },
  {
   "cell_type": "code",
   "execution_count": 10,
   "id": "80cf9ad9",
   "metadata": {},
   "outputs": [
    {
     "name": "stdout",
     "output_type": "stream",
     "text": [
      "{\n",
      "    \"topic_name\": \"Питание домашних животных\",\n",
      "    \"topic_name_eng\": \"Feeding Pets\",\n",
      "    \"topic_summary\": \"В обсуждении рассматриваются различные корма для котов, их стоимость и диета. Участники делятся опытом и рекомендациями по нормированию питания, а также обсуждают производители корма и особенности кормления стерилизованных котов.\",\n",
      "    \"topic_summary_eng\": \"The discussion focuses on different cat food brands, their cost, and diet. Participants share experiences and recommendations regarding portion control, and also discuss the food producers and feeding sterilized cats.\",\n",
      "    \"topic_tags\": [\n",
      "        \"корм\",\n",
      "        \"кошки\",\n",
      "        \"питомцы\",\n",
      "        \"диета\",\n",
      "        \"питание\"\n",
      "    ],\n",
      "    \"topic_tags_eng\": [\n",
      "        \"food\",\n",
      "        \"cats\",\n",
      "        \"pets\",\n",
      "        \"diet\",\n",
      "        \"feeding\"\n",
      "    ],\n",
      "    \"msg_ids\": [\n",
      "        189845,\n",
      "        189875,\n",
      "        189876,\n",
      "        189877,\n",
      "        189878,\n",
      "        189916,\n",
      "        189917,\n",
      "        189918,\n",
      "        189919,\n",
      "        189920,\n",
      "        189922,\n",
      "        189923,\n",
      "        189924,\n",
      "        189926,\n",
      "        189929,\n",
      "        190343,\n",
      "        190344,\n",
      "        190762\n",
      "    ],\n",
      "    \"questions\": [\n",
      "        \"What foods are recommended for sterilized cats?\",\n",
      "        \"How to properly transition a cat to a new food?\"\n",
      "    ],\n",
      "    \"answers\": [\n",
      "        \"It is suggested to feed sterilized cats on a measured basis to prevent obesity, with recommendations highlighting Royal Canin as a suitable option. Variations in diet based on the cat's weight and health need to be considered.\",\n",
      "        \"When transitioning a cat to a new food, it is important to do it gradually to prevent digestive issues. Mixing the new food with the old in increasing proportions is recommended.\"\n",
      "    ]\n",
      "}\n"
     ]
    }
   ],
   "source": [
    "rag_ret = rg.get_topic_summary_by_message(topic_message_id=189845)\n",
    "rag_ret = rag_ret.replace('```json', '').replace('```','')\n",
    "topic_doc = json.loads(rag_ret)\n",
    "pretty_json = json.dumps(topic_doc, indent=4,  ensure_ascii=False)\n",
    "print(pretty_json)\n"
   ]
  },
  {
   "cell_type": "markdown",
   "id": "f5df1912",
   "metadata": {},
   "source": []
  },
  {
   "cell_type": "code",
   "execution_count": 11,
   "id": "7c71ea4d",
   "metadata": {},
   "outputs": [
    {
     "name": "stderr",
     "output_type": "stream",
     "text": [
      "/Users/dklmn/.local/share/virtualenvs/telegram_rag_search-oI0nq4RM/lib/python3.12/site-packages/transformers/tokenization_utils_base.py:1601: FutureWarning: `clean_up_tokenization_spaces` was not set. It will be set to `True` by default. This behavior will be depracted in transformers v4.45, and will be then set to `False` by default. For more details check this issue: https://github.com/huggingface/transformers/issues/31884\n",
      "  warnings.warn(\n",
      "/Users/dklmn/.local/share/virtualenvs/telegram_rag_search-oI0nq4RM/lib/python3.12/site-packages/sentence_transformers/models/Dense.py:77: FutureWarning: You are using `torch.load` with `weights_only=False` (the current default value), which uses the default pickle module implicitly. It is possible to construct malicious pickle data which will execute arbitrary code during unpickling (See https://github.com/pytorch/pytorch/blob/main/SECURITY.md#untrusted-models for more details). In a future release, the default value for `weights_only` will be flipped to `True`. This limits the functions that could be executed during unpickling. Arbitrary objects will no longer be allowed to be loaded via this mode unless they are explicitly allowlisted by the user via `torch.serialization.add_safe_globals`. We recommend you start setting `weights_only=True` for any use case where you don't have full control of the loaded file. Please open an issue on GitHub for any issues related to this experimental feature.\n",
      "  torch.load(os.path.join(input_path, \"pytorch_model.bin\"), map_location=torch.device(\"cpu\"))\n",
      "100%|██████████| 1/1 [00:00<00:00,  3.15it/s]\n"
     ]
    }
   ],
   "source": [
    "\n",
    "es.index_docs(docs=[topic_doc], index_name=cfg.index_name_topics, recreate_index=False)\n",
    "# pushing document with a new topic into ES index"
   ]
  },
  {
   "cell_type": "markdown",
   "id": "bd0528c8",
   "metadata": {},
   "source": [
    "#### we are using the ES index with topics for verctor based RAG search.\n",
    "As I didn't find reliable way to leverage Sentense tranformer models to work with russian text, we are making vector search across english translations of topic summary\n"
   ]
  },
  {
   "cell_type": "code",
   "execution_count": null,
   "id": "5ae8364c",
   "metadata": {},
   "outputs": [],
   "source": [
    "question = 'I have a Thai cat. How should I feed him? '\n",
    "ret = rg.rag_by_topics(question=question)\n"
   ]
  },
  {
   "cell_type": "code",
   "execution_count": null,
   "id": "8081fb8c",
   "metadata": {},
   "outputs": [],
   "source": [
    "import json\n",
    "ret = ret.replace('```json', '').replace('```','')\n",
    "parsed_json = json.loads(ret)\n",
    "pretty_json = json.dumps(parsed_json, indent=4, ensure_ascii=False)\n",
    "print(pretty_json)"
   ]
  },
  {
   "cell_type": "markdown",
   "id": "0f871414",
   "metadata": {},
   "source": [
    "translation of telegram messages with chunking and overlapping \n"
   ]
  },
  {
   "cell_type": "code",
   "execution_count": 2,
   "id": "08f977c0",
   "metadata": {},
   "outputs": [
    {
     "name": "stderr",
     "output_type": "stream",
     "text": [
      "/Users/dklmn/.local/share/virtualenvs/telegram_rag_search-oI0nq4RM/lib/python3.12/site-packages/tqdm/auto.py:21: TqdmWarning: IProgress not found. Please update jupyter and ipywidgets. See https://ipywidgets.readthedocs.io/en/stable/user_install.html\n",
      "  from .autonotebook import tqdm as notebook_tqdm\n",
      "0it [00:00, ?it/s]"
     ]
    },
    {
     "name": "stdout",
     "output_type": "stream",
     "text": [
      "chunk is ready for 133 msgs: 189786-189919, chunk_symbols_count=23859\n"
     ]
    },
    {
     "name": "stderr",
     "output_type": "stream",
     "text": [
      "6266it [01:12, 86.33it/s]"
     ]
    },
    {
     "name": "stdout",
     "output_type": "stream",
     "text": [
      "amount_spend total:0.00504, last: 0.00504 USD\n",
      "data written to output/llm_output/messages189786-189919.json\n",
      "chunk is ready for 137 msgs: 189918-190056, chunk_symbols_count=23944\n"
     ]
    },
    {
     "name": "stderr",
     "output_type": "stream",
     "text": [
      "6401it [02:32, 34.61it/s]"
     ]
    },
    {
     "name": "stdout",
     "output_type": "stream",
     "text": [
      "amount_spend total:0.00998, last: 0.00494 USD\n",
      "data written to output/llm_output/messages189918-190056.json\n",
      "chunk is ready for 147 msgs: 190055-190203, chunk_symbols_count=23991\n"
     ]
    },
    {
     "name": "stderr",
     "output_type": "stream",
     "text": [
      "6546it [03:48, 19.79it/s]"
     ]
    },
    {
     "name": "stdout",
     "output_type": "stream",
     "text": [
      "amount_spend total:0.01489, last: 0.00491 USD\n",
      "data written to output/llm_output/messages190055-190203.json\n",
      "chunk is ready for 134 msgs: 190202-190337, chunk_symbols_count=23908\n"
     ]
    },
    {
     "name": "stderr",
     "output_type": "stream",
     "text": [
      "6678it [05:01, 12.84it/s]"
     ]
    },
    {
     "name": "stdout",
     "output_type": "stream",
     "text": [
      "amount_spend total:0.01966, last: 0.00477 USD\n",
      "data written to output/llm_output/messages190202-190337.json\n",
      "chunk is ready for 129 msgs: 190336-190466, chunk_symbols_count=23791\n"
     ]
    },
    {
     "name": "stderr",
     "output_type": "stream",
     "text": [
      "6805it [06:31,  8.23it/s]"
     ]
    },
    {
     "name": "stdout",
     "output_type": "stream",
     "text": [
      "amount_spend total:0.02440, last: 0.00473 USD\n",
      "data written to output/llm_output/messages190336-190466.json\n",
      "chunk is ready for 147 msgs: 190465-190612, chunk_symbols_count=23946\n"
     ]
    },
    {
     "name": "stderr",
     "output_type": "stream",
     "text": [
      "6950it [07:49,  6.13it/s]"
     ]
    },
    {
     "name": "stdout",
     "output_type": "stream",
     "text": [
      "amount_spend total:0.02936, last: 0.00496 USD\n",
      "data written to output/llm_output/messages190465-190612.json\n",
      "chunk is ready for 184 msgs: 190611-190797, chunk_symbols_count=23943\n"
     ]
    },
    {
     "name": "stderr",
     "output_type": "stream",
     "text": [
      "7132it [09:02,  5.00it/s]"
     ]
    },
    {
     "name": "stdout",
     "output_type": "stream",
     "text": [
      "amount_spend total:0.03447, last: 0.00511 USD\n",
      "data written to output/llm_output/messages190611-190797.json\n",
      "chunk is ready for 175 msgs: 190796-190970, chunk_symbols_count=23920\n"
     ]
    },
    {
     "name": "stderr",
     "output_type": "stream",
     "text": [
      "7305it [11:20,  3.30it/s]"
     ]
    },
    {
     "name": "stdout",
     "output_type": "stream",
     "text": [
      "amount_spend total:0.04022, last: 0.00576 USD\n",
      "data written to output/llm_output/messages190796-190970.json\n",
      "chunk is ready for 130 msgs: 190969-191101, chunk_symbols_count=23953\n"
     ]
    },
    {
     "name": "stderr",
     "output_type": "stream",
     "text": [
      "7433it [12:33,  2.91it/s]"
     ]
    },
    {
     "name": "stdout",
     "output_type": "stream",
     "text": [
      "amount_spend total:0.04507, last: 0.00484 USD\n",
      "data written to output/llm_output/messages190969-191101.json\n",
      "chunk is ready for 146 msgs: 191100-191245, chunk_symbols_count=23863\n"
     ]
    },
    {
     "name": "stderr",
     "output_type": "stream",
     "text": [
      "7577it [14:22,  2.35it/s]"
     ]
    },
    {
     "name": "stdout",
     "output_type": "stream",
     "text": [
      "amount_spend total:0.05071, last: 0.00564 USD\n",
      "data written to output/llm_output/messages191100-191245.json\n",
      "chunk is ready for 149 msgs: 191244-191392, chunk_symbols_count=23549\n"
     ]
    },
    {
     "name": "stderr",
     "output_type": "stream",
     "text": [
      "7724it [15:33,  2.28it/s]"
     ]
    },
    {
     "name": "stdout",
     "output_type": "stream",
     "text": [
      "amount_spend total:0.05570, last: 0.00499 USD\n",
      "data written to output/llm_output/messages191244-191392.json\n",
      "chunk is ready for 136 msgs: 191391-191530, chunk_symbols_count=23928\n"
     ]
    },
    {
     "name": "stderr",
     "output_type": "stream",
     "text": [
      "7858it [16:52,  2.11it/s]"
     ]
    },
    {
     "name": "stdout",
     "output_type": "stream",
     "text": [
      "amount_spend total:0.06087, last: 0.00516 USD\n",
      "data written to output/llm_output/messages191391-191530.json\n",
      "chunk is ready for 162 msgs: 191529-191695, chunk_symbols_count=23943\n"
     ]
    },
    {
     "name": "stderr",
     "output_type": "stream",
     "text": [
      "8018it [18:43,  1.87it/s]"
     ]
    },
    {
     "name": "stdout",
     "output_type": "stream",
     "text": [
      "amount_spend total:0.06608, last: 0.00521 USD\n",
      "data written to output/llm_output/messages191529-191695.json\n",
      "chunk is ready for 143 msgs: 191694-191837, chunk_symbols_count=23995\n"
     ]
    },
    {
     "name": "stderr",
     "output_type": "stream",
     "text": [
      "8159it [19:42,  1.98it/s]"
     ]
    },
    {
     "name": "stdout",
     "output_type": "stream",
     "text": [
      "amount_spend total:0.07055, last: 0.00447 USD\n",
      "data written to output/llm_output/messages191694-191837.json\n",
      "chunk is ready for 154 msgs: 191836-191994, chunk_symbols_count=23928\n"
     ]
    },
    {
     "name": "stderr",
     "output_type": "stream",
     "text": [
      "8311it [21:00,  1.97it/s]"
     ]
    },
    {
     "name": "stdout",
     "output_type": "stream",
     "text": [
      "amount_spend total:0.07558, last: 0.00503 USD\n",
      "data written to output/llm_output/messages191836-191994.json\n",
      "chunk is ready for 147 msgs: 191993-192140, chunk_symbols_count=23202\n"
     ]
    },
    {
     "name": "stderr",
     "output_type": "stream",
     "text": [
      "8456it [22:11,  2.00it/s]"
     ]
    },
    {
     "name": "stdout",
     "output_type": "stream",
     "text": [
      "amount_spend total:0.08032, last: 0.00474 USD\n",
      "data written to output/llm_output/messages191993-192140.json\n",
      "chunk is ready for 150 msgs: 192139-192288, chunk_symbols_count=23956\n"
     ]
    },
    {
     "name": "stderr",
     "output_type": "stream",
     "text": [
      "8746it [23:22,  6.24it/s]"
     ]
    },
    {
     "name": "stdout",
     "output_type": "stream",
     "text": [
      "amount_spend total:0.08542, last: 0.00510 USD\n",
      "data written to output/llm_output/messages192139-192288.json\n",
      "chunk is ready for 145 msgs: 192287-192434, chunk_symbols_count=21836\n"
     ]
    },
    {
     "name": "stderr",
     "output_type": "stream",
     "text": [
      "\n"
     ]
    },
    {
     "name": "stdout",
     "output_type": "stream",
     "text": [
      "amount_spend total:0.09001, last: 0.00459 USD\n",
      "data written to output/llm_output/messages192287-192434.json\n",
      "amount_spend total:0.09001 USD\n"
     ]
    }
   ],
   "source": [
    "from src.rag_integration import translate_messages\n",
    "import src.llm as llm\n",
    "out_dir = 'output/llm_output'\n",
    "\n",
    "dump_path = cfg.messages_dump_path\n",
    "msgs = telega_dump_parse_essential(dump_path=dump_path) # return iterator, not list\n",
    "msgs_to_translate = (msg for msg in msgs if msg.msg_id > 189785)\n",
    "max_tokens_count = 8000 * 1.5\n",
    "# gpt-4o mini; mulitpying to approx coef to be sure we can fit to context window and does not exeed number of max output tokens  \n",
    "translate_messages(msgs_to_translate, out_dir, max_tokens_count=max_tokens_count, overlapping_msgs_cnt=2)\n",
    "print(f'amount_spend total:{llm.TOTAL_SPEND:.5f} USD')"
   ]
  },
  {
   "cell_type": "markdown",
   "id": "a9ae5d23",
   "metadata": {},
   "source": [
    "After we have prepared files with translated chunks of messages, need to merge in, considering overlapping sets"
   ]
  },
  {
   "cell_type": "code",
   "execution_count": 23,
   "id": "6e88cefa",
   "metadata": {},
   "outputs": [
    {
     "name": "stderr",
     "output_type": "stream",
     "text": [
      "8746it [00:00, 30061.08it/s]\n"
     ]
    },
    {
     "name": "stdout",
     "output_type": "stream",
     "text": [
      "parsing file name output/llm_output/messages186484-186615.json\n"
     ]
    },
    {
     "name": "stderr",
     "output_type": "stream",
     "text": [
      "100%|██████████| 130/130 [00:00<00:00, 746930.85it/s]\n"
     ]
    },
    {
     "name": "stdout",
     "output_type": "stream",
     "text": [
      "parsing file name output/llm_output/messages192139-192288.json\n"
     ]
    },
    {
     "name": "stderr",
     "output_type": "stream",
     "text": [
      "100%|██████████| 150/150 [00:00<00:00, 986121.63it/s]\n"
     ]
    },
    {
     "name": "stdout",
     "output_type": "stream",
     "text": [
      "parsing file name output/llm_output/messages184008-184153.json\n"
     ]
    },
    {
     "name": "stderr",
     "output_type": "stream",
     "text": [
      "100%|██████████| 142/142 [00:00<00:00, 807034.10it/s]\n"
     ]
    },
    {
     "name": "stdout",
     "output_type": "stream",
     "text": [
      "parsing file name output/llm_output/messages185538-185685.json\n"
     ]
    },
    {
     "name": "stderr",
     "output_type": "stream",
     "text": [
      "100%|██████████| 145/145 [00:00<00:00, 793960.94it/s]\n"
     ]
    },
    {
     "name": "stdout",
     "output_type": "stream",
     "text": [
      "parsing file name output/llm_output/messages190796-190970.json\n"
     ]
    },
    {
     "name": "stderr",
     "output_type": "stream",
     "text": [
      "100%|██████████| 175/175 [00:00<00:00, 916358.55it/s]\n"
     ]
    },
    {
     "name": "stdout",
     "output_type": "stream",
     "text": [
      "parsing file name output/llm_output/messages185987-186106.json\n"
     ]
    },
    {
     "name": "stderr",
     "output_type": "stream",
     "text": [
      "100%|██████████| 65/65 [00:00<00:00, 448404.21it/s]\n"
     ]
    },
    {
     "name": "stdout",
     "output_type": "stream",
     "text": [
      "parsing file name output/llm_output/messages184932-185079.json\n"
     ]
    },
    {
     "name": "stderr",
     "output_type": "stream",
     "text": [
      "100%|██████████| 146/146 [00:00<00:00, 777117.24it/s]\n"
     ]
    },
    {
     "name": "stdout",
     "output_type": "stream",
     "text": [
      "parsing file name output/llm_output/messages186614-186777.json\n"
     ]
    },
    {
     "name": "stderr",
     "output_type": "stream",
     "text": [
      "  0%|          | 0/163 [00:00<?, ?it/s]\n"
     ]
    },
    {
     "name": "stdout",
     "output_type": "stream",
     "text": [
      "parsing file name output/llm_output/messages184426-184574.json\n"
     ]
    },
    {
     "name": "stderr",
     "output_type": "stream",
     "text": [
      "100%|██████████| 142/142 [00:00<00:00, 723683.07it/s]\n"
     ]
    },
    {
     "name": "stdout",
     "output_type": "stream",
     "text": [
      "parsing file name output/llm_output/messages191100-191245.json\n"
     ]
    },
    {
     "name": "stderr",
     "output_type": "stream",
     "text": [
      "100%|██████████| 146/146 [00:00<00:00, 651455.73it/s]\n"
     ]
    },
    {
     "name": "stdout",
     "output_type": "stream",
     "text": [
      "parsing file name output/llm_output/messages187238-187348.json\n"
     ]
    },
    {
     "name": "stderr",
     "output_type": "stream",
     "text": [
      "100%|██████████| 111/111 [00:00<00:00, 680654.60it/s]\n"
     ]
    },
    {
     "name": "stdout",
     "output_type": "stream",
     "text": [
      "parsing file name output/llm_output/messages191529-191695.json\n"
     ]
    },
    {
     "name": "stderr",
     "output_type": "stream",
     "text": [
      "100%|██████████| 162/162 [00:00<00:00, 798445.65it/s]\n"
     ]
    },
    {
     "name": "stdout",
     "output_type": "stream",
     "text": [
      "parsing file name output/llm_output/messages187499-187650.json\n"
     ]
    },
    {
     "name": "stderr",
     "output_type": "stream",
     "text": [
      "100%|██████████| 152/152 [00:00<00:00, 731117.21it/s]\n"
     ]
    },
    {
     "name": "stdout",
     "output_type": "stream",
     "text": [
      "parsing file name output/llm_output/messages191993-192140.json\n"
     ]
    },
    {
     "name": "stderr",
     "output_type": "stream",
     "text": [
      " 99%|█████████▊| 145/147 [00:00<00:00, 788812.04it/s]\n"
     ]
    },
    {
     "name": "stdout",
     "output_type": "stream",
     "text": [
      "parsing file name output/llm_output/messages190611-190797.json\n"
     ]
    },
    {
     "name": "stderr",
     "output_type": "stream",
     "text": [
      " 99%|█████████▉| 182/184 [00:00<00:00, 933207.00it/s]\n"
     ]
    },
    {
     "name": "stdout",
     "output_type": "stream",
     "text": [
      "parsing file name output/llm_output/messages191244-191392.json\n"
     ]
    },
    {
     "name": "stderr",
     "output_type": "stream",
     "text": [
      "  0%|          | 0/149 [00:00<?, ?it/s]\n"
     ]
    },
    {
     "name": "stdout",
     "output_type": "stream",
     "text": [
      "parsing file name output/llm_output/messages183554-183706.json\n"
     ]
    },
    {
     "name": "stderr",
     "output_type": "stream",
     "text": [
      "100%|██████████| 145/145 [00:00<00:00, 503455.36it/s]\n"
     ]
    },
    {
     "name": "stdout",
     "output_type": "stream",
     "text": [
      "parsing file name output/llm_output/messages185378-185539.json\n"
     ]
    },
    {
     "name": "stderr",
     "output_type": "stream",
     "text": [
      " 99%|█████████▊| 146/148 [00:00<00:00, 764504.85it/s]\n"
     ]
    },
    {
     "name": "stdout",
     "output_type": "stream",
     "text": [
      "parsing file name output/llm_output/messages186217-186360.json\n"
     ]
    },
    {
     "name": "stderr",
     "output_type": "stream",
     "text": [
      "100%|██████████| 144/144 [00:00<00:00, 799973.21it/s]\n"
     ]
    },
    {
     "name": "stdout",
     "output_type": "stream",
     "text": [
      "parsing file name output/llm_output/messages190055-190203.json\n"
     ]
    },
    {
     "name": "stderr",
     "output_type": "stream",
     "text": [
      "100%|██████████| 147/147 [00:00<00:00, 777506.54it/s]\n"
     ]
    },
    {
     "name": "stdout",
     "output_type": "stream",
     "text": [
      "parsing file name output/llm_output/messages186776-186931.json\n"
     ]
    },
    {
     "name": "stderr",
     "output_type": "stream",
     "text": [
      "100%|██████████| 155/155 [00:00<00:00, 838860.80it/s]\n"
     ]
    },
    {
     "name": "stdout",
     "output_type": "stream",
     "text": [
      "parsing file name output/llm_output/messages187347-187500.json\n"
     ]
    },
    {
     "name": "stderr",
     "output_type": "stream",
     "text": [
      "  0%|          | 0/152 [00:00<?, ?it/s]\n"
     ]
    },
    {
     "name": "stdout",
     "output_type": "stream",
     "text": [
      "parsing file name output/llm_output/messages192287-192434.json\n"
     ]
    },
    {
     "name": "stderr",
     "output_type": "stream",
     "text": [
      "  0%|          | 0/145 [00:00<?, ?it/s]\n"
     ]
    },
    {
     "name": "stdout",
     "output_type": "stream",
     "text": [
      "parsing file name output/llm_output/messages187649-187808.json\n"
     ]
    },
    {
     "name": "stderr",
     "output_type": "stream",
     "text": [
      "  0%|          | 0/160 [00:00<?, ?it/s]\n"
     ]
    },
    {
     "name": "stdout",
     "output_type": "stream",
     "text": [
      "parsing file name output/llm_output/messages183705-183836.json\n"
     ]
    },
    {
     "name": "stderr",
     "output_type": "stream",
     "text": [
      "  0%|          | 0/132 [00:00<?, ?it/s]\n"
     ]
    },
    {
     "name": "stdout",
     "output_type": "stream",
     "text": [
      "parsing file name output/llm_output/messages188855-188980.json\n"
     ]
    },
    {
     "name": "stderr",
     "output_type": "stream",
     "text": [
      "100%|██████████| 124/124 [00:00<00:00, 771652.37it/s]\n"
     ]
    },
    {
     "name": "stdout",
     "output_type": "stream",
     "text": [
      "parsing file name output/llm_output/messages183835-184009.json\n"
     ]
    },
    {
     "name": "stderr",
     "output_type": "stream",
     "text": [
      " 99%|█████████▉| 170/172 [00:00<00:00, 794907.11it/s]\n"
     ]
    },
    {
     "name": "stdout",
     "output_type": "stream",
     "text": [
      "parsing file name output/llm_output/messages184294-184427.json\n"
     ]
    },
    {
     "name": "stderr",
     "output_type": "stream",
     "text": [
      " 98%|█████████▊| 127/129 [00:00<00:00, 132145.03it/s]\n"
     ]
    },
    {
     "name": "stdout",
     "output_type": "stream",
     "text": [
      "parsing file name output/llm_output/messages189251-189393.json\n"
     ]
    },
    {
     "name": "stderr",
     "output_type": "stream",
     "text": [
      "100%|██████████| 142/142 [00:00<00:00, 747291.30it/s]\n"
     ]
    },
    {
     "name": "stdout",
     "output_type": "stream",
     "text": [
      "parsing file name output/llm_output/messages187963-188119.json\n"
     ]
    },
    {
     "name": "stderr",
     "output_type": "stream",
     "text": [
      "100%|██████████| 153/153 [00:00<00:00, 792257.42it/s]\n"
     ]
    },
    {
     "name": "stdout",
     "output_type": "stream",
     "text": [
      "parsing file name output/llm_output/messages189516-189652.json\n"
     ]
    },
    {
     "name": "stderr",
     "output_type": "stream",
     "text": [
      "100%|██████████| 136/136 [00:00<00:00, 866907.82it/s]\n"
     ]
    },
    {
     "name": "stdout",
     "output_type": "stream",
     "text": [
      "parsing file name output/llm_output/messages184152-184295.json\n"
     ]
    },
    {
     "name": "stderr",
     "output_type": "stream",
     "text": [
      "  0%|          | 0/144 [00:00<?, ?it/s]\n"
     ]
    },
    {
     "name": "stdout",
     "output_type": "stream",
     "text": [
      "parsing file name output/llm_output/messages189115-189252.json\n"
     ]
    },
    {
     "name": "stderr",
     "output_type": "stream",
     "text": [
      " 99%|█████████▊| 135/137 [00:00<00:00, 813550.34it/s]\n"
     ]
    },
    {
     "name": "stdout",
     "output_type": "stream",
     "text": [
      "parsing file name output/llm_output/messages185224-185379.json\n"
     ]
    },
    {
     "name": "stderr",
     "output_type": "stream",
     "text": [
      " 99%|█████████▊| 154/156 [00:00<00:00, 827045.86it/s]\n"
     ]
    },
    {
     "name": "stdout",
     "output_type": "stream",
     "text": [
      "parsing file name output/llm_output/messages186359-186485.json\n"
     ]
    },
    {
     "name": "stderr",
     "output_type": "stream",
     "text": [
      "  0%|          | 0/115 [00:00<?, ?it/s]\n"
     ]
    },
    {
     "name": "stdout",
     "output_type": "stream",
     "text": [
      "parsing file name output/llm_output/messages187077-187239.json\n"
     ]
    },
    {
     "name": "stderr",
     "output_type": "stream",
     "text": [
      " 99%|█████████▊| 157/159 [00:00<00:00, 826230.52it/s]\n"
     ]
    },
    {
     "name": "stdout",
     "output_type": "stream",
     "text": [
      "parsing file name output/llm_output/messages186105-186218.json\n"
     ]
    },
    {
     "name": "stderr",
     "output_type": "stream",
     "text": [
      " 98%|█████████▊| 112/114 [00:00<00:00, 818400.78it/s]\n"
     ]
    },
    {
     "name": "stdout",
     "output_type": "stream",
     "text": [
      "parsing file name output/llm_output/messages191836-191994.json\n"
     ]
    },
    {
     "name": "stderr",
     "output_type": "stream",
     "text": [
      " 99%|█████████▊| 152/154 [00:00<00:00, 523857.20it/s]\n"
     ]
    },
    {
     "name": "stdout",
     "output_type": "stream",
     "text": [
      "parsing file name output/llm_output/messages190465-190612.json\n"
     ]
    },
    {
     "name": "stderr",
     "output_type": "stream",
     "text": [
      " 99%|█████████▊| 145/147 [00:00<00:00, 249968.80it/s]\n"
     ]
    },
    {
     "name": "stdout",
     "output_type": "stream",
     "text": [
      "parsing file name output/llm_output/messages185078-185225.json\n"
     ]
    },
    {
     "name": "stderr",
     "output_type": "stream",
     "text": [
      "  0%|          | 0/143 [00:00<?, ?it/s]\n"
     ]
    },
    {
     "name": "stdout",
     "output_type": "stream",
     "text": [
      "parsing file name output/llm_output/messages188712-188856.json\n"
     ]
    },
    {
     "name": "stderr",
     "output_type": "stream",
     "text": [
      " 99%|█████████▊| 142/144 [00:00<00:00, 850844.53it/s]\n"
     ]
    },
    {
     "name": "stdout",
     "output_type": "stream",
     "text": [
      "parsing file name output/llm_output/messages189392-189517.json\n"
     ]
    },
    {
     "name": "stderr",
     "output_type": "stream",
     "text": [
      "  0%|          | 0/126 [00:00<?, ?it/s]\n"
     ]
    },
    {
     "name": "stdout",
     "output_type": "stream",
     "text": [
      "parsing file name output/llm_output/messages184776-184933.json\n"
     ]
    },
    {
     "ename": "JSONDecodeError",
     "evalue": "Expecting ',' delimiter: line 523 column 9 (char 19880)",
     "output_type": "error",
     "traceback": [
      "\u001b[0;31m---------------------------------------------------------------------------\u001b[0m",
      "\u001b[0;31mJSONDecodeError\u001b[0m                           Traceback (most recent call last)",
      "Cell \u001b[0;32mIn[23], line 24\u001b[0m\n\u001b[1;32m     22\u001b[0m \u001b[38;5;66;03m# Remove trailing commas before closing brackets\u001b[39;00m\n\u001b[1;32m     23\u001b[0m json_str \u001b[38;5;241m=\u001b[39m re\u001b[38;5;241m.\u001b[39msub(\u001b[38;5;124mr\u001b[39m\u001b[38;5;124m'\u001b[39m\u001b[38;5;124m,\u001b[39m\u001b[38;5;124m\\\u001b[39m\u001b[38;5;124ms*([\u001b[39m\u001b[38;5;124m\\\u001b[39m\u001b[38;5;124m]}])\u001b[39m\u001b[38;5;124m'\u001b[39m, \u001b[38;5;124mr\u001b[39m\u001b[38;5;124m'\u001b[39m\u001b[38;5;124m\\\u001b[39m\u001b[38;5;124m1\u001b[39m\u001b[38;5;124m'\u001b[39m, json_str)\n\u001b[0;32m---> 24\u001b[0m data \u001b[38;5;241m=\u001b[39m \u001b[43mjson\u001b[49m\u001b[38;5;241;43m.\u001b[39;49m\u001b[43mloads\u001b[49m\u001b[43m(\u001b[49m\u001b[43mjson_str\u001b[49m\u001b[43m)\u001b[49m\n\u001b[1;32m     25\u001b[0m \u001b[38;5;66;03m#data = json.load(file)\u001b[39;00m\n\u001b[1;32m     26\u001b[0m cnt \u001b[38;5;241m=\u001b[39m \u001b[38;5;241m0\u001b[39m\n",
      "File \u001b[0;32m~/miniconda3/lib/python3.12/json/__init__.py:346\u001b[0m, in \u001b[0;36mloads\u001b[0;34m(s, cls, object_hook, parse_float, parse_int, parse_constant, object_pairs_hook, **kw)\u001b[0m\n\u001b[1;32m    341\u001b[0m     s \u001b[38;5;241m=\u001b[39m s\u001b[38;5;241m.\u001b[39mdecode(detect_encoding(s), \u001b[38;5;124m'\u001b[39m\u001b[38;5;124msurrogatepass\u001b[39m\u001b[38;5;124m'\u001b[39m)\n\u001b[1;32m    343\u001b[0m \u001b[38;5;28;01mif\u001b[39;00m (\u001b[38;5;28mcls\u001b[39m \u001b[38;5;129;01mis\u001b[39;00m \u001b[38;5;28;01mNone\u001b[39;00m \u001b[38;5;129;01mand\u001b[39;00m object_hook \u001b[38;5;129;01mis\u001b[39;00m \u001b[38;5;28;01mNone\u001b[39;00m \u001b[38;5;129;01mand\u001b[39;00m\n\u001b[1;32m    344\u001b[0m         parse_int \u001b[38;5;129;01mis\u001b[39;00m \u001b[38;5;28;01mNone\u001b[39;00m \u001b[38;5;129;01mand\u001b[39;00m parse_float \u001b[38;5;129;01mis\u001b[39;00m \u001b[38;5;28;01mNone\u001b[39;00m \u001b[38;5;129;01mand\u001b[39;00m\n\u001b[1;32m    345\u001b[0m         parse_constant \u001b[38;5;129;01mis\u001b[39;00m \u001b[38;5;28;01mNone\u001b[39;00m \u001b[38;5;129;01mand\u001b[39;00m object_pairs_hook \u001b[38;5;129;01mis\u001b[39;00m \u001b[38;5;28;01mNone\u001b[39;00m \u001b[38;5;129;01mand\u001b[39;00m \u001b[38;5;129;01mnot\u001b[39;00m kw):\n\u001b[0;32m--> 346\u001b[0m     \u001b[38;5;28;01mreturn\u001b[39;00m \u001b[43m_default_decoder\u001b[49m\u001b[38;5;241;43m.\u001b[39;49m\u001b[43mdecode\u001b[49m\u001b[43m(\u001b[49m\u001b[43ms\u001b[49m\u001b[43m)\u001b[49m\n\u001b[1;32m    347\u001b[0m \u001b[38;5;28;01mif\u001b[39;00m \u001b[38;5;28mcls\u001b[39m \u001b[38;5;129;01mis\u001b[39;00m \u001b[38;5;28;01mNone\u001b[39;00m:\n\u001b[1;32m    348\u001b[0m     \u001b[38;5;28mcls\u001b[39m \u001b[38;5;241m=\u001b[39m JSONDecoder\n",
      "File \u001b[0;32m~/miniconda3/lib/python3.12/json/decoder.py:337\u001b[0m, in \u001b[0;36mJSONDecoder.decode\u001b[0;34m(self, s, _w)\u001b[0m\n\u001b[1;32m    332\u001b[0m \u001b[38;5;28;01mdef\u001b[39;00m \u001b[38;5;21mdecode\u001b[39m(\u001b[38;5;28mself\u001b[39m, s, _w\u001b[38;5;241m=\u001b[39mWHITESPACE\u001b[38;5;241m.\u001b[39mmatch):\n\u001b[1;32m    333\u001b[0m \u001b[38;5;250m    \u001b[39m\u001b[38;5;124;03m\"\"\"Return the Python representation of ``s`` (a ``str`` instance\u001b[39;00m\n\u001b[1;32m    334\u001b[0m \u001b[38;5;124;03m    containing a JSON document).\u001b[39;00m\n\u001b[1;32m    335\u001b[0m \n\u001b[1;32m    336\u001b[0m \u001b[38;5;124;03m    \"\"\"\u001b[39;00m\n\u001b[0;32m--> 337\u001b[0m     obj, end \u001b[38;5;241m=\u001b[39m \u001b[38;5;28;43mself\u001b[39;49m\u001b[38;5;241;43m.\u001b[39;49m\u001b[43mraw_decode\u001b[49m\u001b[43m(\u001b[49m\u001b[43ms\u001b[49m\u001b[43m,\u001b[49m\u001b[43m \u001b[49m\u001b[43midx\u001b[49m\u001b[38;5;241;43m=\u001b[39;49m\u001b[43m_w\u001b[49m\u001b[43m(\u001b[49m\u001b[43ms\u001b[49m\u001b[43m,\u001b[49m\u001b[43m \u001b[49m\u001b[38;5;241;43m0\u001b[39;49m\u001b[43m)\u001b[49m\u001b[38;5;241;43m.\u001b[39;49m\u001b[43mend\u001b[49m\u001b[43m(\u001b[49m\u001b[43m)\u001b[49m\u001b[43m)\u001b[49m\n\u001b[1;32m    338\u001b[0m     end \u001b[38;5;241m=\u001b[39m _w(s, end)\u001b[38;5;241m.\u001b[39mend()\n\u001b[1;32m    339\u001b[0m     \u001b[38;5;28;01mif\u001b[39;00m end \u001b[38;5;241m!=\u001b[39m \u001b[38;5;28mlen\u001b[39m(s):\n",
      "File \u001b[0;32m~/miniconda3/lib/python3.12/json/decoder.py:353\u001b[0m, in \u001b[0;36mJSONDecoder.raw_decode\u001b[0;34m(self, s, idx)\u001b[0m\n\u001b[1;32m    344\u001b[0m \u001b[38;5;250m\u001b[39m\u001b[38;5;124;03m\"\"\"Decode a JSON document from ``s`` (a ``str`` beginning with\u001b[39;00m\n\u001b[1;32m    345\u001b[0m \u001b[38;5;124;03ma JSON document) and return a 2-tuple of the Python\u001b[39;00m\n\u001b[1;32m    346\u001b[0m \u001b[38;5;124;03mrepresentation and the index in ``s`` where the document ended.\u001b[39;00m\n\u001b[0;32m   (...)\u001b[0m\n\u001b[1;32m    350\u001b[0m \n\u001b[1;32m    351\u001b[0m \u001b[38;5;124;03m\"\"\"\u001b[39;00m\n\u001b[1;32m    352\u001b[0m \u001b[38;5;28;01mtry\u001b[39;00m:\n\u001b[0;32m--> 353\u001b[0m     obj, end \u001b[38;5;241m=\u001b[39m \u001b[38;5;28;43mself\u001b[39;49m\u001b[38;5;241;43m.\u001b[39;49m\u001b[43mscan_once\u001b[49m\u001b[43m(\u001b[49m\u001b[43ms\u001b[49m\u001b[43m,\u001b[49m\u001b[43m \u001b[49m\u001b[43midx\u001b[49m\u001b[43m)\u001b[49m\n\u001b[1;32m    354\u001b[0m \u001b[38;5;28;01mexcept\u001b[39;00m \u001b[38;5;167;01mStopIteration\u001b[39;00m \u001b[38;5;28;01mas\u001b[39;00m err:\n\u001b[1;32m    355\u001b[0m     \u001b[38;5;28;01mraise\u001b[39;00m JSONDecodeError(\u001b[38;5;124m\"\u001b[39m\u001b[38;5;124mExpecting value\u001b[39m\u001b[38;5;124m\"\u001b[39m, s, err\u001b[38;5;241m.\u001b[39mvalue) \u001b[38;5;28;01mfrom\u001b[39;00m \u001b[38;5;28;01mNone\u001b[39;00m\n",
      "\u001b[0;31mJSONDecodeError\u001b[0m: Expecting ',' delimiter: line 523 column 9 (char 19880)"
     ]
    }
   ],
   "source": [
    "import os\n",
    "import json\n",
    "import glob\n",
    "import re\n",
    "\n",
    "from tqdm import tqdm\n",
    "\n",
    "merged_data = []\n",
    "search_folder = 'output/llm_output'\n",
    "\n",
    "dump_path = cfg.messages_dump_path\n",
    "msgs = telega_dump_parse_essential(dump_path=dump_path) # return iterator, not list\n",
    "msgs_d = {x.msg_id: x for x in msgs}\n",
    "msg_ids = set()\n",
    "\n",
    "def clean_json_str(json_str: str):\n",
    "    json_str = re.sub('\"reply_to_msg_id\":\\s?\\d+', '', json_str)    \n",
    "    # Remove trailing commas before closing brackets       \n",
    "    json_str = re.sub(r',\\s*([\\]}])', r'\\1', json_str)  \n",
    "\n",
    "for filename in glob.glob(os.path.join(search_folder, 'messages*.json')):\n",
    "    print(f'parsing file name {filename}')\n",
    "    with open(filename, 'r', encoding='utf-8') as file:\n",
    "        json_str = file.read()\n",
    "\n",
    "        json_str = clean_json_str(json_str)\n",
    "        data = json.loads(json_str)\n",
    "        #data = json.load(file)\n",
    "        cnt = 0\n",
    "        for tr_msg in tqdm(data): #  translated messages\n",
    "            cnt += 1\n",
    "            msg_id = tr_msg['msg_id']\n",
    "            if msg_id in msg_ids: # we did ovelapping chuks of messages\n",
    "                break\n",
    "            msg_ids.add(msg_id)\n",
    "            same_msg = msgs_d.get(msg_id)\n",
    "            if not same_msg:\n",
    "                print(f'msg_id {msg_id} not found in dump, something is wrong')\n",
    "                continue\n",
    "            if same_msg.reply_to_msg_id:\n",
    "                tr_msg['reply_to_msg_id'] = same_msg.reply_to_msg_id\n",
    "            tr_msg['user_id'] = same_msg.user_id\n",
    "            merged_data.append(tr_msg)\n",
    "            \n",
    "\n",
    "with open(f'{search_folder}/merged_messages.json', 'w') as outfile:\n",
    "    json.dump(merged_data, outfile)\n",
    "\n"
   ]
  }
 ],
 "metadata": {
  "kernelspec": {
   "display_name": "Python 3 (ipykernel)",
   "language": "python",
   "name": "python3"
  },
  "language_info": {
   "codemirror_mode": {
    "name": "ipython",
    "version": 3
   },
   "file_extension": ".py",
   "mimetype": "text/x-python",
   "name": "python",
   "nbconvert_exporter": "python",
   "pygments_lexer": "ipython3",
   "version": "3.12.4"
  }
 },
 "nbformat": 4,
 "nbformat_minor": 5
}
