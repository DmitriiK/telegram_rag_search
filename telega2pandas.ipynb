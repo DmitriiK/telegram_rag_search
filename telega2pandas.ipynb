{
 "cells": [
  {
   "cell_type": "code",
   "execution_count": 13,
   "id": "28c3ea71",
   "metadata": {},
   "outputs": [],
   "source": [
    "from datetime import datetime\n",
    "from typing import List\n",
    "\n",
    "import textwrap\n",
    "import pandas as pd\n",
    "from graphviz import Digraph\n",
    "from IPython.display import display\n",
    "import pyclip\n",
    "\n",
    "from read_telega_dump import telega_dump_parse_essential\n",
    "from data_classes import TelegaMessage, TelegaMessageIndex"
   ]
  },
  {
   "cell_type": "code",
   "execution_count": 14,
   "id": "addb0330",
   "metadata": {},
   "outputs": [
    {
     "name": "stderr",
     "output_type": "stream",
     "text": [
      "6861it [00:00, 15854.82it/s]\n"
     ]
    },
    {
     "data": {
      "text/plain": [
       "183554:2024-08-01T00:09:31Z; О, новые цены на рейсы Анталия - Стамбул подвезли"
      ]
     },
     "execution_count": 14,
     "metadata": {},
     "output_type": "execute_result"
    }
   ],
   "source": [
    "dump_path = r\"/Users/dklmn/Documents/data/telega/result.json\"\n",
    "msgs = telega_dump_parse_essential(dump_path=dump_path)\n",
    "mi = TelegaMessageIndex()\n",
    "msgs_list = []\n",
    "for msg in msgs:\n",
    "    mi.add_item(msg)\n",
    "    msgs_list.append(msg)\n",
    "# note: for data, taken from \"export chat history\", we do not have number of reactions \n",
    "msgs_list[0]\n"
   ]
  },
  {
   "cell_type": "code",
   "execution_count": 4,
   "id": "1787a445",
   "metadata": {},
   "outputs": [
    {
     "data": {
      "text/plain": [
       "[189845:2024-08-29T10:18:23Z; Ребят, кто кото-владельцы, а вы чем своих питомцев кормите?\n",
       " Мы покупали Farmina, сербского развеса, но на него ценник переписали - за месяц с 1100 до 1900 за полтора кг.\n",
       " Наш 2 пачки в месяц сжирает плюс паштетики еще, я прикинул - я за август на питание себя потратил наверно меньше,\n",
       " 189875:2024-08-29T11:10:05Z; Сухой роял канин на развес по ~ 300 лир за кг,\n",
       " 189916:2024-08-29T14:01:13Z; Фарминой кормим, кошка съедает 1,5 кг за 1,5 месяца. А что у вас за кот ( я как то удивлена 3 кг за 1 месяц…),\n",
       " 189917:2024-08-29T14:01:46Z; Прожорливый,\n",
       " 189918:2024-08-29T14:03:26Z; И какая именно фармина?,\n",
       " 189919:2024-08-29T14:04:49Z; Может просто порода с весом около 6 кг и выше, тогда понятно,\n",
       " 189920:2024-08-29T14:07:38Z; Кошки в принципе едят более адекватно. Все коты что у меня были не знают меры, и жрут как в последний раз,\n",
       " 189922:2024-08-29T14:08:54Z; А коты были бывшие бездомными?,\n",
       " 189923:2024-08-29T14:10:17Z; У меня обратная статистика 🙄,\n",
       " 189924:2024-08-29T14:13:29Z; Разные, и полу уличные, и чисто домашние,\n",
       " 189926:2024-08-29T14:17:33Z; таец, 2,5 года, 5,9 кг,\n",
       " 189929:2024-08-29T14:25:12Z; Ну да, на его вес так и выходит. Только насчет смены корма на другой надо быть осторожным, а то может перестать наедаться (будет меньше животного белка и в кормах дешевле есть куча злаков, которыми кот не наедается в принципе). В итоге кот будет есть еще больше, деньги так же уходить, проблем у него со здоровьем прибавится. Надо смотреть составы очень тщательно,\n",
       " 189930:2024-08-29T14:25:43Z; И это точно не роял и не про план,\n",
       " 189933:2024-08-29T14:46:28Z; ,\n",
       " 189935:2024-08-29T14:50:36Z; Такой вот на развес берём,\n",
       " 189943:2024-08-29T14:54:49Z; Этой пачки должно хватать на 22 дня ему. Корм низкозерновой.\n",
       " Могу предложить перевести на беззерновую линейку с более высокой калорийностью. Ну и покупать на трендиоле и сразу 5 кг, так дешевле выходит\n",
       " Корма примерные скинула их больше (ну и есть ли заболевания какие то у кота, тоже надо учитывать)\n",
       " На развес брать не рекомендую, тк корм имеет свойства портиться и запах вывестривается, что снижает поедаемость корма, а в турции жесть какая то с хранением этих кормов, стоят открытые все на такой жаре,\n",
       " 189944:2024-08-29T14:54:49Z; ,\n",
       " 189945:2024-08-29T14:54:50Z; ,\n",
       " 189949:2024-08-29T14:59:40Z; Ну и переводить надо правильно, есть схемы добавления нового корма к старому,\n",
       " 190343:2024-09-01T23:04:07Z; Берем n&d, два с половиной года полет отличный, цена все еще 1.1к за полтора кг, Пересаживали постепенно с фармины вроде, которым привыкли в рф кормить]"
      ]
     },
     "execution_count": 4,
     "metadata": {},
     "output_type": "execute_result"
    }
   ],
   "source": [
    "topic_msgs = mi.get_messages_tree(189845)\n",
    "topic_msgs"
   ]
  },
  {
   "cell_type": "code",
   "execution_count": 7,
   "id": "a42dd1b9",
   "metadata": {},
   "outputs": [],
   "source": [
    "\"\"\"To visualize chain of messages as topic tree.\n",
    "Note: for macOS need to do: \n",
    "brew install graphviz\n",
    "After installation, verify that the `dot` command is available in your PATH. You can check this by running the following command in your terminal:\n",
    "\n",
    "```bash\n",
    "dot -V\n",
    "```\n",
    "\"\"\"\n",
    "def visualize_topic_tree(messages: List[TelegaMessage]):\n",
    "    # Create a directed graph\n",
    "    dot = Digraph()\n",
    "    # Add nodes\n",
    "    for message in messages:\n",
    "        dot.node(str(message.msg_id), f\"{message.user_name}\\n{message.msg_date}\\n{textwrap.fill(message.msg_text, width=30) or ''}\")\n",
    "\n",
    "        if message.reply_to_msg_id is not None:\n",
    "            # Add an edge for the parent-child relationship\n",
    "            dot.edge(str(message.reply_to_msg_id), str(message.msg_id))\n",
    "\n",
    "    return dot"
   ]
  },
  {
   "cell_type": "code",
   "execution_count": 8,
   "id": "8cb9ed42",
   "metadata": {},
   "outputs": [
    {
     "data": {
      "image/svg+xml": [
       "<?xml version=\"1.0\" encoding=\"UTF-8\" standalone=\"no\"?>\n",
       "<!DOCTYPE svg PUBLIC \"-//W3C//DTD SVG 1.1//EN\"\n",
       " \"http://www.w3.org/Graphics/SVG/1.1/DTD/svg11.dtd\">\n",
       "<!-- Generated by graphviz version 12.1.0 (20240811.2233)\n",
       " -->\n",
       "<!-- Pages: 1 -->\n",
       "<svg width=\"1440pt\" height=\"1731pt\"\n",
       " viewBox=\"0.00 0.00 1440.00 1731.15\" xmlns=\"http://www.w3.org/2000/svg\" xmlns:xlink=\"http://www.w3.org/1999/xlink\">\n",
       "<g id=\"graph0\" class=\"graph\" transform=\"scale(0.862719 0.862719) rotate(0) translate(4 2002.62)\">\n",
       "<polygon fill=\"white\" stroke=\"none\" points=\"-4,4 -4,-2002.62 1665.14,-2002.62 1665.14,4 -4,4\"/>\n",
       "<!-- 189845 -->\n",
       "<g id=\"node1\" class=\"node\">\n",
       "<title>189845</title>\n",
       "<ellipse fill=\"none\" stroke=\"black\" cx=\"984.02\" cy=\"-1852.95\" rx=\"151.85\" ry=\"145.66\"/>\n",
       "<text text-anchor=\"middle\" x=\"984.02\" y=\"-1938.65\" font-family=\"Times,serif\" font-size=\"14.00\">Dmitrii Kalmanovich</text>\n",
       "<text text-anchor=\"middle\" x=\"984.02\" y=\"-1922.15\" font-family=\"Times,serif\" font-size=\"14.00\">2024&#45;08&#45;29 10:18:23</text>\n",
       "<text text-anchor=\"middle\" x=\"984.02\" y=\"-1905.65\" font-family=\"Times,serif\" font-size=\"14.00\">Ребят, кто кото&#45;владельцы, а</text>\n",
       "<text text-anchor=\"middle\" x=\"984.02\" y=\"-1889.15\" font-family=\"Times,serif\" font-size=\"14.00\">вы чем своих питомцев кормите?</text>\n",
       "<text text-anchor=\"middle\" x=\"984.02\" y=\"-1872.65\" font-family=\"Times,serif\" font-size=\"14.00\">Мы покупали Farmina, сербского</text>\n",
       "<text text-anchor=\"middle\" x=\"984.02\" y=\"-1856.15\" font-family=\"Times,serif\" font-size=\"14.00\">развеса, но на него ценник</text>\n",
       "<text text-anchor=\"middle\" x=\"984.02\" y=\"-1839.65\" font-family=\"Times,serif\" font-size=\"14.00\">переписали &#45; за месяц с 1100</text>\n",
       "<text text-anchor=\"middle\" x=\"984.02\" y=\"-1823.15\" font-family=\"Times,serif\" font-size=\"14.00\">до 1900 за полтора кг. Наш 2</text>\n",
       "<text text-anchor=\"middle\" x=\"984.02\" y=\"-1806.65\" font-family=\"Times,serif\" font-size=\"14.00\">пачки в месяц сжирает плюс</text>\n",
       "<text text-anchor=\"middle\" x=\"984.02\" y=\"-1790.15\" font-family=\"Times,serif\" font-size=\"14.00\">паштетики еще, я прикинул &#45; я</text>\n",
       "<text text-anchor=\"middle\" x=\"984.02\" y=\"-1773.65\" font-family=\"Times,serif\" font-size=\"14.00\">за август на питание себя</text>\n",
       "<text text-anchor=\"middle\" x=\"984.02\" y=\"-1757.15\" font-family=\"Times,serif\" font-size=\"14.00\">потратил наверно меньше</text>\n",
       "</g>\n",
       "<!-- 189875 -->\n",
       "<g id=\"node2\" class=\"node\">\n",
       "<title>189875</title>\n",
       "<ellipse fill=\"none\" stroke=\"black\" cx=\"375.02\" cy=\"-1572.29\" rx=\"140.18\" ry=\"52.33\"/>\n",
       "<text text-anchor=\"middle\" x=\"375.02\" y=\"-1591.99\" font-family=\"Times,serif\" font-size=\"14.00\">Andrei Sidorenko</text>\n",
       "<text text-anchor=\"middle\" x=\"375.02\" y=\"-1575.49\" font-family=\"Times,serif\" font-size=\"14.00\">2024&#45;08&#45;29 11:10:05</text>\n",
       "<text text-anchor=\"middle\" x=\"375.02\" y=\"-1558.99\" font-family=\"Times,serif\" font-size=\"14.00\">Сухой роял канин на развес по</text>\n",
       "<text text-anchor=\"middle\" x=\"375.02\" y=\"-1542.49\" font-family=\"Times,serif\" font-size=\"14.00\">~ 300 лир за кг</text>\n",
       "</g>\n",
       "<!-- 189845&#45;&gt;189875 -->\n",
       "<g id=\"edge1\" class=\"edge\">\n",
       "<title>189845&#45;&gt;189875</title>\n",
       "<path fill=\"none\" stroke=\"black\" d=\"M840.51,-1804.28C748.03,-1771.46 626.39,-1724.32 524.02,-1671.29 498.29,-1657.96 471.46,-1641.28 447.78,-1625.48\"/>\n",
       "<polygon fill=\"black\" stroke=\"black\" points=\"450.03,-1622.78 439.78,-1620.09 446.12,-1628.58 450.03,-1622.78\"/>\n",
       "</g>\n",
       "<!-- 189916 -->\n",
       "<g id=\"node3\" class=\"node\">\n",
       "<title>189916</title>\n",
       "<ellipse fill=\"none\" stroke=\"black\" cx=\"689.02\" cy=\"-1572.29\" rx=\"155.56\" ry=\"75.66\"/>\n",
       "<text text-anchor=\"middle\" x=\"689.02\" y=\"-1608.49\" font-family=\"Times,serif\" font-size=\"14.00\">Анна Горланова</text>\n",
       "<text text-anchor=\"middle\" x=\"689.02\" y=\"-1591.99\" font-family=\"Times,serif\" font-size=\"14.00\">2024&#45;08&#45;29 14:01:13</text>\n",
       "<text text-anchor=\"middle\" x=\"689.02\" y=\"-1575.49\" font-family=\"Times,serif\" font-size=\"14.00\">Фарминой кормим, кошка съедает</text>\n",
       "<text text-anchor=\"middle\" x=\"689.02\" y=\"-1558.99\" font-family=\"Times,serif\" font-size=\"14.00\">1,5 кг за 1,5 месяца. А что у</text>\n",
       "<text text-anchor=\"middle\" x=\"689.02\" y=\"-1542.49\" font-family=\"Times,serif\" font-size=\"14.00\">вас за кот ( я как то удивлена</text>\n",
       "<text text-anchor=\"middle\" x=\"689.02\" y=\"-1525.99\" font-family=\"Times,serif\" font-size=\"14.00\">3 кг за 1 месяц…)</text>\n",
       "</g>\n",
       "<!-- 189845&#45;&gt;189916 -->\n",
       "<g id=\"edge2\" class=\"edge\">\n",
       "<title>189845&#45;&gt;189916</title>\n",
       "<path fill=\"none\" stroke=\"black\" d=\"M876.26,-1750.17C840.45,-1716.34 801.27,-1679.33 768.04,-1647.94\"/>\n",
       "<polygon fill=\"black\" stroke=\"black\" points=\"770.5,-1645.45 760.83,-1641.13 765.69,-1650.54 770.5,-1645.45\"/>\n",
       "</g>\n",
       "<!-- 189918 -->\n",
       "<g id=\"node5\" class=\"node\">\n",
       "<title>189918</title>\n",
       "<ellipse fill=\"none\" stroke=\"black\" cx=\"984.02\" cy=\"-1572.29\" rx=\"121.09\" ry=\"40.66\"/>\n",
       "<text text-anchor=\"middle\" x=\"984.02\" y=\"-1583.74\" font-family=\"Times,serif\" font-size=\"14.00\">Анна Горланова</text>\n",
       "<text text-anchor=\"middle\" x=\"984.02\" y=\"-1567.24\" font-family=\"Times,serif\" font-size=\"14.00\">2024&#45;08&#45;29 14:03:26</text>\n",
       "<text text-anchor=\"middle\" x=\"984.02\" y=\"-1550.74\" font-family=\"Times,serif\" font-size=\"14.00\">И какая именно фармина?</text>\n",
       "</g>\n",
       "<!-- 189845&#45;&gt;189918 -->\n",
       "<g id=\"edge4\" class=\"edge\">\n",
       "<title>189845&#45;&gt;189918</title>\n",
       "<path fill=\"none\" stroke=\"black\" d=\"M984.02,-1706.91C984.02,-1677.38 984.02,-1648.2 984.02,-1624.67\"/>\n",
       "<polygon fill=\"black\" stroke=\"black\" points=\"987.52,-1624.77 984.02,-1614.77 980.52,-1624.77 987.52,-1624.77\"/>\n",
       "</g>\n",
       "<!-- 189935 -->\n",
       "<g id=\"node15\" class=\"node\">\n",
       "<title>189935</title>\n",
       "<ellipse fill=\"none\" stroke=\"black\" cx=\"1244.02\" cy=\"-1572.29\" rx=\"121.09\" ry=\"40.66\"/>\n",
       "<text text-anchor=\"middle\" x=\"1244.02\" y=\"-1583.74\" font-family=\"Times,serif\" font-size=\"14.00\">T4</text>\n",
       "<text text-anchor=\"middle\" x=\"1244.02\" y=\"-1567.24\" font-family=\"Times,serif\" font-size=\"14.00\">2024&#45;08&#45;29 14:50:36</text>\n",
       "<text text-anchor=\"middle\" x=\"1244.02\" y=\"-1550.74\" font-family=\"Times,serif\" font-size=\"14.00\">Такой вот на развес берём</text>\n",
       "</g>\n",
       "<!-- 189845&#45;&gt;189935 -->\n",
       "<g id=\"edge14\" class=\"edge\">\n",
       "<title>189845&#45;&gt;189935</title>\n",
       "<path fill=\"none\" stroke=\"black\" d=\"M1084.91,-1743.82C1125.05,-1700.8 1169.08,-1653.6 1200.63,-1619.79\"/>\n",
       "<polygon fill=\"black\" stroke=\"black\" points=\"1203.08,-1622.3 1207.34,-1612.6 1197.96,-1617.52 1203.08,-1622.3\"/>\n",
       "</g>\n",
       "<!-- 190343 -->\n",
       "<g id=\"node20\" class=\"node\">\n",
       "<title>190343</title>\n",
       "<ellipse fill=\"none\" stroke=\"black\" cx=\"1522.02\" cy=\"-1572.29\" rx=\"139.12\" ry=\"98.99\"/>\n",
       "<text text-anchor=\"middle\" x=\"1522.02\" y=\"-1624.99\" font-family=\"Times,serif\" font-size=\"14.00\">Зубастый Анчоус</text>\n",
       "<text text-anchor=\"middle\" x=\"1522.02\" y=\"-1608.49\" font-family=\"Times,serif\" font-size=\"14.00\">2024&#45;09&#45;01 23:04:07</text>\n",
       "<text text-anchor=\"middle\" x=\"1522.02\" y=\"-1591.99\" font-family=\"Times,serif\" font-size=\"14.00\">Берем n&amp;d, два с половиной</text>\n",
       "<text text-anchor=\"middle\" x=\"1522.02\" y=\"-1575.49\" font-family=\"Times,serif\" font-size=\"14.00\">года полет отличный, цена все</text>\n",
       "<text text-anchor=\"middle\" x=\"1522.02\" y=\"-1558.99\" font-family=\"Times,serif\" font-size=\"14.00\">еще 1.1к за полтора кг,</text>\n",
       "<text text-anchor=\"middle\" x=\"1522.02\" y=\"-1542.49\" font-family=\"Times,serif\" font-size=\"14.00\">Пересаживали постепенно с</text>\n",
       "<text text-anchor=\"middle\" x=\"1522.02\" y=\"-1525.99\" font-family=\"Times,serif\" font-size=\"14.00\">фармины вроде, которым</text>\n",
       "<text text-anchor=\"middle\" x=\"1522.02\" y=\"-1509.49\" font-family=\"Times,serif\" font-size=\"14.00\">привыкли в рф кормить</text>\n",
       "</g>\n",
       "<!-- 189845&#45;&gt;190343 -->\n",
       "<g id=\"edge19\" class=\"edge\">\n",
       "<title>189845&#45;&gt;190343</title>\n",
       "<path fill=\"none\" stroke=\"black\" d=\"M1122.81,-1793.77C1198.45,-1760.56 1292.91,-1716.59 1374.02,-1671.29 1386.9,-1664.09 1400.14,-1656.16 1413.15,-1648.02\"/>\n",
       "<polygon fill=\"black\" stroke=\"black\" points=\"1414.72,-1651.17 1421.3,-1642.87 1410.98,-1645.26 1414.72,-1651.17\"/>\n",
       "</g>\n",
       "<!-- 189917 -->\n",
       "<g id=\"node4\" class=\"node\">\n",
       "<title>189917</title>\n",
       "<ellipse fill=\"none\" stroke=\"black\" cx=\"241.02\" cy=\"-1361.64\" rx=\"92.45\" ry=\"40.66\"/>\n",
       "<text text-anchor=\"middle\" x=\"241.02\" y=\"-1373.09\" font-family=\"Times,serif\" font-size=\"14.00\">Ekaterina Elm</text>\n",
       "<text text-anchor=\"middle\" x=\"241.02\" y=\"-1356.59\" font-family=\"Times,serif\" font-size=\"14.00\">2024&#45;08&#45;29 14:01:46</text>\n",
       "<text text-anchor=\"middle\" x=\"241.02\" y=\"-1340.09\" font-family=\"Times,serif\" font-size=\"14.00\">Прожорливый</text>\n",
       "</g>\n",
       "<!-- 189916&#45;&gt;189917 -->\n",
       "<g id=\"edge3\" class=\"edge\">\n",
       "<title>189916&#45;&gt;189917</title>\n",
       "<path fill=\"none\" stroke=\"black\" d=\"M594.94,-1511.84C572.12,-1498.43 547.52,-1484.78 524.02,-1473.3 458.55,-1441.33 381.36,-1411.64 324.15,-1391.09\"/>\n",
       "<polygon fill=\"black\" stroke=\"black\" points=\"325.37,-1387.81 314.77,-1387.74 323.01,-1394.4 325.37,-1387.81\"/>\n",
       "</g>\n",
       "<!-- 189920 -->\n",
       "<g id=\"node7\" class=\"node\">\n",
       "<title>189920</title>\n",
       "<ellipse fill=\"none\" stroke=\"black\" cx=\"689.02\" cy=\"-1361.64\" rx=\"148.14\" ry=\"75.66\"/>\n",
       "<text text-anchor=\"middle\" x=\"689.02\" y=\"-1397.84\" font-family=\"Times,serif\" font-size=\"14.00\">Viktor</text>\n",
       "<text text-anchor=\"middle\" x=\"689.02\" y=\"-1381.34\" font-family=\"Times,serif\" font-size=\"14.00\">2024&#45;08&#45;29 14:07:38</text>\n",
       "<text text-anchor=\"middle\" x=\"689.02\" y=\"-1364.84\" font-family=\"Times,serif\" font-size=\"14.00\">Кошки в принципе едят более</text>\n",
       "<text text-anchor=\"middle\" x=\"689.02\" y=\"-1348.34\" font-family=\"Times,serif\" font-size=\"14.00\">адекватно. Все коты что у меня</text>\n",
       "<text text-anchor=\"middle\" x=\"689.02\" y=\"-1331.84\" font-family=\"Times,serif\" font-size=\"14.00\">были не знают меры, и жрут как</text>\n",
       "<text text-anchor=\"middle\" x=\"689.02\" y=\"-1315.34\" font-family=\"Times,serif\" font-size=\"14.00\">в последний раз</text>\n",
       "</g>\n",
       "<!-- 189916&#45;&gt;189920 -->\n",
       "<g id=\"edge6\" class=\"edge\">\n",
       "<title>189916&#45;&gt;189920</title>\n",
       "<path fill=\"none\" stroke=\"black\" d=\"M689.02,-1496.26C689.02,-1480.93 689.02,-1464.69 689.02,-1449.01\"/>\n",
       "<polygon fill=\"black\" stroke=\"black\" points=\"692.52,-1449.22 689.02,-1439.22 685.52,-1449.22 692.52,-1449.22\"/>\n",
       "</g>\n",
       "<!-- 189919 -->\n",
       "<g id=\"node6\" class=\"node\">\n",
       "<title>189919</title>\n",
       "<ellipse fill=\"none\" stroke=\"black\" cx=\"146.02\" cy=\"-999.31\" rx=\"137.53\" ry=\"63.99\"/>\n",
       "<text text-anchor=\"middle\" x=\"146.02\" y=\"-1027.26\" font-family=\"Times,serif\" font-size=\"14.00\">Анна Горланова</text>\n",
       "<text text-anchor=\"middle\" x=\"146.02\" y=\"-1010.76\" font-family=\"Times,serif\" font-size=\"14.00\">2024&#45;08&#45;29 14:04:49</text>\n",
       "<text text-anchor=\"middle\" x=\"146.02\" y=\"-994.26\" font-family=\"Times,serif\" font-size=\"14.00\">Может просто порода с весом</text>\n",
       "<text text-anchor=\"middle\" x=\"146.02\" y=\"-977.76\" font-family=\"Times,serif\" font-size=\"14.00\">около 6 кг и выше, тогда</text>\n",
       "<text text-anchor=\"middle\" x=\"146.02\" y=\"-961.26\" font-family=\"Times,serif\" font-size=\"14.00\">понятно</text>\n",
       "</g>\n",
       "<!-- 189917&#45;&gt;189919 -->\n",
       "<g id=\"edge5\" class=\"edge\">\n",
       "<title>189917&#45;&gt;189919</title>\n",
       "<path fill=\"none\" stroke=\"black\" d=\"M230.58,-1321.05C214.94,-1261.71 185.15,-1148.73 165.43,-1073.95\"/>\n",
       "<polygon fill=\"black\" stroke=\"black\" points=\"168.92,-1073.45 162.99,-1064.67 162.15,-1075.23 168.92,-1073.45\"/>\n",
       "</g>\n",
       "<!-- 189933 -->\n",
       "<g id=\"node14\" class=\"node\">\n",
       "<title>189933</title>\n",
       "<ellipse fill=\"none\" stroke=\"black\" cx=\"1228.02\" cy=\"-1361.64\" rx=\"94.58\" ry=\"28.99\"/>\n",
       "<text text-anchor=\"middle\" x=\"1228.02\" y=\"-1364.84\" font-family=\"Times,serif\" font-size=\"14.00\">Dmitrii Kalmanovich</text>\n",
       "<text text-anchor=\"middle\" x=\"1228.02\" y=\"-1348.34\" font-family=\"Times,serif\" font-size=\"14.00\">2024&#45;08&#45;29 14:46:28</text>\n",
       "</g>\n",
       "<!-- 189918&#45;&gt;189933 -->\n",
       "<g id=\"edge13\" class=\"edge\">\n",
       "<title>189918&#45;&gt;189933</title>\n",
       "<path fill=\"none\" stroke=\"black\" d=\"M1027.64,-1533.99C1073.17,-1495.06 1143.94,-1434.53 1188.06,-1396.81\"/>\n",
       "<polygon fill=\"black\" stroke=\"black\" points=\"1190.3,-1399.5 1195.63,-1390.34 1185.75,-1394.18 1190.3,-1399.5\"/>\n",
       "</g>\n",
       "<!-- 189926 -->\n",
       "<g id=\"node11\" class=\"node\">\n",
       "<title>189926</title>\n",
       "<ellipse fill=\"none\" stroke=\"black\" cx=\"146.02\" cy=\"-636.98\" rx=\"96.17\" ry=\"40.66\"/>\n",
       "<text text-anchor=\"middle\" x=\"146.02\" y=\"-648.43\" font-family=\"Times,serif\" font-size=\"14.00\">Dmitrii Kalmanovich</text>\n",
       "<text text-anchor=\"middle\" x=\"146.02\" y=\"-631.93\" font-family=\"Times,serif\" font-size=\"14.00\">2024&#45;08&#45;29 14:17:33</text>\n",
       "<text text-anchor=\"middle\" x=\"146.02\" y=\"-615.43\" font-family=\"Times,serif\" font-size=\"14.00\">таец, 2,5 года, 5,9 кг</text>\n",
       "</g>\n",
       "<!-- 189919&#45;&gt;189926 -->\n",
       "<g id=\"edge10\" class=\"edge\">\n",
       "<title>189919&#45;&gt;189926</title>\n",
       "<path fill=\"none\" stroke=\"black\" d=\"M146.02,-935.13C146.02,-865.16 146.02,-753.7 146.02,-689.03\"/>\n",
       "<polygon fill=\"black\" stroke=\"black\" points=\"149.52,-689.41 146.02,-679.41 142.52,-689.41 149.52,-689.41\"/>\n",
       "</g>\n",
       "<!-- 189922 -->\n",
       "<g id=\"node8\" class=\"node\">\n",
       "<title>189922</title>\n",
       "<ellipse fill=\"none\" stroke=\"black\" cx=\"463.02\" cy=\"-999.31\" rx=\"161.4\" ry=\"40.66\"/>\n",
       "<text text-anchor=\"middle\" x=\"463.02\" y=\"-1010.76\" font-family=\"Times,serif\" font-size=\"14.00\">Анна Горланова</text>\n",
       "<text text-anchor=\"middle\" x=\"463.02\" y=\"-994.26\" font-family=\"Times,serif\" font-size=\"14.00\">2024&#45;08&#45;29 14:08:54</text>\n",
       "<text text-anchor=\"middle\" x=\"463.02\" y=\"-977.76\" font-family=\"Times,serif\" font-size=\"14.00\">А коты были бывшие бездомными?</text>\n",
       "</g>\n",
       "<!-- 189920&#45;&gt;189922 -->\n",
       "<g id=\"edge7\" class=\"edge\">\n",
       "<title>189920&#45;&gt;189922</title>\n",
       "<path fill=\"none\" stroke=\"black\" d=\"M644.37,-1289.45C599.8,-1218.39 532.51,-1111.1 493.65,-1049.15\"/>\n",
       "<polygon fill=\"black\" stroke=\"black\" points=\"496.75,-1047.51 488.47,-1040.89 490.82,-1051.23 496.75,-1047.51\"/>\n",
       "</g>\n",
       "<!-- 189923 -->\n",
       "<g id=\"node9\" class=\"node\">\n",
       "<title>189923</title>\n",
       "<ellipse fill=\"none\" stroke=\"black\" cx=\"784.02\" cy=\"-999.31\" rx=\"141.77\" ry=\"42.25\"/>\n",
       "<text text-anchor=\"middle\" x=\"784.02\" y=\"-1011.88\" font-family=\"Times,serif\" font-size=\"14.00\">Irina</text>\n",
       "<text text-anchor=\"middle\" x=\"784.02\" y=\"-995.38\" font-family=\"Times,serif\" font-size=\"14.00\">2024&#45;08&#45;29 14:10:17</text>\n",
       "<text text-anchor=\"middle\" x=\"784.02\" y=\"-978.88\" font-family=\"Times,serif\" font-size=\"14.00\">У меня обратная статистика 🙄</text>\n",
       "</g>\n",
       "<!-- 189920&#45;&gt;189923 -->\n",
       "<g id=\"edge8\" class=\"edge\">\n",
       "<title>189920&#45;&gt;189923</title>\n",
       "<path fill=\"none\" stroke=\"black\" d=\"M708.59,-1286.41C726.94,-1216.79 753.93,-1114.42 770.16,-1052.87\"/>\n",
       "<polygon fill=\"black\" stroke=\"black\" points=\"773.51,-1053.9 772.67,-1043.33 766.74,-1052.11 773.51,-1053.9\"/>\n",
       "</g>\n",
       "<!-- 189924 -->\n",
       "<g id=\"node10\" class=\"node\">\n",
       "<title>189924</title>\n",
       "<ellipse fill=\"none\" stroke=\"black\" cx=\"463.02\" cy=\"-636.98\" rx=\"123.21\" ry=\"52.33\"/>\n",
       "<text text-anchor=\"middle\" x=\"463.02\" y=\"-656.68\" font-family=\"Times,serif\" font-size=\"14.00\">Viktor</text>\n",
       "<text text-anchor=\"middle\" x=\"463.02\" y=\"-640.18\" font-family=\"Times,serif\" font-size=\"14.00\">2024&#45;08&#45;29 14:13:29</text>\n",
       "<text text-anchor=\"middle\" x=\"463.02\" y=\"-623.68\" font-family=\"Times,serif\" font-size=\"14.00\">Разные, и полу уличные, и</text>\n",
       "<text text-anchor=\"middle\" x=\"463.02\" y=\"-607.18\" font-family=\"Times,serif\" font-size=\"14.00\">чисто домашние</text>\n",
       "</g>\n",
       "<!-- 189922&#45;&gt;189924 -->\n",
       "<g id=\"edge9\" class=\"edge\">\n",
       "<title>189922&#45;&gt;189924</title>\n",
       "<path fill=\"none\" stroke=\"black\" d=\"M463.02,-958.37C463.02,-896.1 463.02,-775.35 463.02,-701.18\"/>\n",
       "<polygon fill=\"black\" stroke=\"black\" points=\"466.52,-701.21 463.02,-691.21 459.52,-701.21 466.52,-701.21\"/>\n",
       "</g>\n",
       "<!-- 189929 -->\n",
       "<g id=\"node12\" class=\"node\">\n",
       "<title>189929</title>\n",
       "<ellipse fill=\"none\" stroke=\"black\" cx=\"146.02\" cy=\"-332.98\" rx=\"146.02\" ry=\"192.33\"/>\n",
       "<text text-anchor=\"middle\" x=\"146.02\" y=\"-451.68\" font-family=\"Times,serif\" font-size=\"14.00\">Анна Горланова</text>\n",
       "<text text-anchor=\"middle\" x=\"146.02\" y=\"-435.18\" font-family=\"Times,serif\" font-size=\"14.00\">2024&#45;08&#45;29 14:25:12</text>\n",
       "<text text-anchor=\"middle\" x=\"146.02\" y=\"-418.68\" font-family=\"Times,serif\" font-size=\"14.00\">Ну да, на его вес так и</text>\n",
       "<text text-anchor=\"middle\" x=\"146.02\" y=\"-402.18\" font-family=\"Times,serif\" font-size=\"14.00\">выходит. Только насчет смены</text>\n",
       "<text text-anchor=\"middle\" x=\"146.02\" y=\"-385.68\" font-family=\"Times,serif\" font-size=\"14.00\">корма на другой надо быть</text>\n",
       "<text text-anchor=\"middle\" x=\"146.02\" y=\"-369.18\" font-family=\"Times,serif\" font-size=\"14.00\">осторожным, а то может</text>\n",
       "<text text-anchor=\"middle\" x=\"146.02\" y=\"-352.68\" font-family=\"Times,serif\" font-size=\"14.00\">перестать наедаться (будет</text>\n",
       "<text text-anchor=\"middle\" x=\"146.02\" y=\"-336.18\" font-family=\"Times,serif\" font-size=\"14.00\">меньше животного белка и в</text>\n",
       "<text text-anchor=\"middle\" x=\"146.02\" y=\"-319.68\" font-family=\"Times,serif\" font-size=\"14.00\">кормах дешевле есть куча</text>\n",
       "<text text-anchor=\"middle\" x=\"146.02\" y=\"-303.18\" font-family=\"Times,serif\" font-size=\"14.00\">злаков, которыми кот не</text>\n",
       "<text text-anchor=\"middle\" x=\"146.02\" y=\"-286.68\" font-family=\"Times,serif\" font-size=\"14.00\">наедается в принципе). В итоге</text>\n",
       "<text text-anchor=\"middle\" x=\"146.02\" y=\"-270.18\" font-family=\"Times,serif\" font-size=\"14.00\">кот будет есть еще больше,</text>\n",
       "<text text-anchor=\"middle\" x=\"146.02\" y=\"-253.68\" font-family=\"Times,serif\" font-size=\"14.00\">деньги так же уходить, проблем</text>\n",
       "<text text-anchor=\"middle\" x=\"146.02\" y=\"-237.18\" font-family=\"Times,serif\" font-size=\"14.00\">у него со здоровьем</text>\n",
       "<text text-anchor=\"middle\" x=\"146.02\" y=\"-220.68\" font-family=\"Times,serif\" font-size=\"14.00\">прибавится. Надо смотреть</text>\n",
       "<text text-anchor=\"middle\" x=\"146.02\" y=\"-204.18\" font-family=\"Times,serif\" font-size=\"14.00\">составы очень тщательно</text>\n",
       "</g>\n",
       "<!-- 189926&#45;&gt;189929 -->\n",
       "<g id=\"edge11\" class=\"edge\">\n",
       "<title>189926&#45;&gt;189929</title>\n",
       "<path fill=\"none\" stroke=\"black\" d=\"M146.02,-595.88C146.02,-579.41 146.02,-559.01 146.02,-536.93\"/>\n",
       "<polygon fill=\"black\" stroke=\"black\" points=\"149.52,-537.12 146.02,-527.12 142.52,-537.12 149.52,-537.12\"/>\n",
       "</g>\n",
       "<!-- 189930 -->\n",
       "<g id=\"node13\" class=\"node\">\n",
       "<title>189930</title>\n",
       "<ellipse fill=\"none\" stroke=\"black\" cx=\"146.02\" cy=\"-52.33\" rx=\"131.7\" ry=\"52.33\"/>\n",
       "<text text-anchor=\"middle\" x=\"146.02\" y=\"-72.03\" font-family=\"Times,serif\" font-size=\"14.00\">Анна Горланова</text>\n",
       "<text text-anchor=\"middle\" x=\"146.02\" y=\"-55.53\" font-family=\"Times,serif\" font-size=\"14.00\">2024&#45;08&#45;29 14:25:43</text>\n",
       "<text text-anchor=\"middle\" x=\"146.02\" y=\"-39.03\" font-family=\"Times,serif\" font-size=\"14.00\">И это точно не роял и не про</text>\n",
       "<text text-anchor=\"middle\" x=\"146.02\" y=\"-22.53\" font-family=\"Times,serif\" font-size=\"14.00\">план</text>\n",
       "</g>\n",
       "<!-- 189929&#45;&gt;189930 -->\n",
       "<g id=\"edge12\" class=\"edge\">\n",
       "<title>189929&#45;&gt;189930</title>\n",
       "<path fill=\"none\" stroke=\"black\" d=\"M146.02,-140.35C146.02,-131.93 146.02,-123.81 146.02,-116.13\"/>\n",
       "<polygon fill=\"black\" stroke=\"black\" points=\"149.52,-116.37 146.02,-106.37 142.52,-116.37 149.52,-116.37\"/>\n",
       "</g>\n",
       "<!-- 189943 -->\n",
       "<g id=\"node16\" class=\"node\">\n",
       "<title>189943</title>\n",
       "<ellipse fill=\"none\" stroke=\"black\" cx=\"1097.02\" cy=\"-999.31\" rx=\"152.91\" ry=\"250.67\"/>\n",
       "<text text-anchor=\"middle\" x=\"1097.02\" y=\"-1159.26\" font-family=\"Times,serif\" font-size=\"14.00\">Анна Горланова</text>\n",
       "<text text-anchor=\"middle\" x=\"1097.02\" y=\"-1142.76\" font-family=\"Times,serif\" font-size=\"14.00\">2024&#45;08&#45;29 14:54:49</text>\n",
       "<text text-anchor=\"middle\" x=\"1097.02\" y=\"-1126.26\" font-family=\"Times,serif\" font-size=\"14.00\">Этой пачки должно хватать на</text>\n",
       "<text text-anchor=\"middle\" x=\"1097.02\" y=\"-1109.76\" font-family=\"Times,serif\" font-size=\"14.00\">22 дня ему. Корм</text>\n",
       "<text text-anchor=\"middle\" x=\"1097.02\" y=\"-1093.26\" font-family=\"Times,serif\" font-size=\"14.00\">низкозерновой. Могу предложить</text>\n",
       "<text text-anchor=\"middle\" x=\"1097.02\" y=\"-1076.76\" font-family=\"Times,serif\" font-size=\"14.00\">перевести на беззерновую</text>\n",
       "<text text-anchor=\"middle\" x=\"1097.02\" y=\"-1060.26\" font-family=\"Times,serif\" font-size=\"14.00\">линейку с более высокой</text>\n",
       "<text text-anchor=\"middle\" x=\"1097.02\" y=\"-1043.76\" font-family=\"Times,serif\" font-size=\"14.00\">калорийностью. Ну и покупать</text>\n",
       "<text text-anchor=\"middle\" x=\"1097.02\" y=\"-1027.26\" font-family=\"Times,serif\" font-size=\"14.00\">на трендиоле и сразу 5 кг, так</text>\n",
       "<text text-anchor=\"middle\" x=\"1097.02\" y=\"-1010.76\" font-family=\"Times,serif\" font-size=\"14.00\">дешевле выходит Корма</text>\n",
       "<text text-anchor=\"middle\" x=\"1097.02\" y=\"-994.26\" font-family=\"Times,serif\" font-size=\"14.00\">примерные скинула их больше</text>\n",
       "<text text-anchor=\"middle\" x=\"1097.02\" y=\"-977.76\" font-family=\"Times,serif\" font-size=\"14.00\">(ну и есть ли заболевания</text>\n",
       "<text text-anchor=\"middle\" x=\"1097.02\" y=\"-961.26\" font-family=\"Times,serif\" font-size=\"14.00\">какие то у кота, тоже надо</text>\n",
       "<text text-anchor=\"middle\" x=\"1097.02\" y=\"-944.76\" font-family=\"Times,serif\" font-size=\"14.00\">учитывать) На развес брать не</text>\n",
       "<text text-anchor=\"middle\" x=\"1097.02\" y=\"-928.26\" font-family=\"Times,serif\" font-size=\"14.00\">рекомендую, тк корм имеет</text>\n",
       "<text text-anchor=\"middle\" x=\"1097.02\" y=\"-911.76\" font-family=\"Times,serif\" font-size=\"14.00\">свойства портиться и запах</text>\n",
       "<text text-anchor=\"middle\" x=\"1097.02\" y=\"-895.26\" font-family=\"Times,serif\" font-size=\"14.00\">вывестривается, что снижает</text>\n",
       "<text text-anchor=\"middle\" x=\"1097.02\" y=\"-878.76\" font-family=\"Times,serif\" font-size=\"14.00\">поедаемость корма, а в турции</text>\n",
       "<text text-anchor=\"middle\" x=\"1097.02\" y=\"-862.26\" font-family=\"Times,serif\" font-size=\"14.00\">жесть какая то с хранением</text>\n",
       "<text text-anchor=\"middle\" x=\"1097.02\" y=\"-845.76\" font-family=\"Times,serif\" font-size=\"14.00\">этих кормов, стоят открытые</text>\n",
       "<text text-anchor=\"middle\" x=\"1097.02\" y=\"-829.26\" font-family=\"Times,serif\" font-size=\"14.00\">все на такой жаре</text>\n",
       "</g>\n",
       "<!-- 189933&#45;&gt;189943 -->\n",
       "<g id=\"edge15\" class=\"edge\">\n",
       "<title>189933&#45;&gt;189943</title>\n",
       "<path fill=\"none\" stroke=\"black\" d=\"M1217.74,-1332.36C1208.66,-1307.38 1194.47,-1268.37 1178.98,-1225.74\"/>\n",
       "<polygon fill=\"black\" stroke=\"black\" points=\"1182.34,-1224.76 1175.64,-1216.56 1175.76,-1227.15 1182.34,-1224.76\"/>\n",
       "</g>\n",
       "<!-- 189944 -->\n",
       "<g id=\"node17\" class=\"node\">\n",
       "<title>189944</title>\n",
       "<ellipse fill=\"none\" stroke=\"black\" cx=\"1360.02\" cy=\"-999.31\" rx=\"92.45\" ry=\"28.99\"/>\n",
       "<text text-anchor=\"middle\" x=\"1360.02\" y=\"-1002.51\" font-family=\"Times,serif\" font-size=\"14.00\">Анна Горланова</text>\n",
       "<text text-anchor=\"middle\" x=\"1360.02\" y=\"-986.01\" font-family=\"Times,serif\" font-size=\"14.00\">2024&#45;08&#45;29 14:54:49</text>\n",
       "</g>\n",
       "<!-- 189933&#45;&gt;189944 -->\n",
       "<g id=\"edge16\" class=\"edge\">\n",
       "<title>189933&#45;&gt;189944</title>\n",
       "<path fill=\"none\" stroke=\"black\" d=\"M1238.38,-1332.36C1261.85,-1268.29 1319.11,-1111.97 1345.84,-1039.01\"/>\n",
       "<polygon fill=\"black\" stroke=\"black\" points=\"1349.03,-1040.47 1349.19,-1029.87 1342.46,-1038.06 1349.03,-1040.47\"/>\n",
       "</g>\n",
       "<!-- 189945 -->\n",
       "<g id=\"node18\" class=\"node\">\n",
       "<title>189945</title>\n",
       "<ellipse fill=\"none\" stroke=\"black\" cx=\"1563.02\" cy=\"-999.31\" rx=\"92.45\" ry=\"28.99\"/>\n",
       "<text text-anchor=\"middle\" x=\"1563.02\" y=\"-1002.51\" font-family=\"Times,serif\" font-size=\"14.00\">Анна Горланова</text>\n",
       "<text text-anchor=\"middle\" x=\"1563.02\" y=\"-986.01\" font-family=\"Times,serif\" font-size=\"14.00\">2024&#45;08&#45;29 14:54:50</text>\n",
       "</g>\n",
       "<!-- 189933&#45;&gt;189945 -->\n",
       "<g id=\"edge17\" class=\"edge\">\n",
       "<title>189933&#45;&gt;189945</title>\n",
       "<path fill=\"none\" stroke=\"black\" d=\"M1298.95,-1342.01C1349.94,-1325.37 1417.16,-1296.34 1461.02,-1249.98 1517.97,-1189.77 1544.93,-1093.45 1556.15,-1039.75\"/>\n",
       "<polygon fill=\"black\" stroke=\"black\" points=\"1559.54,-1040.62 1558.07,-1030.13 1552.68,-1039.25 1559.54,-1040.62\"/>\n",
       "</g>\n",
       "<!-- 189949 -->\n",
       "<g id=\"node19\" class=\"node\">\n",
       "<title>189949</title>\n",
       "<ellipse fill=\"none\" stroke=\"black\" cx=\"1097.02\" cy=\"-636.98\" rx=\"124.8\" ry=\"75.66\"/>\n",
       "<text text-anchor=\"middle\" x=\"1097.02\" y=\"-673.18\" font-family=\"Times,serif\" font-size=\"14.00\">Анна Горланова</text>\n",
       "<text text-anchor=\"middle\" x=\"1097.02\" y=\"-656.68\" font-family=\"Times,serif\" font-size=\"14.00\">2024&#45;08&#45;29 14:59:40</text>\n",
       "<text text-anchor=\"middle\" x=\"1097.02\" y=\"-640.18\" font-family=\"Times,serif\" font-size=\"14.00\">Ну и переводить надо</text>\n",
       "<text text-anchor=\"middle\" x=\"1097.02\" y=\"-623.68\" font-family=\"Times,serif\" font-size=\"14.00\">правильно, есть схемы</text>\n",
       "<text text-anchor=\"middle\" x=\"1097.02\" y=\"-607.18\" font-family=\"Times,serif\" font-size=\"14.00\">добавления нового корма к</text>\n",
       "<text text-anchor=\"middle\" x=\"1097.02\" y=\"-590.68\" font-family=\"Times,serif\" font-size=\"14.00\">старому</text>\n",
       "</g>\n",
       "<!-- 189943&#45;&gt;189949 -->\n",
       "<g id=\"edge18\" class=\"edge\">\n",
       "<title>189943&#45;&gt;189949</title>\n",
       "<path fill=\"none\" stroke=\"black\" d=\"M1097.02,-748.54C1097.02,-740.11 1097.02,-731.93 1097.02,-724.08\"/>\n",
       "<polygon fill=\"black\" stroke=\"black\" points=\"1100.52,-724.34 1097.02,-714.34 1093.52,-724.34 1100.52,-724.34\"/>\n",
       "</g>\n",
       "</g>\n",
       "</svg>\n"
      ],
      "text/plain": [
       "<graphviz.graphs.Digraph at 0x10feb6a20>"
      ]
     },
     "metadata": {},
     "output_type": "display_data"
    }
   ],
   "source": [
    "# Visualize the messages\n",
    "dot = visualize_topic_tree(topic_msgs)\n",
    "dot.attr(size='20, 40')  # Width and height (in inches)\n",
    "dot.attr(rankdir='TB')  # Top to bottom layout\n",
    "dot.render('messages_tree', format='png', cleanup=True)  # save as PNG\n",
    "display(dot)  # to display in Jupyter notebook\n"
   ]
  },
  {
   "cell_type": "code",
   "execution_count": 29,
   "id": "9dd99d33",
   "metadata": {},
   "outputs": [
    {
     "name": "stdout",
     "output_type": "stream",
     "text": [
      "len str =30356\n"
     ]
    }
   ],
   "source": [
    "import json\n",
    "# Custom serialization function for datetime objects\n",
    "def date_to_json_serialize(obj):\n",
    "    if isinstance(obj, datetime):\n",
    "        return obj.isoformat()  # or obj.strftime('%Y-%m-%d %H:%M:%S')\n",
    "    raise TypeError(\"Type not serializable\")\n",
    "\n",
    "subset = msgs_list[-100:] # last n messages\n",
    "dss = [msg.model_dump() for msg in subset]\n",
    "json_string = json.dumps(dss, default=date_to_json_serialize, ensure_ascii=False, indent=4)\n",
    "print(f'len str ={len(json_string)}')\n",
    "pyclip.copy(json_string) # copy to clipboard for feeding to LLM"
   ]
  },
  {
   "cell_type": "code",
   "execution_count": 30,
   "id": "2d7feba3",
   "metadata": {},
   "outputs": [],
   "source": [
    "\n",
    "dd = (msg.model_dump() for msg in msgs_list)\n",
    "df = pd.DataFrame.from_dict(dd)"
   ]
  },
  {
   "cell_type": "code",
   "execution_count": 31,
   "id": "684b1852",
   "metadata": {},
   "outputs": [
    {
     "data": {
      "text/plain": [
       "(102050, 6)"
      ]
     },
     "execution_count": 31,
     "metadata": {},
     "output_type": "execute_result"
    }
   ],
   "source": [
    "df.shape"
   ]
  },
  {
   "cell_type": "code",
   "execution_count": 10,
   "id": "4958e722",
   "metadata": {},
   "outputs": [
    {
     "data": {
      "text/plain": [
       "msg_id                      int64\n",
       "msg_date           datetime64[ns]\n",
       "user_name                  object\n",
       "user_id                    object\n",
       "reply_to_msg_id           float64\n",
       "msg_text                   object\n",
       "dtype: object"
      ]
     },
     "execution_count": 10,
     "metadata": {},
     "output_type": "execute_result"
    }
   ],
   "source": [
    "df.dtypes"
   ]
  },
  {
   "cell_type": "markdown",
   "id": "96eb0c40",
   "metadata": {},
   "source": [
    "### Overall statistics"
   ]
  },
  {
   "cell_type": "code",
   "execution_count": 11,
   "id": "de700350",
   "metadata": {},
   "outputs": [
    {
     "data": {
      "text/html": [
       "<div>\n",
       "<style scoped>\n",
       "    .dataframe tbody tr th:only-of-type {\n",
       "        vertical-align: middle;\n",
       "    }\n",
       "\n",
       "    .dataframe tbody tr th {\n",
       "        vertical-align: top;\n",
       "    }\n",
       "\n",
       "    .dataframe thead th {\n",
       "        text-align: right;\n",
       "    }\n",
       "</style>\n",
       "<table border=\"1\" class=\"dataframe\">\n",
       "  <thead>\n",
       "    <tr style=\"text-align: right;\">\n",
       "      <th></th>\n",
       "      <th>Metric name</th>\n",
       "      <th>Value</th>\n",
       "    </tr>\n",
       "  </thead>\n",
       "  <tbody>\n",
       "    <tr>\n",
       "      <th>0</th>\n",
       "      <td>Number or messages</td>\n",
       "      <td>102050</td>\n",
       "    </tr>\n",
       "    <tr>\n",
       "      <th>1</th>\n",
       "      <td>Date interval</td>\n",
       "      <td>from 2023-01-01 to 2024-08-25</td>\n",
       "    </tr>\n",
       "    <tr>\n",
       "      <th>2</th>\n",
       "      <td>Users count</td>\n",
       "      <td>791</td>\n",
       "    </tr>\n",
       "    <tr>\n",
       "      <th>3</th>\n",
       "      <td>Avg messages per day</td>\n",
       "      <td>169.5</td>\n",
       "    </tr>\n",
       "  </tbody>\n",
       "</table>\n",
       "</div>"
      ],
      "text/plain": [
       "            Metric name                          Value\n",
       "0    Number or messages                         102050\n",
       "1         Date interval  from 2023-01-01 to 2024-08-25\n",
       "2           Users count                            791\n",
       "3  Avg messages per day                          169.5"
      ]
     },
     "execution_count": 11,
     "metadata": {},
     "output_type": "execute_result"
    }
   ],
   "source": [
    "df['dummi'] = 1 # there should be less ugly way to get different aggegations without grouping\n",
    "agg_df = df.groupby('dummi').aggregate({'msg_id':'count','msg_date':['min','max'], 'user_id': 'nunique'}).reset_index()\n",
    "msgs_cnt = agg_df[( 'msg_id', 'count')][0]\n",
    "min_date = agg_df[('msg_date', 'min')][0]\n",
    "max_date = agg_df[('msg_date', 'max')][0]\n",
    "number_of_days = (max_date-min_date).days\n",
    "unique_users =  agg_df[('user_id', 'nunique')][0]\n",
    "del df['dummi'] \n",
    "cols = [\"Metric name\", \"Value\"]\n",
    "dt_format = \"%Y-%m-%d\"\n",
    "d_report = [\n",
    "    {cols[0]: \"Number or messages\", cols[1]: msgs_cnt},\n",
    "    {cols[0]: \"Date interval\", cols[1]: f'from {min_date.strftime(dt_format)} to {max_date.strftime(dt_format)}' },\n",
    "    {cols[0]: \"Users count\", cols[1]: unique_users },\n",
    "    {cols[0]: \"Avg messages per day\", cols[1]: round(msgs_cnt/number_of_days , 1) },\n",
    "    ]\n",
    "pd.DataFrame.from_dict(d_report)\n",
    "\n",
    "\n",
    "\n",
    "\n"
   ]
  },
  {
   "cell_type": "markdown",
   "id": "7deff39f",
   "metadata": {},
   "source": [
    "### assign date range if you want to restict dataset to some particular period for futher analysis, or just ignore the cell below "
   ]
  },
  {
   "cell_type": "code",
   "execution_count": 31,
   "id": "e55c25ed",
   "metadata": {
    "tags": [
     "parameters"
    ]
   },
   "outputs": [
    {
     "name": "stdout",
     "output_type": "stream",
     "text": [
      "number_of_days=8\n"
     ]
    },
    {
     "data": {
      "text/plain": [
       "(307, 7)"
      ]
     },
     "execution_count": 31,
     "metadata": {},
     "output_type": "execute_result"
    }
   ],
   "source": [
    "\n",
    "# tz = timezone('Europe/Istanbul')\n",
    "dt_range = (pd.Timestamp(year=2024, month=8, day=23), pd.Timestamp(datetime.now()))   # , tz=tm_zn        \n",
    "number_of_days = (dt_range[1]-dt_range[0]).days\n",
    "print(f'{number_of_days=}')\n",
    "df = df[df.msg_date.between(*dt_range)]\n",
    "df.shape\n"
   ]
  },
  {
   "cell_type": "code",
   "execution_count": 11,
   "id": "059d3801",
   "metadata": {},
   "outputs": [
    {
     "data": {
      "text/plain": [
       "ObjectApiResponse({'name': 'b5426ee70422', 'cluster_name': 'docker-cluster', 'cluster_uuid': 'PFgTgTLvSU63_psQqF3g2w', 'version': {'number': '8.4.3', 'build_flavor': 'default', 'build_type': 'docker', 'build_hash': '42f05b9372a9a4a470db3b52817899b99a76ee73', 'build_date': '2022-10-04T07:17:24.662462378Z', 'build_snapshot': False, 'lucene_version': '9.3.0', 'minimum_wire_compatibility_version': '7.17.0', 'minimum_index_compatibility_version': '7.0.0'}, 'tagline': 'You Know, for Search'})"
      ]
     },
     "execution_count": 11,
     "metadata": {},
     "output_type": "execute_result"
    }
   ],
   "source": [
    "from elasticsearch import Elasticsearch\n",
    "es_client = Elasticsearch('http://localhost:9200') \n",
    "\n",
    "es_client.info()\n"
   ]
  },
  {
   "cell_type": "markdown",
   "id": "829f5429",
   "metadata": {},
   "source": [
    "\n",
    "Step 4: Create Mappings and Index\n",
    "\n",
    "    Mapping is the process of defining how a document, and the fields it contains, are stored and indexed.\n",
    "\n",
    "    Each document is a collection of fields, which each have their own data type.\n",
    "\n",
    "    We can compare mapping to a database schema in how it describes the fields and properties that documents hold, the datatype of each field (e.g., string, integer, or date), and how those fields should be indexed and stored\n",
    "\n"
   ]
  },
  {
   "cell_type": "code",
   "execution_count": 2,
   "id": "25d26cde",
   "metadata": {},
   "outputs": [
    {
     "ename": "NameError",
     "evalue": "name 'read_index_settings' is not defined",
     "output_type": "error",
     "traceback": [
      "\u001b[0;31m---------------------------------------------------------------------------\u001b[0m",
      "\u001b[0;31mNameError\u001b[0m                                 Traceback (most recent call last)",
      "Cell \u001b[0;32mIn[2], line 5\u001b[0m\n\u001b[1;32m      3\u001b[0m index_name \u001b[38;5;241m=\u001b[39m \u001b[38;5;124m\"\u001b[39m\u001b[38;5;124mtelegram-messages\u001b[39m\u001b[38;5;124m\"\u001b[39m\n\u001b[1;32m      4\u001b[0m index_settings_messages \u001b[38;5;241m=\u001b[39m cfg\u001b[38;5;241m.\u001b[39mread_index_settings(index_name)\n\u001b[0;32m----> 5\u001b[0m \u001b[38;5;28mprint\u001b[39m(\u001b[43mread_index_settings\u001b[49m)\n",
      "\u001b[0;31mNameError\u001b[0m: name 'read_index_settings' is not defined"
     ]
    }
   ],
   "source": [
    "import config as cfg\n",
    "\n",
    "index_name = \"telegram-messages\"\n",
    "index_settings_messages = cfg.read_index_settings(index_name)\n",
    "print(index_settings_messages)\n",
    "\n",
    "\n"
   ]
  },
  {
   "cell_type": "code",
   "execution_count": 4,
   "id": "be9986be",
   "metadata": {},
   "outputs": [],
   "source": [
    "index_settings_topics = cfg.topics_index_settings()"
   ]
  },
  {
   "cell_type": "code",
   "execution_count": 106,
   "id": "23a893e4",
   "metadata": {},
   "outputs": [
    {
     "data": {
      "text/plain": [
       "ObjectApiResponse({'acknowledged': True, 'shards_acknowledged': True, 'index': 'telegram-messages'})"
      ]
     },
     "execution_count": 106,
     "metadata": {},
     "output_type": "execute_result"
    }
   ],
   "source": [
    "index_name = \"telegram-messages\"\n",
    "\n",
    "es_client.indices.delete(index=index_name, ignore_unavailable=True)\n",
    "es_client.indices.create(index=index_name, body=index_settings)\n"
   ]
  },
  {
   "cell_type": "code",
   "execution_count": 10,
   "id": "edfbfff1",
   "metadata": {},
   "outputs": [],
   "source": [
    "subset = [x for x in msgs if x['msg_date']> datetime(2024,8, 1)]"
   ]
  },
  {
   "cell_type": "code",
   "execution_count": 109,
   "id": "0431075f",
   "metadata": {},
   "outputs": [
    {
     "name": "stderr",
     "output_type": "stream",
     "text": [
      "100%|██████████| 5246/5246 [00:26<00:00, 196.42it/s]\n"
     ]
    }
   ],
   "source": [
    "from  tqdm import tqdm\n",
    "import tiktoken\n",
    "encoding = tiktoken.encoding_for_model(\"gpt-4o-mini\")\n",
    "for doc in tqdm(subset):\n",
    "    msg_text = doc[\"msg_text\"]\n",
    "    # Transforming the title into an embedding using the model\n",
    "    # doc[\"msg_text_vector\"] = model_st.encode(msg_text).tolist()\n",
    "    doc['len'] = len(msg_text)\n",
    "    doc[\"num_tokens\"] = len(encoding.encode(msg_text))\n",
    "    es_client.index(index=index_name, document=doc)\n"
   ]
  },
  {
   "cell_type": "code",
   "execution_count": 124,
   "id": "c96a1489",
   "metadata": {},
   "outputs": [
    {
     "data": {
      "text/plain": [
       "ObjectApiResponse({'count': 5246, '_shards': {'total': 1, 'successful': 1, 'skipped': 0, 'failed': 0}})"
      ]
     },
     "execution_count": 124,
     "metadata": {},
     "output_type": "execute_result"
    }
   ],
   "source": [
    "es_client.count(index=index_name)"
   ]
  },
  {
   "cell_type": "markdown",
   "id": "d6d828ab",
   "metadata": {},
   "source": [
    "Test end users query"
   ]
  },
  {
   "cell_type": "code",
   "execution_count": 101,
   "id": "add525fe",
   "metadata": {},
   "outputs": [],
   "source": [
    "search_term = \"криптообменники\"\n",
    "knn_query = {\n",
    "    \"field\": \"msg_text_vector\",\n",
    "    \"query_vector\": model_st.encode(search_term),\n",
    "    \"k\": 5,\n",
    "    \"num_candidates\": 10000, \n",
    "}"
   ]
  },
  {
   "cell_type": "code",
   "execution_count": 145,
   "id": "750a42b1",
   "metadata": {},
   "outputs": [],
   "source": [
    "search_term = \"сплав по реке\"\n",
    "text_query = {\n",
    "    \"query\": {\n",
    "        \"match\": {\n",
    "            \"msg_text\": search_term\n",
    "        }\n",
    "    },\n",
    "    \"size\": 20  # Adjust this number to include more documents\n",
    "}"
   ]
  },
  {
   "cell_type": "code",
   "execution_count": null,
   "id": "27a016d3",
   "metadata": {},
   "outputs": [],
   "source": []
  },
  {
   "cell_type": "code",
   "execution_count": 146,
   "id": "9bffea7a",
   "metadata": {},
   "outputs": [
    {
     "name": "stderr",
     "output_type": "stream",
     "text": [
      "/var/folders/_s/0tpy0fpj29nd_8qm0ldhz6nw0000gn/T/ipykernel_52819/4052011558.py:2: DeprecationWarning: Received 'source' via a specific parameter in the presence of a 'body' parameter, which is deprecated and will be removed in a future version. Instead, use only 'body' or only specific parameters.\n",
      "  res = es_client.search(index=index_name, body=text_query, source=[\"msg_text\", \"msg_date\"])\n"
     ]
    },
    {
     "data": {
      "text/plain": [
       "{'total': {'value': 3, 'relation': 'eq'},\n",
       " 'max_score': 7.9194794,\n",
       " 'hits': [{'_index': 'telegram-messages',\n",
       "   '_id': 'J_1XmpEBhq3eaWQ52YBG',\n",
       "   '_score': 7.9194794,\n",
       "   '_source': {'msg_date': '2024-08-09T12:56:43',\n",
       "    'msg_text': 'Проблемы есть, но в сравнении с РФ незначительные, потому что их можно тут сплавить бигбиту или чему-то такому'}},\n",
       "  {'_index': 'telegram-messages',\n",
       "   '_id': '2v1XmpEBhq3eaWQ5yHy9',\n",
       "   '_score': 5.9018955,\n",
       "   '_source': {'msg_date': '2024-08-06T13:19:16',\n",
       "    'msg_text': 'А кто-то ходил на Тунектепе недавно, ато вижу рекламу в канале, что был поход. Почему-то думал, что там закрыто после авариию Через русло реки значит тоже можно снова зайти?'}},\n",
       "  {'_index': 'telegram-messages',\n",
       "   '_id': '1v1XmpEBhq3eaWQ5uXob',\n",
       "   '_score': 1.777031,\n",
       "   '_source': {'msg_date': '2024-08-03T16:56:30',\n",
       "    'msg_text': 'В том году ездили осенью. Можно договориться на месте, можно предварительно написать в ватсап. Они часов с 8-9 начинают работать, лучше к этому времени приехать. Маршрут стандартный, но можно выбрать различные опции: джиппинг, спуск на тарзанке, помесить грязь на квадрациклах, может еще что-то было. Причем для всей группы сплав будет одинаковым, просто например в начале маршрута кто выбрал джиппинг - поедет на открытом джипе, а кто нет - на микроавтобусе 😀 Плюс там 1 остановка будет, с рестораном (оплачивается отдельно), а кто-то будет на квадроциклах по грязи кататься. Как по мне все эти доп. развлечения так себе, лучше просто передохнуть на остановке и искупаться в речке, учтите только что вода холодная будет, а намокните  100%. В конце маршрута возвращаетесь в место где машину оставили, вас там покормят. Нас тогда причем бесплатно покормили, так и не поняли было это включено в стоимость или нет 😀. Стоимость была 750 лир на человека'}}]}"
      ]
     },
     "execution_count": 146,
     "metadata": {},
     "output_type": "execute_result"
    }
   ],
   "source": [
    "# res = es_client.search(index=index_name, knn=knn_query, source=[\"msg_text\", \"msg_date\"])\n",
    "res = es_client.search(index=index_name, body=text_query, source=[\"msg_text\", \"msg_date\"])\n",
    "res[\"hits\"] #[\"hits\"]"
   ]
  }
 ],
 "metadata": {
  "kernelspec": {
   "display_name": "Python 3 (ipykernel)",
   "language": "python",
   "name": "python3"
  },
  "language_info": {
   "codemirror_mode": {
    "name": "ipython",
    "version": 3
   },
   "file_extension": ".py",
   "mimetype": "text/x-python",
   "name": "python",
   "nbconvert_exporter": "python",
   "pygments_lexer": "ipython3",
   "version": "3.12.4"
  }
 },
 "nbformat": 4,
 "nbformat_minor": 5
}
