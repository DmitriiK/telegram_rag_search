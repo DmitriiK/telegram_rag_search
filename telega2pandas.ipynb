{
 "cells": [
  {
   "cell_type": "code",
   "execution_count": 1,
   "id": "28c3ea71",
   "metadata": {},
   "outputs": [
    {
     "name": "stderr",
     "output_type": "stream",
     "text": [
      "102050it [00:01, 100135.53it/s]\n"
     ]
    }
   ],
   "source": [
    "from datetime import datetime\n",
    "\n",
    "import pandas as pd\n",
    "import pyclip\n",
    "\n",
    "from read_telega_dump import telega_dump_parse_essential"
   ]
  },
  {
   "cell_type": "code",
   "execution_count": 28,
   "id": "addb0330",
   "metadata": {},
   "outputs": [
    {
     "name": "stderr",
     "output_type": "stream",
     "text": [
      "102050it [00:03, 31024.34it/s]\n"
     ]
    },
    {
     "data": {
      "text/plain": [
       "TelegaMessage(msg_id=80855, msg_date=datetime.datetime(2023, 1, 1, 10, 49, 43), user_name='Elmanov Anton', user_id='user881257459', reply_to_msg_id=None, msg_text='Если кто-то планировал на канатку в Сарысу.')"
      ]
     },
     "execution_count": 28,
     "metadata": {},
     "output_type": "execute_result"
    }
   ],
   "source": [
    "dump_path = r\"/Users/dklmn/Documents/data/telega/result.json\"\n",
    "msgs_list = list(telega_dump_parse_essential(dump_path=dump_path))\n",
    "# note: for data, taken from \"export chat history\", we do not have number of reactions \n",
    "msgs_list[0]\n"
   ]
  },
  {
   "cell_type": "code",
   "execution_count": 29,
   "id": "9dd99d33",
   "metadata": {},
   "outputs": [
    {
     "name": "stdout",
     "output_type": "stream",
     "text": [
      "len str =30356\n"
     ]
    }
   ],
   "source": [
    "import json\n",
    "# Custom serialization function for datetime objects\n",
    "def date_to_json_serialize(obj):\n",
    "    if isinstance(obj, datetime):\n",
    "        return obj.isoformat()  # or obj.strftime('%Y-%m-%d %H:%M:%S')\n",
    "    raise TypeError(\"Type not serializable\")\n",
    "\n",
    "subset = msgs_list[-100:] # last n messages\n",
    "dss = [msg.model_dump() for msg in subset]\n",
    "json_string = json.dumps(dss, default=date_to_json_serialize, ensure_ascii=False, indent=4)\n",
    "print(f'len str ={len(json_string)}')\n",
    "pyclip.copy(json_string) # copy to clipboard for feeding to LLM"
   ]
  },
  {
   "cell_type": "code",
   "execution_count": 30,
   "id": "2d7feba3",
   "metadata": {},
   "outputs": [],
   "source": [
    "\n",
    "dd = (msg.model_dump() for msg in msgs_list)\n",
    "df = pd.DataFrame.from_dict(dd)"
   ]
  },
  {
   "cell_type": "code",
   "execution_count": 31,
   "id": "684b1852",
   "metadata": {},
   "outputs": [
    {
     "data": {
      "text/plain": [
       "(102050, 6)"
      ]
     },
     "execution_count": 31,
     "metadata": {},
     "output_type": "execute_result"
    }
   ],
   "source": [
    "df.shape"
   ]
  },
  {
   "cell_type": "code",
   "execution_count": 10,
   "id": "4958e722",
   "metadata": {},
   "outputs": [
    {
     "data": {
      "text/plain": [
       "msg_id                      int64\n",
       "msg_date           datetime64[ns]\n",
       "user_name                  object\n",
       "user_id                    object\n",
       "reply_to_msg_id           float64\n",
       "msg_text                   object\n",
       "dtype: object"
      ]
     },
     "execution_count": 10,
     "metadata": {},
     "output_type": "execute_result"
    }
   ],
   "source": [
    "df.dtypes"
   ]
  },
  {
   "cell_type": "markdown",
   "id": "96eb0c40",
   "metadata": {},
   "source": [
    "### Overall statistics"
   ]
  },
  {
   "cell_type": "code",
   "execution_count": 11,
   "id": "de700350",
   "metadata": {},
   "outputs": [
    {
     "data": {
      "text/html": [
       "<div>\n",
       "<style scoped>\n",
       "    .dataframe tbody tr th:only-of-type {\n",
       "        vertical-align: middle;\n",
       "    }\n",
       "\n",
       "    .dataframe tbody tr th {\n",
       "        vertical-align: top;\n",
       "    }\n",
       "\n",
       "    .dataframe thead th {\n",
       "        text-align: right;\n",
       "    }\n",
       "</style>\n",
       "<table border=\"1\" class=\"dataframe\">\n",
       "  <thead>\n",
       "    <tr style=\"text-align: right;\">\n",
       "      <th></th>\n",
       "      <th>Metric name</th>\n",
       "      <th>Value</th>\n",
       "    </tr>\n",
       "  </thead>\n",
       "  <tbody>\n",
       "    <tr>\n",
       "      <th>0</th>\n",
       "      <td>Number or messages</td>\n",
       "      <td>102050</td>\n",
       "    </tr>\n",
       "    <tr>\n",
       "      <th>1</th>\n",
       "      <td>Date interval</td>\n",
       "      <td>from 2023-01-01 to 2024-08-25</td>\n",
       "    </tr>\n",
       "    <tr>\n",
       "      <th>2</th>\n",
       "      <td>Users count</td>\n",
       "      <td>791</td>\n",
       "    </tr>\n",
       "    <tr>\n",
       "      <th>3</th>\n",
       "      <td>Avg messages per day</td>\n",
       "      <td>169.5</td>\n",
       "    </tr>\n",
       "  </tbody>\n",
       "</table>\n",
       "</div>"
      ],
      "text/plain": [
       "            Metric name                          Value\n",
       "0    Number or messages                         102050\n",
       "1         Date interval  from 2023-01-01 to 2024-08-25\n",
       "2           Users count                            791\n",
       "3  Avg messages per day                          169.5"
      ]
     },
     "execution_count": 11,
     "metadata": {},
     "output_type": "execute_result"
    }
   ],
   "source": [
    "df['dummi'] = 1 # there should be less ugly way to get different aggegations without grouping\n",
    "agg_df = df.groupby('dummi').aggregate({'msg_id':'count','msg_date':['min','max'], 'user_id': 'nunique'}).reset_index()\n",
    "msgs_cnt = agg_df[( 'msg_id', 'count')][0]\n",
    "min_date = agg_df[('msg_date', 'min')][0]\n",
    "max_date = agg_df[('msg_date', 'max')][0]\n",
    "number_of_days = (max_date-min_date).days\n",
    "unique_users =  agg_df[('user_id', 'nunique')][0]\n",
    "del df['dummi'] \n",
    "cols = [\"Metric name\", \"Value\"]\n",
    "dt_format = \"%Y-%m-%d\"\n",
    "d_report = [\n",
    "    {cols[0]: \"Number or messages\", cols[1]: msgs_cnt},\n",
    "    {cols[0]: \"Date interval\", cols[1]: f'from {min_date.strftime(dt_format)} to {max_date.strftime(dt_format)}' },\n",
    "    {cols[0]: \"Users count\", cols[1]: unique_users },\n",
    "    {cols[0]: \"Avg messages per day\", cols[1]: round(msgs_cnt/number_of_days , 1) },\n",
    "    ]\n",
    "pd.DataFrame.from_dict(d_report)\n",
    "\n",
    "\n",
    "\n",
    "\n"
   ]
  },
  {
   "cell_type": "markdown",
   "id": "7deff39f",
   "metadata": {},
   "source": [
    "### assign date range if you want to restict dataset to some particular period for futher analysis, or just ignore the cell below "
   ]
  },
  {
   "cell_type": "code",
   "execution_count": 31,
   "id": "e55c25ed",
   "metadata": {
    "tags": [
     "parameters"
    ]
   },
   "outputs": [
    {
     "name": "stdout",
     "output_type": "stream",
     "text": [
      "number_of_days=8\n"
     ]
    },
    {
     "data": {
      "text/plain": [
       "(307, 7)"
      ]
     },
     "execution_count": 31,
     "metadata": {},
     "output_type": "execute_result"
    }
   ],
   "source": [
    "\n",
    "# tz = timezone('Europe/Istanbul')\n",
    "dt_range = (pd.Timestamp(year=2024, month=8, day=23), pd.Timestamp(datetime.now()))   # , tz=tm_zn        \n",
    "number_of_days = (dt_range[1]-dt_range[0]).days\n",
    "print(f'{number_of_days=}')\n",
    "df = df[df.msg_date.between(*dt_range)]\n",
    "df.shape\n"
   ]
  },
  {
   "cell_type": "code",
   "execution_count": 32,
   "id": "6a2ed543",
   "metadata": {},
   "outputs": [
    {
     "data": {
      "text/html": [
       "<div>\n",
       "<style scoped>\n",
       "    .dataframe tbody tr th:only-of-type {\n",
       "        vertical-align: middle;\n",
       "    }\n",
       "\n",
       "    .dataframe tbody tr th {\n",
       "        vertical-align: top;\n",
       "    }\n",
       "\n",
       "    .dataframe thead th {\n",
       "        text-align: right;\n",
       "    }\n",
       "</style>\n",
       "<table border=\"1\" class=\"dataframe\">\n",
       "  <thead>\n",
       "    <tr style=\"text-align: right;\">\n",
       "      <th></th>\n",
       "      <th>msg_id</th>\n",
       "      <th>msg_date</th>\n",
       "      <th>user_name</th>\n",
       "      <th>user_id</th>\n",
       "      <th>reply_to_msg_id</th>\n",
       "      <th>msg_text</th>\n",
       "    </tr>\n",
       "  </thead>\n",
       "  <tbody>\n",
       "    <tr>\n",
       "      <th>0</th>\n",
       "      <td>80855</td>\n",
       "      <td>2023-01-01 10:49:43</td>\n",
       "      <td>Elmanov Anton</td>\n",
       "      <td>user881257459</td>\n",
       "      <td>NaN</td>\n",
       "      <td>Если кто-то планировал на канатку в Сарысу.</td>\n",
       "    </tr>\n",
       "    <tr>\n",
       "      <th>1</th>\n",
       "      <td>80856</td>\n",
       "      <td>2023-01-01 12:07:33</td>\n",
       "      <td>Vacum</td>\n",
       "      <td>user402560084</td>\n",
       "      <td>NaN</td>\n",
       "      <td></td>\n",
       "    </tr>\n",
       "    <tr>\n",
       "      <th>2</th>\n",
       "      <td>80857</td>\n",
       "      <td>2023-01-01 12:12:36</td>\n",
       "      <td>Товарищ Белка</td>\n",
       "      <td>user431001350</td>\n",
       "      <td>NaN</td>\n",
       "      <td></td>\n",
       "    </tr>\n",
       "    <tr>\n",
       "      <th>3</th>\n",
       "      <td>80858</td>\n",
       "      <td>2023-01-01 13:26:42</td>\n",
       "      <td>7amerlan</td>\n",
       "      <td>user494890771</td>\n",
       "      <td>NaN</td>\n",
       "      <td>кто уже был в lend of legends? когда лучше при...</td>\n",
       "    </tr>\n",
       "    <tr>\n",
       "      <th>4</th>\n",
       "      <td>80859</td>\n",
       "      <td>2023-01-01 13:56:52</td>\n",
       "      <td>Maria Kuznetsova</td>\n",
       "      <td>user872168334</td>\n",
       "      <td>NaN</td>\n",
       "      <td>кто-нибудь посмотрел уже аватара?\\nя так понял...</td>\n",
       "    </tr>\n",
       "    <tr>\n",
       "      <th>...</th>\n",
       "      <td>...</td>\n",
       "      <td>...</td>\n",
       "      <td>...</td>\n",
       "      <td>...</td>\n",
       "      <td>...</td>\n",
       "      <td>...</td>\n",
       "    </tr>\n",
       "    <tr>\n",
       "      <th>102045</th>\n",
       "      <td>188889</td>\n",
       "      <td>2024-08-25 15:23:53</td>\n",
       "      <td>I am</td>\n",
       "      <td>user751268618</td>\n",
       "      <td>188888.0</td>\n",
       "      <td>Это школа</td>\n",
       "    </tr>\n",
       "    <tr>\n",
       "      <th>102046</th>\n",
       "      <td>188890</td>\n",
       "      <td>2024-08-25 15:34:34</td>\n",
       "      <td>ShamilNerd</td>\n",
       "      <td>user495977250</td>\n",
       "      <td>NaN</td>\n",
       "      <td>Да? Как так. С виду просто обычный дом. Мне ка...</td>\n",
       "    </tr>\n",
       "    <tr>\n",
       "      <th>102047</th>\n",
       "      <td>188891</td>\n",
       "      <td>2024-08-25 15:39:52</td>\n",
       "      <td>Rasul</td>\n",
       "      <td>user555411</td>\n",
       "      <td>188888.0</td>\n",
       "      <td>Я такую аэрографию хотел себе на автомобиль.</td>\n",
       "    </tr>\n",
       "    <tr>\n",
       "      <th>102048</th>\n",
       "      <td>188892</td>\n",
       "      <td>2024-08-25 15:45:27</td>\n",
       "      <td>Ekaterina Elm</td>\n",
       "      <td>user52026345</td>\n",
       "      <td>NaN</td>\n",
       "      <td>Там курсы же вроде</td>\n",
       "    </tr>\n",
       "    <tr>\n",
       "      <th>102049</th>\n",
       "      <td>188893</td>\n",
       "      <td>2024-08-25 15:48:56</td>\n",
       "      <td>Vadim</td>\n",
       "      <td>user420385366</td>\n",
       "      <td>188884.0</td>\n",
       "      <td>Это что?</td>\n",
       "    </tr>\n",
       "  </tbody>\n",
       "</table>\n",
       "<p>102050 rows × 6 columns</p>\n",
       "</div>"
      ],
      "text/plain": [
       "        msg_id            msg_date         user_name        user_id  \\\n",
       "0        80855 2023-01-01 10:49:43     Elmanov Anton  user881257459   \n",
       "1        80856 2023-01-01 12:07:33             Vacum  user402560084   \n",
       "2        80857 2023-01-01 12:12:36     Товарищ Белка  user431001350   \n",
       "3        80858 2023-01-01 13:26:42          7amerlan  user494890771   \n",
       "4        80859 2023-01-01 13:56:52  Maria Kuznetsova  user872168334   \n",
       "...        ...                 ...               ...            ...   \n",
       "102045  188889 2024-08-25 15:23:53              I am  user751268618   \n",
       "102046  188890 2024-08-25 15:34:34        ShamilNerd  user495977250   \n",
       "102047  188891 2024-08-25 15:39:52             Rasul     user555411   \n",
       "102048  188892 2024-08-25 15:45:27     Ekaterina Elm   user52026345   \n",
       "102049  188893 2024-08-25 15:48:56             Vadim  user420385366   \n",
       "\n",
       "        reply_to_msg_id                                           msg_text  \n",
       "0                   NaN        Если кто-то планировал на канатку в Сарысу.  \n",
       "1                   NaN                                                     \n",
       "2                   NaN                                                     \n",
       "3                   NaN  кто уже был в lend of legends? когда лучше при...  \n",
       "4                   NaN  кто-нибудь посмотрел уже аватара?\\nя так понял...  \n",
       "...                 ...                                                ...  \n",
       "102045         188888.0                                          Это школа  \n",
       "102046              NaN  Да? Как так. С виду просто обычный дом. Мне ка...  \n",
       "102047         188888.0       Я такую аэрографию хотел себе на автомобиль.  \n",
       "102048              NaN                                 Там курсы же вроде  \n",
       "102049         188884.0                                           Это что?  \n",
       "\n",
       "[102050 rows x 6 columns]"
      ]
     },
     "execution_count": 32,
     "metadata": {},
     "output_type": "execute_result"
    }
   ],
   "source": [
    "df"
   ]
  },
  {
   "cell_type": "code",
   "execution_count": 11,
   "id": "059d3801",
   "metadata": {},
   "outputs": [
    {
     "data": {
      "text/plain": [
       "ObjectApiResponse({'name': 'b5426ee70422', 'cluster_name': 'docker-cluster', 'cluster_uuid': 'PFgTgTLvSU63_psQqF3g2w', 'version': {'number': '8.4.3', 'build_flavor': 'default', 'build_type': 'docker', 'build_hash': '42f05b9372a9a4a470db3b52817899b99a76ee73', 'build_date': '2022-10-04T07:17:24.662462378Z', 'build_snapshot': False, 'lucene_version': '9.3.0', 'minimum_wire_compatibility_version': '7.17.0', 'minimum_index_compatibility_version': '7.0.0'}, 'tagline': 'You Know, for Search'})"
      ]
     },
     "execution_count": 11,
     "metadata": {},
     "output_type": "execute_result"
    }
   ],
   "source": [
    "from elasticsearch import Elasticsearch\n",
    "es_client = Elasticsearch('http://localhost:9200') \n",
    "\n",
    "es_client.info()\n"
   ]
  },
  {
   "cell_type": "markdown",
   "id": "829f5429",
   "metadata": {},
   "source": [
    "\n",
    "Step 4: Create Mappings and Index\n",
    "\n",
    "    Mapping is the process of defining how a document, and the fields it contains, are stored and indexed.\n",
    "\n",
    "    Each document is a collection of fields, which each have their own data type.\n",
    "\n",
    "    We can compare mapping to a database schema in how it describes the fields and properties that documents hold, the datatype of each field (e.g., string, integer, or date), and how those fields should be indexed and stored\n",
    "\n"
   ]
  },
  {
   "cell_type": "code",
   "execution_count": 105,
   "id": "25d26cde",
   "metadata": {},
   "outputs": [],
   "source": [
    "index_settings = {\n",
    "    \"settings\": {\n",
    "        \"number_of_shards\": 1,\n",
    "        \"number_of_replicas\": 0\n",
    "    },\n",
    "    \"mappings\": {\n",
    "        \"properties\": {\n",
    "            \"msg_id\": {\"type\": \"integer\"},\n",
    "            \"reply_to_msg_id\": {\"type\": \"integer\"},\n",
    "            \"msg_text\": {\"type\": \"text\", \"analyzer\": \"russian\"},\n",
    "             \"msg_date\": {\n",
    "                \"type\": \"date\"\n",
    "                },\n",
    "           # \"msg_text_vector\": {\"type\": \"dense_vector\", \"dims\": 768, \"index\": True, \"similarity\": \"cosine\"},\n",
    "        }\n",
    "    }\n",
    "}\n"
   ]
  },
  {
   "cell_type": "code",
   "execution_count": 106,
   "id": "23a893e4",
   "metadata": {},
   "outputs": [
    {
     "data": {
      "text/plain": [
       "ObjectApiResponse({'acknowledged': True, 'shards_acknowledged': True, 'index': 'telegram-messages'})"
      ]
     },
     "execution_count": 106,
     "metadata": {},
     "output_type": "execute_result"
    }
   ],
   "source": [
    "index_name = \"telegram-messages\"\n",
    "\n",
    "es_client.indices.delete(index=index_name, ignore_unavailable=True)\n",
    "es_client.indices.create(index=index_name, body=index_settings)\n"
   ]
  },
  {
   "cell_type": "code",
   "execution_count": 108,
   "id": "edfbfff1",
   "metadata": {},
   "outputs": [],
   "source": [
    "subset = [x for x in raw_data if x['msg_date']> datetime(2024,8, 1)]"
   ]
  },
  {
   "cell_type": "code",
   "execution_count": 109,
   "id": "0431075f",
   "metadata": {},
   "outputs": [
    {
     "name": "stderr",
     "output_type": "stream",
     "text": [
      "100%|██████████| 5246/5246 [00:26<00:00, 196.42it/s]\n"
     ]
    }
   ],
   "source": [
    "from  tqdm import tqdm\n",
    "import tiktoken\n",
    "encoding = tiktoken.encoding_for_model(\"gpt-4o-mini\")\n",
    "for doc in tqdm(subset):\n",
    "    msg_text = doc[\"msg_text\"]\n",
    "    # Transforming the title into an embedding using the model\n",
    "    # doc[\"msg_text_vector\"] = model_st.encode(msg_text).tolist()\n",
    "    doc['len'] = len(msg_text)\n",
    "    doc[\"num_tokens\"] = len(encoding.encode(msg_text))\n",
    "    es_client.index(index=index_name, document=doc)\n"
   ]
  },
  {
   "cell_type": "code",
   "execution_count": 124,
   "id": "c96a1489",
   "metadata": {},
   "outputs": [
    {
     "data": {
      "text/plain": [
       "ObjectApiResponse({'count': 5246, '_shards': {'total': 1, 'successful': 1, 'skipped': 0, 'failed': 0}})"
      ]
     },
     "execution_count": 124,
     "metadata": {},
     "output_type": "execute_result"
    }
   ],
   "source": [
    "es_client.count(index=index_name)"
   ]
  },
  {
   "cell_type": "markdown",
   "id": "d6d828ab",
   "metadata": {},
   "source": [
    "Test end users query"
   ]
  },
  {
   "cell_type": "code",
   "execution_count": 101,
   "id": "add525fe",
   "metadata": {},
   "outputs": [],
   "source": [
    "search_term = \"криптообменники\"\n",
    "knn_query = {\n",
    "    \"field\": \"msg_text_vector\",\n",
    "    \"query_vector\": model_st.encode(search_term),\n",
    "    \"k\": 5,\n",
    "    \"num_candidates\": 10000, \n",
    "}"
   ]
  },
  {
   "cell_type": "code",
   "execution_count": 145,
   "id": "750a42b1",
   "metadata": {},
   "outputs": [],
   "source": [
    "search_term = \"сплав по реке\"\n",
    "text_query = {\n",
    "    \"query\": {\n",
    "        \"match\": {\n",
    "            \"msg_text\": search_term\n",
    "        }\n",
    "    },\n",
    "    \"size\": 20  # Adjust this number to include more documents\n",
    "}"
   ]
  },
  {
   "cell_type": "code",
   "execution_count": null,
   "id": "27a016d3",
   "metadata": {},
   "outputs": [],
   "source": []
  },
  {
   "cell_type": "code",
   "execution_count": 146,
   "id": "9bffea7a",
   "metadata": {},
   "outputs": [
    {
     "name": "stderr",
     "output_type": "stream",
     "text": [
      "/var/folders/_s/0tpy0fpj29nd_8qm0ldhz6nw0000gn/T/ipykernel_52819/4052011558.py:2: DeprecationWarning: Received 'source' via a specific parameter in the presence of a 'body' parameter, which is deprecated and will be removed in a future version. Instead, use only 'body' or only specific parameters.\n",
      "  res = es_client.search(index=index_name, body=text_query, source=[\"msg_text\", \"msg_date\"])\n"
     ]
    },
    {
     "data": {
      "text/plain": [
       "{'total': {'value': 3, 'relation': 'eq'},\n",
       " 'max_score': 7.9194794,\n",
       " 'hits': [{'_index': 'telegram-messages',\n",
       "   '_id': 'J_1XmpEBhq3eaWQ52YBG',\n",
       "   '_score': 7.9194794,\n",
       "   '_source': {'msg_date': '2024-08-09T12:56:43',\n",
       "    'msg_text': 'Проблемы есть, но в сравнении с РФ незначительные, потому что их можно тут сплавить бигбиту или чему-то такому'}},\n",
       "  {'_index': 'telegram-messages',\n",
       "   '_id': '2v1XmpEBhq3eaWQ5yHy9',\n",
       "   '_score': 5.9018955,\n",
       "   '_source': {'msg_date': '2024-08-06T13:19:16',\n",
       "    'msg_text': 'А кто-то ходил на Тунектепе недавно, ато вижу рекламу в канале, что был поход. Почему-то думал, что там закрыто после авариию Через русло реки значит тоже можно снова зайти?'}},\n",
       "  {'_index': 'telegram-messages',\n",
       "   '_id': '1v1XmpEBhq3eaWQ5uXob',\n",
       "   '_score': 1.777031,\n",
       "   '_source': {'msg_date': '2024-08-03T16:56:30',\n",
       "    'msg_text': 'В том году ездили осенью. Можно договориться на месте, можно предварительно написать в ватсап. Они часов с 8-9 начинают работать, лучше к этому времени приехать. Маршрут стандартный, но можно выбрать различные опции: джиппинг, спуск на тарзанке, помесить грязь на квадрациклах, может еще что-то было. Причем для всей группы сплав будет одинаковым, просто например в начале маршрута кто выбрал джиппинг - поедет на открытом джипе, а кто нет - на микроавтобусе 😀 Плюс там 1 остановка будет, с рестораном (оплачивается отдельно), а кто-то будет на квадроциклах по грязи кататься. Как по мне все эти доп. развлечения так себе, лучше просто передохнуть на остановке и искупаться в речке, учтите только что вода холодная будет, а намокните  100%. В конце маршрута возвращаетесь в место где машину оставили, вас там покормят. Нас тогда причем бесплатно покормили, так и не поняли было это включено в стоимость или нет 😀. Стоимость была 750 лир на человека'}}]}"
      ]
     },
     "execution_count": 146,
     "metadata": {},
     "output_type": "execute_result"
    }
   ],
   "source": [
    "# res = es_client.search(index=index_name, knn=knn_query, source=[\"msg_text\", \"msg_date\"])\n",
    "res = es_client.search(index=index_name, body=text_query, source=[\"msg_text\", \"msg_date\"])\n",
    "res[\"hits\"] #[\"hits\"]"
   ]
  }
 ],
 "metadata": {
  "kernelspec": {
   "display_name": "Python 3 (ipykernel)",
   "language": "python",
   "name": "python3"
  },
  "language_info": {
   "codemirror_mode": {
    "name": "ipython",
    "version": 3
   },
   "file_extension": ".py",
   "mimetype": "text/x-python",
   "name": "python",
   "nbconvert_exporter": "python",
   "pygments_lexer": "ipython3",
   "version": "3.12.4"
  }
 },
 "nbformat": 4,
 "nbformat_minor": 5
}
